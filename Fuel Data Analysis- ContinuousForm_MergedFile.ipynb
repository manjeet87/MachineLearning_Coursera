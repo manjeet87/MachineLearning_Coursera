{
 "cells": [
  {
   "cell_type": "code",
   "execution_count": 1,
   "metadata": {},
   "outputs": [
    {
     "ename": "ModuleNotFoundError",
     "evalue": "No module named 'ScriptFiles'",
     "output_type": "error",
     "traceback": [
      "\u001b[1;31m---------------------------------------------------------------------------\u001b[0m",
      "\u001b[1;31mModuleNotFoundError\u001b[0m                       Traceback (most recent call last)",
      "\u001b[1;32m<ipython-input-1-3c1017369c38>\u001b[0m in \u001b[0;36m<module>\u001b[1;34m()\u001b[0m\n\u001b[1;32m----> 1\u001b[1;33m \u001b[1;32mfrom\u001b[0m \u001b[0mScriptFiles\u001b[0m \u001b[1;32mimport\u001b[0m \u001b[0mDataCleaning_and_Prediction\u001b[0m \u001b[1;32mas\u001b[0m \u001b[0mdc\u001b[0m\u001b[1;33m\u001b[0m\u001b[0m\n\u001b[0m\u001b[0;32m      2\u001b[0m \u001b[1;32mfrom\u001b[0m \u001b[0mScriptFiles\u001b[0m \u001b[1;32mimport\u001b[0m \u001b[0mDataRead_and_PreClean\u001b[0m \u001b[1;32mas\u001b[0m \u001b[0mdr\u001b[0m\u001b[1;33m\u001b[0m\u001b[0m\n\u001b[0;32m      3\u001b[0m \u001b[1;32mimport\u001b[0m \u001b[0mpandas\u001b[0m \u001b[1;32mas\u001b[0m \u001b[0mpd\u001b[0m\u001b[1;33m\u001b[0m\u001b[0m\n\u001b[0;32m      4\u001b[0m \u001b[1;32mimport\u001b[0m \u001b[0mnumpy\u001b[0m \u001b[1;32mas\u001b[0m \u001b[0mnp\u001b[0m\u001b[1;33m\u001b[0m\u001b[0m\n\u001b[0;32m      5\u001b[0m \u001b[1;32mimport\u001b[0m \u001b[0mscipy\u001b[0m \u001b[1;32mas\u001b[0m \u001b[0msp\u001b[0m\u001b[1;33m\u001b[0m\u001b[0m\n",
      "\u001b[1;31mModuleNotFoundError\u001b[0m: No module named 'ScriptFiles'"
     ]
    }
   ],
   "source": [
    "from ScriptFiles import DataCleaning_and_Prediction as dc\n",
    "from ScriptFiles import DataRead_and_PreClean as dr\n",
    "import pandas as pd\n",
    "import numpy as np\n",
    "import scipy as sp\n",
    "from scipy import signal\n",
    "import matplotlib.pyplot as plt\n",
    "import datetime as dt\n",
    "from ipywidgets import *\n",
    "from IPython.display import display\n",
    "desired_width = 360\n",
    "pd.set_option('display.width', desired_width)\n",
    "from IPython.display import display, HTML\n",
    "import datetime\n",
    "\n",
    "display(HTML(data=\"\"\"\n",
    "<style>\n",
    "    div#notebook-container    { width: 100%; }\n",
    "</style>\n",
    "\"\"\"))\n",
    " "
   ]
  },
  {
   "cell_type": "code",
   "execution_count": null,
   "metadata": {},
   "outputs": [],
   "source": [
    "#############################################################################\n",
    "### Function to plot Data profile in terms of fuelvoltage, Distance over time\n",
    "\n",
    "def plotData_profiles(df):\n",
    "    plt.rcParams['figure.figsize'] = [16, 12]\n",
    "\n",
    "    #### 1. Checking order of Data, as per datetime\n",
    "    plt.subplot(3,1,1)\n",
    "    plt.plot(df.index, df.datetime, 'g.', markersize=1, linewidth=1);\n",
    "\n",
    "    plt.subplot(3,1,2)\n",
    "    plt.plot(df.index, df.fuelVoltage, 'g.', markersize=2, linewidth=1);\n",
    "\n",
    "    plt.subplot(3,1,3)\n",
    "    plt.plot(df.index, df.distance, 'g-', markersize=2, linewidth=1);\n",
    "    plt.title(\"Cumulative Distance vs Time\", fontsize=15)\n",
    "    plt.show()"
   ]
  },
  {
   "cell_type": "code",
   "execution_count": null,
   "metadata": {},
   "outputs": [],
   "source": [
    "#######################################################\n",
    "### Function to Plot theft Points over Cleaned Data\n",
    "\n",
    "def plot_theftpts(cleanedDf , theftpts=[], refPts=[], xlim=[], ylim1 = [], ylim2 = []):\n",
    "\n",
    "    plt.rcParams['figure.figsize'] = [16,4]\n",
    "    # plt.subplot(6,1,1)\n",
    "    fig, ax1 = plt.subplots()\n",
    "    ax1.plot(cleanedDf.index, cleanedDf.fuelVoltage, 'g.', markersize=2, linewidth=1)\n",
    "    ax1.set_xlabel('time index')\n",
    "    # Make the y-axis label, ticks and tick labels match the line color.\n",
    "    ax1.set_ylabel('FuelVoltage', color='b')\n",
    "    ax1.tick_params('y', colors='b')\n",
    "    if len(ylim1)!=0:\n",
    "        ax1.set_ylim(ylim1)\n",
    "\n",
    "    ax2 = ax1.twinx()\n",
    "    ax2.plot(cleanedDf.index, cleanedDf.distance, 'b-', markersize=2, linewidth=1)\n",
    "    ax2.set_ylabel('Distance', color='b')\n",
    "    if len(ylim2)!=0:\n",
    "        ax2.set_ylim(ylim2)\n",
    "    plt.title(\"Initial Prediction theft Points - ZOOMED\")\n",
    "    if len(xlim) !=0:\n",
    "        plt.xlim(xlim)\n",
    "    \n",
    "    for pt in theftpts:\n",
    "        ax1.axvline(pt, color = 'black')\n",
    "        \n",
    "    for pt in refPts:\n",
    "        ax1.axvline(pt, color = 'Red')\n",
    "    plt.show()\n"
   ]
  },
  {
   "cell_type": "code",
   "execution_count": null,
   "metadata": {},
   "outputs": [],
   "source": [
    "def plot_Results(df, df_clean, theft_df, refPts=[], xlim = [], ylim1 = [], ylim2 = []):\n",
    "\n",
    "    plt.rcParams['figure.figsize']=[16,12]\n",
    "    fig, axi = plt.subplots(4, 1)\n",
    "    axi[0].plot(df.datetime, df.fuelVoltage, 'g.', markersize=1, linewidth=1);\n",
    "    #plt.plot(df.datetime, df.distance, 'b-', markersize=1, linewidth=1);\n",
    "    axi[0].set_title('Original FuelData vs Time')\n",
    "    axi[0].set_xlabel('time')\n",
    "\n",
    "    axi[1].plot(df_clean.index, df_clean.fuelVoltage, 'g.', markersize=2, linewidth=1)\n",
    "    axi[1].set_xlabel('time index')\n",
    "    # Make the y-axis label, ticks and tick labels match the line color.\n",
    "    axi[1].set_ylabel('FuelVoltage', color='b')\n",
    "    axi[1].tick_params('y', colors='b')\n",
    "    if len(ylim1) != 0:\n",
    "        axi[1].set_ylim(ylim1)\n",
    "\n",
    "    ax2 = axi[1].twinx()\n",
    "    ax2.plot(df_clean.index, df_clean.distance, 'b-', markersize=2, linewidth=1)\n",
    "    ax2.set_ylabel('Distance', color='b')\n",
    "    if len(ylim2) != 0:\n",
    "        ax2.set_ylim(ylim2)\n",
    "    if len(xlim) != 0:\n",
    "        plt.xlim(xlim)\n",
    "    axi[1].set_title('Cleaned Data')\n",
    "        \n",
    "    for pt in refPts:\n",
    "        axi[1].axvline(pt, color = 'Red')\n",
    "    \n",
    "    \n",
    "    \n",
    "    axi[2].plot(df_clean.index, df_clean.fuelVoltage, 'g.', markersize=2, linewidth=1)\n",
    "    axi[2].set_xlabel('time index')\n",
    "    # Make the y-axis label, ticks and tick labels match the line color.\n",
    "    axi[2].set_ylabel('FuelVoltage', color='b')\n",
    "    axi[2].tick_params('y', colors='b')\n",
    "    if len(ylim1)!=0:\n",
    "        axi[2].set_ylim(ylim1)\n",
    "\n",
    "    ax2 = axi[2].twinx()\n",
    "    ax2.plot(df_clean.index, df_clean.distance, 'b-', markersize=2, linewidth=1)\n",
    "    ax2.set_ylabel('Distance', color='b')\n",
    "    if len(ylim2)!=0:\n",
    "        axi[2].set_ylim(ylim2)\n",
    "        \n",
    "    if len(xlim) !=0:\n",
    "        plt.xlim(xlim)\n",
    "    plt.title('Final Predicted Theft Pts - ZOOMED')\n",
    "\n",
    "    for pt in theft_df.theft_index:\n",
    "        plt.axvline(pt, color = 'black')\n",
    "        \n",
    "\n",
    "    axi[3].plot(result_df.theft_index, result_df['fuel_VoltageJump'], 'g-', markersize=3, linewidth=1);\n",
    "    axi[3].set_title('Fuel/km Ratio at Predicted theft pts - ZOOMED')\n",
    "    \n",
    "    axi[3].set_xlabel('time index')\n",
    "    \n",
    "    fig.tight_layout()\n",
    "\n",
    "#     if len(xlim) !=0:\n",
    "#         plt.xlim(xlim)\n",
    "#     if len(ylim)!=0:\n",
    "#         plt.ylim(ylim)\n",
    "\n",
    "    #plt.plot(df_clean.index, df_clean.distance, 'b-', markersize=1, linewidth=1);\n",
    "\n",
    "    plt.show()"
   ]
  },
  {
   "cell_type": "code",
   "execution_count": null,
   "metadata": {},
   "outputs": [],
   "source": []
  },
  {
   "cell_type": "code",
   "execution_count": null,
   "metadata": {},
   "outputs": [],
   "source": [
    "def findMax_decayRate(cleanDf):\n",
    "\n",
    "    i = 0\n",
    "    dt = (cleanDf.fuelVoltage.max() - cleanDf.fuelVoltage.min())/500\n",
    "    avgDT = []\n",
    "    indexlst = []\n",
    "    dist = cleanDf.distance[i] - cleanDf.distance[0]\n",
    "    while (i<len(cleanDf)) and (dist <= 5000): \n",
    "        df = 0\n",
    "        dist = 0.001*(cleanDf.distance[i] - cleanDf.distance[0])\n",
    "        print(dist)\n",
    "        dfRef = cleanDf.fuelVoltage[i]\n",
    "        dsRef = cleanDf.distance[i]\n",
    "        while (df<=dt  and i<len(cleanDf)):\n",
    "            df = dfRef - cleanDf.fuelVoltage[i] \n",
    "            if df <0 :\n",
    "                dfRef = cleanDf.fuelVoltage[i]\n",
    "            i+=1\n",
    "            #print(i)\n",
    "\n",
    "        if i<len(cleanDf):\n",
    "            ds = cleanDf.distance[i] - dsRef\n",
    "            if df>0 :\n",
    "                #print (i)\n",
    "                if ds==0:\n",
    "                    ds = df/1000\n",
    "                    #print(\"df = \",df,\"****\",i)\n",
    "                avg = df/ds\n",
    "                avgDT.append(avg)\n",
    "                indexlst.append(cleanDf.index[i])\n",
    "\n",
    "    med = pd.Series(avgDT).median()\n",
    "    mean = pd.Series(avgDT).mean()\n",
    "    avg = pd.Series(avgDT)\n",
    "    max_dCRate = avg.median()+ 3*(abs(avg - avg.median()).median())\n",
    "        \n",
    "    return pd.Series(avgDT), indexlst, 1000*max_dCRate\n"
   ]
  },
  {
   "cell_type": "code",
   "execution_count": null,
   "metadata": {},
   "outputs": [],
   "source": [
    "i=j=0\n",
    "while (i<10) and j<3 :\n",
    "    print (i,j)\n",
    "    i+=1\n",
    "    j+=1"
   ]
  },
  {
   "cell_type": "code",
   "execution_count": null,
   "metadata": {},
   "outputs": [],
   "source": [
    "#####################################################################\n",
    "### Function to generate FuelMaxVoltage & FuelMinVoltage, to be sent\n",
    "### to the main devices database for records.\n",
    "def Gen_FuelMaxMin(df):\n",
    "    df = dr.perform_PreFormating(df)\n",
    "    dff, dff2 = dr.perform_postFormating(df)\n",
    "\n",
    "    y_smooth = sp.signal.medfilt(dff.fuelVoltage, 99)\n",
    "    fmax = max(y_smooth)\n",
    "    fmin = min(y_smooth)\n",
    "    #df_clean = dc.Clean_NoiseData(dff, fmax, fmin, 0)\n",
    "\n",
    "    return fmax, fmin\n"
   ]
  },
  {
   "cell_type": "code",
   "execution_count": null,
   "metadata": {},
   "outputs": [],
   "source": [
    "folderpath = r\"H:\\Analytics\\FuelAnalysis\\test3\\spcase\"\n",
    "savePath = r\"H:\\Analytics\\FuelAnalysis\\results\"\n",
    "filepath = r\"\"\n",
    "df_list = []\n",
    "filesname = dr.read__MultipleCSVs(folder_path= folderpath, nfiles=8)\n",
    "for file in filesname:\n",
    "    df = dr.read_SingleCSV(file)\n",
    "    df_list.append(df)\n",
    "\n",
    "ctr = 0\n",
    "def formatDf(df):\n",
    "    #df_list[0].info()\n",
    "    df = dr.perform_PreFormating(df)\n",
    "    print (\"Dataset_\"+str(ctr+1) + \"Preformatting Done\")\n",
    "\n",
    "    dff, dff2 = dr.perform_postFormating(df)\n",
    "    print(\"Dataset_\" + str(ctr + 1) + \" Postformatting Done\")\n",
    "    return dff,dff2\n",
    "\n",
    "def cleanDF(dff, fuelMax, fuelMin, neb_ds):\n",
    "    df_clean = dc.Clean_NoiseData(dff, fuelMax, fuelMin, neb_ds)\n",
    "    print(\"Dataset_\" + str(ctr + 1) + \" Data Cleaning Done\")\n",
    "    return df_clean\n",
    "\n",
    "def findtheft(df_clean, fuelMax, fuelMin, neb_dst):\n",
    "    theft_pts, refpts = dc.jump_point(df_clean, 0.01, fuelMax, fuelMin, neb_dst)\n",
    "    print(\"Dataset_\" + str(ctr + 1) + \" Theft & Refuel points Indentified\")\n",
    "    return theft_pts, refpts\n",
    "\n",
    "    "
   ]
  },
  {
   "cell_type": "code",
   "execution_count": null,
   "metadata": {},
   "outputs": [],
   "source": []
  },
  {
   "cell_type": "code",
   "execution_count": null,
   "metadata": {},
   "outputs": [],
   "source": [
    "#plotData_profiles(df)\n",
    "df = df_list[7]\n",
    "df = df[:]\n",
    "df = df.reset_index(drop= True)\n",
    "df.st = df.io_state.apply(lambda x: str(x)[1])\n",
    "dis = df[df.st == '0'].distance.apply(lambda x: int(x))"
   ]
  },
  {
   "cell_type": "code",
   "execution_count": null,
   "metadata": {},
   "outputs": [],
   "source": [
    "plt.rcParams['figure.figsize'] = [10,4]\n",
    "plt.plot(dis);"
   ]
  },
  {
   "cell_type": "code",
   "execution_count": null,
   "metadata": {},
   "outputs": [],
   "source": [
    "fuelMax, fuelMin = Gen_FuelMaxMin(df)"
   ]
  },
  {
   "cell_type": "code",
   "execution_count": null,
   "metadata": {},
   "outputs": [],
   "source": []
  },
  {
   "cell_type": "code",
   "execution_count": null,
   "metadata": {},
   "outputs": [],
   "source": [
    "fuelMax, fuelMin"
   ]
  },
  {
   "cell_type": "code",
   "execution_count": null,
   "metadata": {},
   "outputs": [],
   "source": [
    "dff, dff2 = formatDf(df.copy())\n",
    "Dmax = dff.distance.max()"
   ]
  },
  {
   "cell_type": "code",
   "execution_count": null,
   "metadata": {},
   "outputs": [],
   "source": [
    "df = dr.perform_PreFormating(df)"
   ]
  },
  {
   "cell_type": "code",
   "execution_count": null,
   "metadata": {},
   "outputs": [],
   "source": [
    "d = df[df.dev_state=='0']\n",
    "len(d[d.fuelVoltage <= 5])"
   ]
  },
  {
   "cell_type": "code",
   "execution_count": null,
   "metadata": {},
   "outputs": [],
   "source": [
    "len(df[df.dev_state=='0'])"
   ]
  },
  {
   "cell_type": "code",
   "execution_count": null,
   "metadata": {},
   "outputs": [],
   "source": [
    "df.info()"
   ]
  },
  {
   "cell_type": "code",
   "execution_count": null,
   "metadata": {},
   "outputs": [],
   "source": [
    "\n",
    "plt.rcParams['figure.figsize'] = [16,4]\n",
    "plt.plot(df[df.dev_state=='0'].datetime, df[df.dev_state=='0'].fuelVoltage, 'g.', markersize =1);\n",
    "plt.twinx()\n",
    "plt.plot(df[df.dev_state=='0'].datetime, df[df.dev_state=='0'].speed, 'b.', markersize = 2);\n",
    "plt.xlim(datetime.datetime(2018,3,8,2,0), datetime.datetime(2018,4,12,6,55))\n",
    "#plt.ylim(0,8)"
   ]
  },
  {
   "cell_type": "code",
   "execution_count": null,
   "metadata": {},
   "outputs": [],
   "source": [
    "%matplotlib inline\n",
    "df= df[df.dev_state=='1'].reset_index(drop = True)\n",
    "plt.rcParams['figure.figsize'] = [12,4]\n",
    "plt.plot(df.index, df.fuelVoltage, 'g.', markersize = 1);"
   ]
  },
  {
   "cell_type": "code",
   "execution_count": null,
   "metadata": {},
   "outputs": [],
   "source": [
    "len(df[df.dev_state=='1']), len(df[df.dev_state=='0'])"
   ]
  },
  {
   "cell_type": "code",
   "execution_count": null,
   "metadata": {},
   "outputs": [],
   "source": [
    "dff.info()"
   ]
  },
  {
   "cell_type": "code",
   "execution_count": null,
   "metadata": {},
   "outputs": [],
   "source": [
    "len(dff), len(dff2)"
   ]
  },
  {
   "cell_type": "code",
   "execution_count": null,
   "metadata": {},
   "outputs": [],
   "source": [
    "a=[1,2,3,4,5,6]\n",
    "a[0]"
   ]
  },
  {
   "cell_type": "code",
   "execution_count": null,
   "metadata": {},
   "outputs": [],
   "source": [
    "dff3 = dff2[dff2.fuelVoltage<=200]"
   ]
  },
  {
   "cell_type": "code",
   "execution_count": null,
   "metadata": {},
   "outputs": [],
   "source": [
    "dff.loc[0,'datetime'] - dff.loc[len(dff)-1,'datetime']"
   ]
  },
  {
   "cell_type": "code",
   "execution_count": null,
   "metadata": {},
   "outputs": [],
   "source": [
    "dff2.loc[0,'datetime'] - dff.loc[0,'datetime']"
   ]
  },
  {
   "cell_type": "code",
   "execution_count": null,
   "metadata": {},
   "outputs": [],
   "source": [
    "dff2.loc[0,'datetime'] - dff.datetime.min()"
   ]
  },
  {
   "cell_type": "code",
   "execution_count": null,
   "metadata": {},
   "outputs": [],
   "source": [
    "dff2.datetime[:10]"
   ]
  },
  {
   "cell_type": "code",
   "execution_count": null,
   "metadata": {},
   "outputs": [],
   "source": [
    "\n",
    "dff.datetime[0]"
   ]
  },
  {
   "cell_type": "code",
   "execution_count": null,
   "metadata": {},
   "outputs": [],
   "source": [
    "%matplotlib inline\n",
    "dff2= dff2[dff2.dev_state==1].reset_index(drop=True)\n",
    "plt.rcParams['figure.figsize'] = [12,4]\n",
    "plt.plot(dff2[dff2.datetime<=dff.datetime.min()].datetime, dff2[dff2.datetime<=dff.datetime.min()].fuelVoltage,'g.', markersize = 1);\n",
    "#plt.xlim(0,20000)\n",
    "\n"
   ]
  },
  {
   "cell_type": "code",
   "execution_count": null,
   "metadata": {},
   "outputs": [],
   "source": [
    "\n",
    "%matplotlib inline\n",
    "plt.rcParams['figure.figsize'] = [12,4]\n",
    "plt.plot(dff2.datetime, dff2.fuelVoltage,'g.', markersize = 1);\n",
    "#plt.xlim(0,30000)\n",
    "(dff3.fuelVoltage.min())\n"
   ]
  },
  {
   "cell_type": "code",
   "execution_count": null,
   "metadata": {},
   "outputs": [],
   "source": [
    "%matplotlib inline\n",
    "plt.rcParams['figure.figsize'] = [16,4]\n",
    "plt.plot(dff.datetime, dff.fuelVoltage, 'g.', markersize = 2)\n",
    "#plt.ylim(2,4)\n",
    "#plt.xlim(32000,38000)"
   ]
  },
  {
   "cell_type": "code",
   "execution_count": null,
   "metadata": {},
   "outputs": [],
   "source": [
    "dff.fuelVoltage.median()"
   ]
  },
  {
   "cell_type": "code",
   "execution_count": null,
   "metadata": {},
   "outputs": [],
   "source": [
    "dff.fuelVoltage.std()"
   ]
  },
  {
   "cell_type": "code",
   "execution_count": null,
   "metadata": {
    "scrolled": true
   },
   "outputs": [],
   "source": [
    "%matplotlib inline\n",
    "plt.rcParams['figure.figsize'] = [16,4]\n",
    "plt.hist(dff.fuelVoltage,200);\n",
    "#plt.xlim(0,0.02)\n",
    "#plt.ylim(0,2.5)"
   ]
  },
  {
   "cell_type": "code",
   "execution_count": null,
   "metadata": {},
   "outputs": [],
   "source": [
    "x = '0'\n",
    "x.zfill(8)\n",
    "import time"
   ]
  },
  {
   "cell_type": "code",
   "execution_count": null,
   "metadata": {},
   "outputs": [],
   "source": [
    "def Clean_NoiseData2(dff, fuelMax, fuelMin, nds):\n",
    "    x = pd.Series(dff.index)\n",
    "    y = pd.Series(dff.fuelVoltage)\n",
    "        \n",
    "    ## Neighbourhood Distance\n",
    "    Nds = 0.01*(fuelMax - fuelMin)\n",
    "    if nds:\n",
    "        Nds = nds\n",
    "    print(Nds)\n",
    "\n",
    "    \n",
    "    dff['dd00000'] = abs(y - y.shift(6))\n",
    "    dff['dd0000'] = abs(y - y.shift(5))\n",
    "    dff['dd000'] = abs(y - y.shift(4))\n",
    "    dff['dd00'] = abs(y - y.shift(3))\n",
    "    dff['dd0'] = abs(y - y.shift(2))\n",
    "    dff['dd1'] = abs(y - y.shift(1))\n",
    "    dff['dd2'] = abs(y - y.shift(-1))\n",
    "    dff['dd3'] = abs(y - y.shift(-2))\n",
    "    dff['dd4'] = abs(y - y.shift(-3))\n",
    "    dff['dd5'] = abs(y - y.shift(-4))\n",
    "    dff['dd6'] = abs(y - y.shift(-5))\n",
    "    dff['dd7'] = abs(y - y.shift(-6))\n",
    "    dff['dd8'] = abs(y - y.shift(-7))\n",
    "    \n",
    "    dforward = pd.DataFrame()\n",
    "    dbackward = pd.DataFrame()\n",
    "    for i in range(1,10):\n",
    "        dforward['d'+str(i)] = abs(y - y.shift(i))\n",
    "        dbackward['d'+str(i)] = abs(y - y.shift(-1*i))\n",
    "    dbackward = dbackward.fillna(0)\n",
    "    dforward = dforward.fillna(0)\n",
    "    \n",
    "    dff2 = dff[(dforward.d1 <= Nds) & (dbackward.d1 <= Nds) & (dforward.d2 <= 2*Nds) & (dbackward.d2 <= 2*Nds) &\n",
    "               (dforward.d3 <= 3*Nds) & (dbackward.d3 <= 3*Nds) & (dforward.d4 <= 4*Nds) & (dbackward.d4 <= 4*Nds) &\n",
    "               (dforward.d5 <= 5*Nds) & (dbackward.d5 <= 5*Nds) & (dforward.d6 <= 6*Nds) & (dbackward.d6 <= 6*Nds) &\n",
    "               (dforward.d7 <= 7*Nds) & (dbackward.d7 <= 7*Nds) & (dforward.d8 <= 8*Nds) & (dbackward.d8 <= 8*Nds)]\n",
    "    dff2 = dff2.reset_index(drop = True)\n",
    "    \n",
    "\n",
    "    p = dff['dd1']\n",
    "    ## Removing Error Data\n",
    "    dff1 = dff[(dff.dd1 <= Nds) & (dff.dd2 <= Nds) & (dff.dd0 <= 2*Nds) & (dff.dd3 <= 2*Nds) &\n",
    "               (dff.dd00 <= 3*Nds) & (dff.dd4 <= 3*Nds) & (dff.dd000 <= 4*Nds) & (dff.dd5 <= 4*Nds) &\n",
    "               (dff.dd0000 <= 5*Nds) & (dff.dd6 <= 5*Nds) & (dff.dd00000 <= 6*Nds) & (dff.dd7 <= 6*Nds)]\n",
    "    dff1 = dff1.reset_index(drop=True)  ## Reseting index\n",
    "    #print (dff1[['dd1','dd0','dd00','dd000','dd0000','dd00000']].head(40))\n",
    "\n",
    "    # plt.rcParams['figure.figsize'] = [16, 4]\n",
    "    # plt.plot(p, 'b.')\n",
    "    # plt.title('Histogram - Consecutive Fuel Difference ', fontsize=15)\n",
    "    # plt.ylim(0, 0.05)\n",
    "    #\n",
    "    # #     plt.ylim(0.02,1)\n",
    "    # #     plt.savefig(\"test.png\")\n",
    "    # plt.rcParams['figure.figsize'] = [16, 4]\n",
    "    # plt.plot(dff.index[:], dff.fuelVoltage[:], 'g.', markersize=2, linewidth=1);\n",
    "    # plt.ylim(0, 1.1)\n",
    "    dfClean = dff1[['datetime','lat', 'long','speed','distance','fuelVoltage']]\n",
    "    dfClean['fuelVoltage_Percent'] = dfClean.fuelVoltage.apply(lambda x: round((100*x/(fuelMax - fuelMin)),2))\n",
    "    dfClean2 = dff2[['datetime','lat', 'long','speed','distance','fuelVoltage']]\n",
    "    dfClean2['fuelVoltage_Percent'] = dfClean2.fuelVoltage.apply(lambda x: round((100*x/(fuelMax - fuelMin)),2))\n",
    "\n",
    "    return dfClean, dfClean2"
   ]
  },
  {
   "cell_type": "code",
   "execution_count": null,
   "metadata": {
    "scrolled": true
   },
   "outputs": [],
   "source": [
    "import time\n",
    "strttime = time.time()\n",
    "dfcln, dfcln2 = Clean_NoiseData2(dff.copy(), fuelMax, fuelMin,0)\n",
    "print(time.time()-strttime)"
   ]
  },
  {
   "cell_type": "code",
   "execution_count": null,
   "metadata": {},
   "outputs": [],
   "source": [
    "y = pd.Series([1,2,3,4,5,6,7,8])\n",
    "y.shift(-1) -y"
   ]
  },
  {
   "cell_type": "code",
   "execution_count": null,
   "metadata": {},
   "outputs": [],
   "source": [
    "plt.rcParams['figure.figsize'] = [16,4]\n",
    "plt.plot(dfcln2.index, dfcln2.fuelVoltage,  'g.', markersize = 1)\n",
    "#plt.ylim(300,580)\n",
    "plt.xlim(0,8000)\n",
    "plt.savefig(\"cleanf22.png\")"
   ]
  },
  {
   "cell_type": "code",
   "execution_count": null,
   "metadata": {},
   "outputs": [],
   "source": [
    "df_clean = dff"
   ]
  },
  {
   "cell_type": "code",
   "execution_count": null,
   "metadata": {},
   "outputs": [],
   "source": [
    "import scipy as sp\n",
    "from scipy import signal\n",
    " \n",
    "t = np.linspace(0,10,200) # create a time signal\n",
    "x1 = np.sin(t) # create a simple sine wave\n",
    "x2 = x1 + np.random.rand(200) # add noise to the signal\n",
    "\n",
    "def f(x):\n",
    "    y1 = sp.signal.medfilt(df_clean.fuelVoltage,x) # add noise to the signal\n",
    "    # plot the results\n",
    "    plt.rcParams['figure.figsize'] = [16,8]\n",
    "    plt.subplot(2,1,1)\n",
    "    plt.plot(df_clean.index,df_clean.fuelVoltage,'g.', markersize = 1)\n",
    "    plt.title('input wave')\n",
    "    plt.xlabel('time')\n",
    "    #plt.xlim(10000, 30000)\n",
    "    plt.subplot(2,1,2)\n",
    "    plt.plot(df_clean.index,y1,'g.', markersize = 1)\n",
    "    plt.title('filtered wave')\n",
    "    plt.xlabel('time')\n",
    "   # plt.xlim(10000, 30000)\n",
    "    plt.show()\n",
    "interact(f, x= IntSlider(min=1, max=200, step=2,value=99));"
   ]
  },
  {
   "cell_type": "code",
   "execution_count": null,
   "metadata": {},
   "outputs": [],
   "source": [
    "y1 = sp.signal.medfilt(df_clean.fuelVoltage,99) \n",
    "len(df_clean), len(y1)"
   ]
  },
  {
   "cell_type": "code",
   "execution_count": null,
   "metadata": {},
   "outputs": [],
   "source": [
    "from scipy.fftpack import fft\n",
    "from scipy import signal as sg\n",
    "import statsmodels.api as sm\n",
    "from scipy.signal import butter, lfilter, freqz\n",
    "import datetime\n",
    "\n",
    "normdata = df_clean.fuelVoltage/df_clean.fuelVoltage.max()\n",
    "yvolt = fft(df_clean.fuelVoltage/df_clean.fuelVoltage.max())\n",
    "\n",
    "plt.rcParams['figure.figsize'] = [16,4]\n",
    "plt.ylim(0,1000);\n",
    "plt.plot(np.abs(yvolt[:]));\n",
    "plt.rcParams['figure.figsize'] = [16,4]\n",
    "plt.xscale('log')\n",
    "plt.ylabel('Amplitude Response (dB)')\n",
    "plt.xlabel('Frequency (Hz, Log Scale)')\n",
    "#plt.axvline((2.5, color = 'black')\n",
    "plt.text(2.1,-50, \"Cut-off\", fontsize = 15);\n",
    "\n",
    "def butter_lowpass_filter(data, cutoff, fs, order=5, ftype = False):\n",
    "    nyq = 0.5 * fs\n",
    "    normal_cutoff = cutoff / nyq\n",
    "    b, a = butter(order, normal_cutoff, btype='low', analog=ftype)\n",
    "    y = lfilter(b, a, data)\n",
    "    y1 = sg.filtfilt(b,a, data)\n",
    "    return y\n",
    "\n",
    "\n",
    "# Filter the data, and plot both the original and filtered signals.\n",
    "fs = 500             # Sampling Frequency\n",
    "order = 5             # Order of Filter\n",
    "cutoff = 10          # Filter Cut-off Frequency\n",
    "\n",
    "df = df_clean.copy()\n",
    "# Calling Butterworth filter\n",
    "y2 = df_clean.fuelVoltage.max() *(butter_lowpass_filter(normdata, cutoff, fs, order, ftype= False))\n",
    "time = df.datetime"
   ]
  },
  {
   "cell_type": "code",
   "execution_count": null,
   "metadata": {},
   "outputs": [],
   "source": [
    "#Plotting Results\n",
    "plt.rcParams['figure.figsize'] = [16,8]\n",
    "\n",
    "plt.subplot(3, 1,1)\n",
    "#plt.plot(time, norm_data, 'b-', linewidth=1, label='Original Signal')\n",
    "plt.plot(df.index, df.fuelVoltage, 'g.', markersize = 1, linewidth = 1)\n",
    "plt.legend()\n",
    "plt.grid()\n",
    "plt.ylabel('Fuel Voltage',  fontsize = 14)\n",
    "#plt.xlim(0,12000)\n",
    "plt.title('Original Fuel Voltage', fontsize = 20)\n",
    "#plt.ylim(df_clean.fuelVoltage.min(), 1.05*df_clean.fuelVoltage.max())\n",
    "#plt.axvline(60000, color = 'black')\n",
    "\n",
    "plt.subplot(3, 1,2)\n",
    "plt.plot(df.index, y2, 'r.', markersize=1, label='Original Signal')\n",
    "plt.legend()\n",
    "#plt.xlim(0,12000)\n",
    "#plt.ylim(df_clean.fuelVoltage.min(), 1.05*df_clean.fuelVoltage.max())\n",
    "plt.ylabel('Cumulative Distance (Normalised)',  fontsize = 14)\n",
    "#plt.xlim(datetime.datetime(2018,1,27,2,0), datetime.datetime(2018,2,15,6,55))\n",
    "plt.subplot(3, 1,3)\n",
    "plt.plot(df_clean.index, y1, 'r-', markersize=1, label='Original Signal')\n",
    "plt.legend()\n",
    "#plt.xlim(0,12000)\n",
    "\n",
    "#plt.tight_layout()"
   ]
  },
  {
   "cell_type": "code",
   "execution_count": null,
   "metadata": {},
   "outputs": [],
   "source": [
    "#df_clean = cleanDF(dff.copy(), fuelMax, fuelMin,0)"
   ]
  },
  {
   "cell_type": "code",
   "execution_count": null,
   "metadata": {},
   "outputs": [],
   "source": [
    "df_clean2 = dff.copy()\n",
    "df_clean2.fuelVoltage = pd.Series(y1)"
   ]
  },
  {
   "cell_type": "code",
   "execution_count": null,
   "metadata": {
    "scrolled": true
   },
   "outputs": [],
   "source": [
    "def avg_NeigbourDistance(dff):\n",
    "    dd = dff.fuelVoltage - dff.fuelVoltage.shift(-1)  \n",
    "    dd = dd.dropna()\n",
    "    #print(dd\n",
    "    plt.rcParams['figure.figsize'] = [16,4]\n",
    "\n",
    "    plt.hist(dd, bins=100)\n",
    "    plt.axvline(dd.median(), color = 'black')\n",
    "    plt.axvline(2*dd.std(), color = 'black')\n",
    "    plt.axvline(1.5*dd.std(), color = 'black')\n",
    "    plt.semilogy()\n",
    "    return dd\n",
    "dd = avg_NeigbourDistance(df_clean2)"
   ]
  },
  {
   "cell_type": "code",
   "execution_count": null,
   "metadata": {},
   "outputs": [],
   "source": [
    "dd2 = dd[abs(dd - dd.median()) < 2*dd.std()]\n",
    "meddev = abs(dd2 - dd2.median()).median()\n",
    "meddev2 = abs(dd2 - dd2.median()).mean()\n",
    "print (dd.mean(), dd.median(),2*meddev, 2*meddev2, 2*dd2.std(), 0.01*(fuelMax - fuelMin), 0.01*(fuelMax - 0.05*fuelMax))"
   ]
  },
  {
   "cell_type": "code",
   "execution_count": null,
   "metadata": {},
   "outputs": [],
   "source": [
    "distDF = pd.DataFrame(columns=['mean','median','2*Meddev','2*std','MaxMin','MaxMin0'])\n",
    "distDF.loc[0] = [dd.mean(), dd.median(),2*meddev, 2*dd.std(), 0.01*(fuelMax - fuelMin), 0.01*(fuelMax - 0.05*fuelMax)]\n",
    "distDF"
   ]
  },
  {
   "cell_type": "code",
   "execution_count": null,
   "metadata": {},
   "outputs": [],
   "source": []
  },
  {
   "cell_type": "code",
   "execution_count": null,
   "metadata": {},
   "outputs": [],
   "source": [
    "import matplotlib.mlab as mlab\n",
    "mu = dd.mean()\n",
    "#variance = (dff.fuelVoltage.std())*(dff.fuelVoltage.std())\n",
    "sigma = dd.std()\n",
    "x = np.linspace(mu - 3*sigma, mu + 3*sigma, 100)\n",
    "plt.rcParams['figure.figsize'] = [16,4]\n",
    "plt.plot(x,mlab.normpdf(x, mu, sigma))"
   ]
  },
  {
   "cell_type": "code",
   "execution_count": null,
   "metadata": {
    "scrolled": true
   },
   "outputs": [],
   "source": [
    "dd[dd > 2*dd.std()]"
   ]
  },
  {
   "cell_type": "code",
   "execution_count": null,
   "metadata": {},
   "outputs": [],
   "source": [
    "a = dd.value_counts()\n",
    "dd[dd != 0].median()"
   ]
  },
  {
   "cell_type": "code",
   "execution_count": null,
   "metadata": {},
   "outputs": [],
   "source": [
    "dd.mean(), dd.median(), dd.std()"
   ]
  },
  {
   "cell_type": "code",
   "execution_count": null,
   "metadata": {},
   "outputs": [],
   "source": [
    "## Finding avgMax decay rate\n",
    "avgDT, indexlst, max_dCRate = findMax_decayRate(df_clean2)"
   ]
  },
  {
   "cell_type": "code",
   "execution_count": null,
   "metadata": {},
   "outputs": [],
   "source": [
    "max_dCRate, avgDT.median(), round(avgDT.mean(),5)"
   ]
  },
  {
   "cell_type": "code",
   "execution_count": null,
   "metadata": {},
   "outputs": [],
   "source": []
  },
  {
   "cell_type": "code",
   "execution_count": null,
   "metadata": {},
   "outputs": [],
   "source": [
    "\n",
    "a = int(-3)\n",
    "if a:\n",
    "    print (a)"
   ]
  },
  {
   "cell_type": "code",
   "execution_count": null,
   "metadata": {},
   "outputs": [],
   "source": [
    "def jump_point2(dff, level = 0.05, fuelMax=100, fuelMin=0):\n",
    "    x = np.array(dff.index)\n",
    "    y = np.array(dff.fuelVoltage)\n",
    "    d = np.array(dff.distance)\n",
    "    \n",
    "    #######################################################################\n",
    "    ## No. of Neighbourhood pts , dependent on sampling Rate of IoT device\n",
    "    ## Criteria Set = Avg No. of points inside 10Km window will be considered\n",
    "    n = int(10000/(dff.distance.max()/len(dff)))\n",
    "    print (n)\n",
    "    level = level*(fuelMax - fuelMin)\n",
    "    theft_pts = []\n",
    "    refpts = []\n",
    "    rctr = 0\n",
    "    ctr = 0\n",
    "    i = 0\n",
    "    \n",
    "    for i in range(1, len(x)):\n",
    "        try:\n",
    "            #             d1 =abs(y[i+1] - y[i])\n",
    "            #             d2 =abs(y[i+2] - y[i])\n",
    "            d_forward = (y[i + 1:i + n] - y[i])\n",
    "            d_backward = (y[i + 1] - y[i - n:i])\n",
    "            disfor.append(d[i + n] - d[i])\n",
    "            disback.append(d[i] - d[i-n])\n",
    "            # print (d_backward)\n",
    "            \n",
    "        except:\n",
    "            pass\n",
    "            #print(\"**\")\n",
    "        # dd1.append(d1)\n",
    "        # dd2.append(d2)\n",
    "        # if (d1 >= 0.05) & (d2 >= 0.05)&(d3 >= 0.05)&(d4 >= 0.05)&(d5 >= 0.05)&(d5 >= 0.05):\n",
    "\n",
    "        ###########################################################################\n",
    "        #### Finding probable refueling Points\n",
    "        if ((sum(d_forward > 1 * 3 * level) in list(range(n-1, n+1)))):  # & (sum(d_forward<0.1) == 19)):\n",
    "            if (sum(d_backward > 1 * 3 * level) in list(range(n-1, n+1))):\n",
    "                refpts.append(dff.index[i])\n",
    "                rctr += 1\n",
    "\n",
    "        ############################################################################\n",
    "        #### Finding probable theft points\n",
    "        if ((sum(d_forward < -1 * level) in list(range(n-1, n+1)))):  # & (sum(d_forward<0.1) == 19)):\n",
    "            if (sum(d_backward < -1 * level) in list(range(n-1, n+1))):\n",
    "                theft_pts.append(dff.index[i])\n",
    "                ctr += 1\n",
    "                # print(theft_pts, ctr)\n",
    "\n",
    "        if (ctr >= 2):\n",
    "            if ((theft_pts[ctr - 1] - theft_pts[ctr - 2]) in list(range(1, 6))):\n",
    "                theft_pts.pop(ctr - 2)\n",
    "                ctr -= 1\n",
    "                # print (i)\n",
    "\n",
    "                # dd1.append(0)\n",
    "                # dd2.append(0)\n",
    "    # dff['dd1'] = pd.Series(dd1)\n",
    "    # dff['dd2'] = pd.Series(dd2)\n",
    "    refpts = pd.Series(refpts)\n",
    "    #shift = abs(refpts.shift(-1) - refpts)\n",
    "    #print(shift)\n",
    "    #print ((shift[shift <=5]), refpts[shift[shift <=5]]\n",
    "    \n",
    "    print(len(theft_pts))\n",
    "    return theft_pts, refpts"
   ]
  },
  {
   "cell_type": "code",
   "execution_count": null,
   "metadata": {
    "scrolled": true
   },
   "outputs": [],
   "source": [
    "theft_pts, refpts = jump_point2(df_clean2, 0.01, fuelMax, fuelMin)"
   ]
  },
  {
   "cell_type": "code",
   "execution_count": null,
   "metadata": {
    "scrolled": true
   },
   "outputs": [],
   "source": [
    "def check_refpts_dropList(refpts):\n",
    "    \n",
    "    refpts = pd.Series(refpts)\n",
    "    refdt = pd.DataFrame()\n",
    "    refdt['refpts'] = refpts\n",
    "    refdt['shift'] = refpts.shift(-1) - refpts\n",
    "    refdt ['dist'] = pd.Series(df_clean2.distance[refpts].reset_index(drop= True))\n",
    "    i = 0\n",
    "    dropIndexList = []\n",
    "    while i in range(len(refdt)):\n",
    "        \n",
    "        if refdt.loc[i,'shift'] <= 5:\n",
    "            i+=1\n",
    "            while (refdt.loc[i,'shift']  <=5) :\n",
    "                dropIndexList.append(refdt.refpts[i])\n",
    "                i+=1\n",
    "        i+=1\n",
    "    \n",
    "    refdt['drop'] = refdt.refpts.apply(lambda x: 'Y' if (x in dropIndexList) else 'N')\n",
    "    refdt = refdt[refdt['drop']=='N'].reset_index(drop=True)\n",
    "    return refdt, dropIndexList    \n",
    "\n",
    "\n",
    "ref , drop = check_refpts_dropList(refpts)\n"
   ]
  },
  {
   "cell_type": "code",
   "execution_count": null,
   "metadata": {},
   "outputs": [],
   "source": [
    "ref[ref['drop']=='Y'].reset_index(drop= True)\n"
   ]
  },
  {
   "cell_type": "code",
   "execution_count": null,
   "metadata": {},
   "outputs": [],
   "source": [
    "theft_pts, refpts = findtheft(df_clean2, fuelMax, fuelMin,0)"
   ]
  },
  {
   "cell_type": "code",
   "execution_count": null,
   "metadata": {},
   "outputs": [],
   "source": [
    "theft_pts2, refpts2 = findtheft(dfcln2, fuelMax, fuelMin,0)"
   ]
  },
  {
   "cell_type": "code",
   "execution_count": null,
   "metadata": {
    "scrolled": true
   },
   "outputs": [],
   "source": [
    "dff2[dff2.datetime<=df_clean.datetime.min()]"
   ]
  },
  {
   "cell_type": "code",
   "execution_count": null,
   "metadata": {},
   "outputs": [],
   "source": [
    "int(10000/(df_clean.distance.max()/len(df_clean2)))"
   ]
  },
  {
   "cell_type": "code",
   "execution_count": null,
   "metadata": {},
   "outputs": [],
   "source": [
    "import matplotlib.mlab as mlab\n",
    "mu = dff.fuelVoltage.mean()\n",
    "#variance = (dff.fuelVoltage.std())*(dff.fuelVoltage.std())\n",
    "sigma = dff.fuelVoltage.std()\n",
    "x = np.linspace(mu - 3*sigma, mu + 3*sigma, 100)\n",
    "plt.rcParams['figure.figsize'] = [16,4]\n",
    "plt.plot(x,mlab.normpdf(x, mu, sigma))"
   ]
  },
  {
   "cell_type": "code",
   "execution_count": null,
   "metadata": {},
   "outputs": [],
   "source": [
    "xlim = [2800,3000]\n",
    "ylim = [440, 500]\n",
    "%matplotlib inline\n",
    "plot_theftpts(df_clean2,refPts=[],theftpts=theft_pts,  xlim = xlim, ylim1= ylim)"
   ]
  },
  {
   "cell_type": "code",
   "execution_count": null,
   "metadata": {},
   "outputs": [],
   "source": [
    "fuelMax, fuelMin"
   ]
  },
  {
   "cell_type": "code",
   "execution_count": null,
   "metadata": {
    "scrolled": true
   },
   "outputs": [],
   "source": [
    "len(refpts)"
   ]
  },
  {
   "cell_type": "code",
   "execution_count": null,
   "metadata": {},
   "outputs": [],
   "source": [
    "df_clean.distance.max() - df_clean.distance[0] "
   ]
  },
  {
   "cell_type": "code",
   "execution_count": null,
   "metadata": {},
   "outputs": [],
   "source": [
    "max_dCRate, len(theft_pts), len(theft_df)"
   ]
  },
  {
   "cell_type": "code",
   "execution_count": null,
   "metadata": {},
   "outputs": [],
   "source": [
    "import time\n",
    "srt = time.time()\n",
    "theft_df = dc.generate_TheftTable(df_clean2,theft_pts,max_dCRate, fuelMax, fuelMin)\n",
    "print (time.time() - srt)"
   ]
  },
  {
   "cell_type": "code",
   "execution_count": null,
   "metadata": {},
   "outputs": [],
   "source": []
  },
  {
   "cell_type": "code",
   "execution_count": null,
   "metadata": {},
   "outputs": [],
   "source": [
    "def check_refpts_dropList(refdt):\n",
    "\n",
    "    refdt['shift'] = abs(refdt['refuel_index'].shift(-1) - refdt['refuel_index'])\n",
    "    #refdt['dist'] = pd.Series(df_clean2.distance[refpts].reset_index(drop=True))\n",
    "    i = 0\n",
    "    dropIndexList = []\n",
    "    while i in range(len(refdt)):\n",
    "\n",
    "        if refdt.loc[i, 'shift'] <= 5:\n",
    "            i += 1\n",
    "            while (refdt.loc[i, 'shift'] <= 5):\n",
    "                dropIndexList.append(refdt.loc[i,'refuel_index'])\n",
    "                i += 1\n",
    "        i += 1\n",
    "\n",
    "    refdt['drop'] = refdt.refuel_index.apply(lambda x: 'Y' if (x in dropIndexList) else 'N')\n",
    "    print (len(refdt))\n",
    "    refdt = refdt[refdt['drop'] == 'N'].reset_index(drop= True)\n",
    "    return refdt, dropIndexList\n",
    "\n",
    "\n",
    "def generate_ReFuelTable(df_cleaned, ref_pts, fuelMax, fuelMin):\n",
    "    refuel_df = pd.DataFrame()\n",
    "    refuel_df['refuel_index'] = [df_cleaned.index[i] for i in ref_pts]\n",
    "    refuel_df['lat'] = [df_cleaned.lat[i] for i in ref_pts]\n",
    "    refuel_df['long'] = [df_cleaned.long[i] for i in ref_pts]\n",
    "    refuel_df['refuel_time'] = [df_cleaned.datetime[i] for i in ref_pts]\n",
    "\n",
    "    refuel_df, dropIndex = check_refpts_dropList(refuel_df.copy())\n",
    "    df_cleaned = df_cleaned.drop(dropIndex)\n",
    "\n",
    "\n",
    "    for i,j in zip(refuel_df.refuel_index, refuel_df.index):\n",
    "        success = 0\n",
    "        pos = 1\n",
    "        while(success ==0):\n",
    "            try:\n",
    "                refuel_df.loc[j,'fuel_VoltageJump'] = (df_cleaned.fuelVoltage[i+pos] - df_cleaned.fuelVoltage[i])\n",
    "                refuel_df.loc[j,'fuel_VoltageJump(%)'] = 100 * (df_cleaned.fuelVoltage[i+pos] - df_cleaned.fuelVoltage[i]) / (fuelMax - fuelMin)\n",
    "                refuel_df.loc[j,'dist_jump(KM)'] = (df_cleaned.distance[i + pos] - df_cleaned.distance[i]) * (.001)\n",
    "                refuel_df.loc[j,'time_jump'] = (df_cleaned.datetime[i + pos] - df_cleaned.datetime[i])\n",
    "                success =1\n",
    "            except:\n",
    "                pos +=1\n",
    "\n",
    "    refuel_df['fuel_VoltageJump(%)'] = refuel_df['fuel_VoltageJump(%)'].apply(lambda x: round(x,2))\n",
    "\n",
    "    # result_df.to_csv(r\"G:\\Analytics\\FuelAnalysis\\results\\reults.csv\")\n",
    "\n",
    "    # plt.plot(result_df.theft_time, result_df.FuelPerKM)\n",
    "    # plt.semilogy()\n",
    "    # plt.show()\n",
    "    print(refuel_df)\n",
    "    return refuel_df"
   ]
  },
  {
   "cell_type": "code",
   "execution_count": null,
   "metadata": {
    "scrolled": true
   },
   "outputs": [],
   "source": [
    "\n",
    "srt = time.time()\n",
    "refuel_df = generate_ReFuelTable(df_clean2, refpts, fuelMax, fuelMin)\n",
    "print (time.time() - srt)"
   ]
  },
  {
   "cell_type": "code",
   "execution_count": null,
   "metadata": {
    "scrolled": true
   },
   "outputs": [],
   "source": [
    "#build_savePath = savePath + r\"\\result_dataset_\" + filesname[ctr].replace(folderpath,\"\").replace('\\\\', \"\")\n",
    "#result_df.to_csv(build_savePath)\n",
    "%matplotlib inline\n",
    "plot_Results(dff,df_clean2, theft_df, refuel_df['refuel_index'] , xlim = [], ylim1=ylim);\n",
    "#ctr+=1\n",
    "#print(refuel_df)"
   ]
  },
  {
   "cell_type": "code",
   "execution_count": null,
   "metadata": {},
   "outputs": [],
   "source": []
  },
  {
   "cell_type": "code",
   "execution_count": null,
   "metadata": {},
   "outputs": [],
   "source": [
    "plt.rcParams['figure.figsize'] = [16,4]\n",
    "plt.plot(df_clean.distance*0.001, df_clean.fuelVoltage, 'g.', markersize = 2)"
   ]
  },
  {
   "cell_type": "code",
   "execution_count": null,
   "metadata": {},
   "outputs": [],
   "source": []
  },
  {
   "cell_type": "code",
   "execution_count": null,
   "metadata": {
    "scrolled": true
   },
   "outputs": [],
   "source": [
    "def findAVG2(cleanDf, Dmax, fuelmax, fuelmin):\n",
    "    i = 0\n",
    "    ds = 0\n",
    "    df = 0\n",
    "    dsRef = 0\n",
    "    dfW = (cleanDf.fuelVoltage.max() - cleanDf.fuelVoltage.min())/500\n",
    "    dfmax = (cleanDf.fuelVoltage.max() - cleanDf.fuelVoltage.min())/50\n",
    "    \n",
    "    avgdt_lst = []\n",
    "    mean_lst = []\n",
    "    median_lst = []\n",
    "    indexlst_lst = []\n",
    "    ctr = 0\n",
    "    df1 = 0\n",
    "    print(Dmax, dfW, dfmax)\n",
    "    while dfW < dfmax:\n",
    "        print (ctr)\n",
    "        avgDT = []\n",
    "        indexlst = []\n",
    "        print (\"***********************************\",dfW)\n",
    "        i=0\n",
    "        print(0.01*(fuelmax- fuelmin))\n",
    "        while i<len(cleanDf): \n",
    "            df = 0\n",
    "            dfRef = cleanDf.fuelVoltage[i]\n",
    "            dsRef = cleanDf.distance[i]\n",
    "            pos = cleanDf.index[i]\n",
    "            while (df<=dfW  and i<len(cleanDf)):\n",
    "                df = dfRef - cleanDf.fuelVoltage[i] \n",
    "                if df <0 :\n",
    "                    dfRef = cleanDf.fuelVoltage[i]\n",
    "                    pos = cleanDf.index[i]\n",
    "                    dsRef = cleanDf.distance[i]\n",
    "                i+=1\n",
    "                #print(i)\n",
    "            \n",
    "            if i<len(cleanDf):\n",
    "                ds = cleanDf.distance[i] - dsRef\n",
    "                if df>0 :\n",
    "                    #print (i)\n",
    "                    if ds==0:\n",
    "                        ds = df/1000\n",
    "                    avg = df/ds\n",
    "                    if df > 0.01*(fuelmax- fuelmin):\n",
    "                        if avg >= 5:\n",
    "                            indexlst.append(pos)\n",
    "                            print(\"df = \",df, \"***df/ds = \",df/ds,\"****\",pos)\n",
    "                    \n",
    "                    avgDT.append(avg)\n",
    "                    \n",
    "            \n",
    "        print(indexlst)\n",
    "        indexlst = pd.Series(indexlst)\n",
    "        shift = indexlst.shift(-1) - indexlst\n",
    "        indexlst = indexlst[shift > 15]\n",
    "        \n",
    "        print(indexlst)\n",
    "        \n",
    "        \n",
    "        \n",
    "        #print(dfW)\n",
    "        indexlst_lst.append(indexlst)\n",
    "        if len(avgDT)!=0 :\n",
    "            avgdt_lst.append(avgDT)\n",
    "            med = pd.Series(avgDT).median()\n",
    "            mean = pd.Series(avgDT).mean()\n",
    "            #print (med,mean,mode)\n",
    "\n",
    "            median_lst.append(med)\n",
    "            mean_lst.append(mean)\n",
    "        ctr+=1\n",
    "        dfW += dfmax/10\n",
    "        print (dfW)\n",
    "\n",
    "        \n",
    "    return [median_lst,mean_lst], avgdt_lst, indexlst_lst\n",
    "\n",
    "central_DT2, avgLst2, indexlst2 = findAVG2(df_clean2, Dmax, fuelMax, fuelMin)"
   ]
  },
  {
   "cell_type": "code",
   "execution_count": null,
   "metadata": {},
   "outputs": [],
   "source": [
    "a = pd.Series([1,2,3,4,5,6])\n",
    "b = pd.Series([0,0,1,1,0,1])\n",
    "a[b==0]"
   ]
  },
  {
   "cell_type": "code",
   "execution_count": null,
   "metadata": {},
   "outputs": [],
   "source": [
    "pd.Series(a>2).mean()"
   ]
  },
  {
   "cell_type": "code",
   "execution_count": null,
   "metadata": {
    "scrolled": true
   },
   "outputs": [],
   "source": [
    "def findMax_decayRate(cleanDf):\n",
    "\n",
    "    i = 0\n",
    "    dt = (cleanDf.fuelVoltage.max() - cleanDf.fuelVoltage.min())/500\n",
    "    avgDT = []\n",
    "    indexlst = []\n",
    "    \n",
    "    while i<len(cleanDf): \n",
    "        df = 0\n",
    "        dfRef = cleanDf.fuelVoltage[i]\n",
    "        dsRef = cleanDf.distance[i]\n",
    "        pos = i\n",
    "        while (df<=dt  and i<len(cleanDf)):\n",
    "            df = dfRef - cleanDf.fuelVoltage[i] \n",
    "            if df <0 :\n",
    "                dfRef = cleanDf.fuelVoltage[i]\n",
    "                pos = i\n",
    "            i+=1\n",
    "            #print(i)\n",
    "\n",
    "        if i<len(cleanDf):\n",
    "            ds = cleanDf.distance[i] - dsRef\n",
    "            if df>0 :\n",
    "                #print (i)\n",
    "                if ds==0:\n",
    "                    ds = df/1000\n",
    "                    #print(\"df = \",df,\"****\",i)\n",
    "                avg = df/ds\n",
    "                avgDT.append(avg)\n",
    "                indexlst.append(cleanDf.index[i])\n",
    "\n",
    "        med = pd.Series(avgDT).median()\n",
    "        mean = pd.Series(avgDT).mean()\n",
    "        avg = pd.Series(avgDT)\n",
    "        max_dCRate = avg.median()+ 3*abs(avg - avg.median()).median()\n",
    "        \n",
    "    return pd.Series(avgDT), max_dCRate\n",
    "\n",
    "avgDT,max_dCRate = findMax_decayRate(df_clean2)"
   ]
  },
  {
   "cell_type": "code",
   "execution_count": null,
   "metadata": {},
   "outputs": [],
   "source": [
    "len(df_clean2), len(avgDT), len(indexlst2), max_dCRate"
   ]
  },
  {
   "cell_type": "code",
   "execution_count": null,
   "metadata": {
    "scrolled": true
   },
   "outputs": [],
   "source": [
    "sum(avgDT==1000)"
   ]
  },
  {
   "cell_type": "code",
   "execution_count": null,
   "metadata": {},
   "outputs": [],
   "source": [
    "#dt = [i*100 for (i,dt) in zip(len(central_DT[0]),Dmax) ]\n",
    "plt.rcParams['figure.figsize'] = [16,12]\n",
    "plt.subplot(3,1,1)\n",
    "plt.plot(df_clean2.index, df_clean2.fuelVoltage, 'g.', markersize=1)\n",
    "for pt in indexlst2[5]:\n",
    "    plt.axvline(pt, color = 'black');\n",
    "    #plt.text(pt, 200, \"sds\")\n",
    "plt.grid()\n",
    "plt.title('Histogram plot for Average Median for Varying Windows size')\n",
    "#plt.xlim(0,30000)\n",
    "#plt.text(1220, 200, \"sds\")\n",
    "\n",
    "plt.subplot(3,1,2)\n",
    "plt.plot(central_DT2[0]);\n",
    "#plt.ylim(0,.002)\n",
    "plt.grid()\n",
    "plt.title(\"Median dF/dS vs Increasing Ds\")"
   ]
  },
  {
   "cell_type": "code",
   "execution_count": null,
   "metadata": {},
   "outputs": [],
   "source": [
    "def f2(x):\n",
    "    return x\n",
    "def f(x):    \n",
    "    index = indexlst2[x]\n",
    "    avg = pd.Series(avgLst2[x])\n",
    "    avg = pd.Series(avg)\n",
    "    plt.rcParams['figure.figsize'] = [16,8]\n",
    "    interact(f2, x=str(len(avg[avg>=100])));\n",
    "    interact(f2, x=str(pd.Series(avg).median()+ 3*abs(avg - avg.median()).median()));\n",
    "    plt.subplot(2,1,1)\n",
    "    plt.plot(index, avg, 'g.')\n",
    "    plt.semilogy()\n",
    "    plt.axhline(pd.Series(avg).median(), color = 'red')\n",
    "    plt.axhline(pd.Series(avg).median() + 2*pd.Series(avg).std(), color = 'Black')\n",
    "    plt.axhline(pd.Series(avg).median()+ 4*abs(avg - avg.median()).median(), color = 'Blue')\n",
    "    plt.axhline(pd.Series(avg).median()- 2*abs(avg - avg.median()).median(), color = 'Blue')\n",
    "    abs(avg - avg.median()).median()\n",
    "   # plt.ylim(0,0.05)\n",
    "    plt.subplot(2,1,2)\n",
    "    plt.plot(index,avg)\n",
    "    plt.semilogy()\n",
    "    plt.semilogx()\n",
    "    #plt.ylim(0,0.1)\n",
    "    #plt.axhline(pd.Series(avg).median(), color = 'red')\n",
    "   # plt.axhline(pd.Series(avg).mean(), color = 'blue')\n",
    "   ## plt.axhline(pd.Series(avg).median() + 2*pd.Series(avg).std(), color = 'Black')\n",
    "    \n",
    "    \n",
    "interact(f, x= IntSlider(min=0, max=9, step=1,value=1));\n"
   ]
  },
  {
   "cell_type": "code",
   "execution_count": null,
   "metadata": {},
   "outputs": [],
   "source": [
    "teftpt = []\n",
    "for avg in avgLst2:\n",
    "    avg = pd.Series(avg)\n",
    "    teftpt.append(len(avg[avg>=100]))\n",
    "plt.plot(teftpt)"
   ]
  },
  {
   "cell_type": "code",
   "execution_count": null,
   "metadata": {},
   "outputs": [],
   "source": [
    "IntProgress(\n",
    "    value=7,\n",
    "    min=0,\n",
    "    max=10,\n",
    "    step=1,\n",
    "    description='Loading:',\n",
    "    bar_style='', # 'success', 'info', 'warning', 'danger' or ''\n",
    "    orientation='horizontal'\n",
    ")"
   ]
  },
  {
   "cell_type": "code",
   "execution_count": null,
   "metadata": {},
   "outputs": [],
   "source": [
    " avg = pd.Series(avgLst2[0])\n",
    "abs(avg - avg.median()).median()"
   ]
  },
  {
   "cell_type": "code",
   "execution_count": null,
   "metadata": {},
   "outputs": [],
   "source": [
    "avg[avg!=1000].median(), avg[avg!=1000].std()"
   ]
  },
  {
   "cell_type": "code",
   "execution_count": null,
   "metadata": {},
   "outputs": [],
   "source": [
    "meddev = []\n",
    "for  avg in avgLst2:\n",
    "    avg = pd.Series(avg)\n",
    "    meddev.append(pd.Series(avg).median()+ 2*abs(avg - avg.median()).median())\n",
    "plt.rcParams['figure.figsize'] = [16,4]\n",
    "plt.plot(meddev)\n",
    "plt.axhline(pd.Series(meddev).median(), color = 'red')\n",
    "plt.axhline(pd.Series(meddev).mean(), color = 'Black')\n",
    "plt.xlim(0,100)"
   ]
  },
  {
   "cell_type": "code",
   "execution_count": null,
   "metadata": {},
   "outputs": [],
   "source": [
    "pd.Series(meddev).mean(), max(meddev)"
   ]
  },
  {
   "cell_type": "code",
   "execution_count": null,
   "metadata": {},
   "outputs": [],
   "source": [
    "a = avgDT.value_counts()\n",
    "avgDT.median(), avgDT.mean(), avgDT.mode()"
   ]
  },
  {
   "cell_type": "markdown",
   "metadata": {},
   "source": [
    "10km:\n",
    "mean = 0.0167\n",
    "median = 0.0131\n",
    "mode = 0.0037\n",
    "\n",
    "1km:\n",
    "mean = 0.0095\n",
    "median = 0.00562\n",
    "mode = 0.00187\n",
    "\n",
    "5km:\n",
    "mean = 0.00138\n",
    "median = 0.00936\n",
    "mode = 0.00187\n",
    "\n",
    "0.5Km\n",
    "mean = 0.00138\n",
    "median = 0.00936\n",
    "mode = 0.00187\n",
    "\n",
    "50km\n",
    "mean = 0.0373\n",
    "median = 0.0365\n",
    "mode = 0.0411\n",
    "\n",
    "100km\n",
    "mean = 0.065988\n",
    "median = 0.0692\n",
    "mode = 0.048689\n",
    "\n",
    "\n",
    "\n",
    "\n",
    "\n",
    "\n",
    "\n"
   ]
  },
  {
   "cell_type": "code",
   "execution_count": null,
   "metadata": {},
   "outputs": [],
   "source": []
  },
  {
   "cell_type": "code",
   "execution_count": null,
   "metadata": {},
   "outputs": [],
   "source": [
    "plt.plot(df_clean.distance * .001*Dmax, df_clean.fuelVoltage,  'g.')"
   ]
  },
  {
   "cell_type": "code",
   "execution_count": null,
   "metadata": {},
   "outputs": [],
   "source": []
  },
  {
   "cell_type": "code",
   "execution_count": null,
   "metadata": {},
   "outputs": [],
   "source": []
  }
 ],
 "metadata": {
  "kernelspec": {
   "display_name": "Python 3",
   "language": "python",
   "name": "python3"
  },
  "language_info": {
   "codemirror_mode": {
    "name": "ipython",
    "version": 3
   },
   "file_extension": ".py",
   "mimetype": "text/x-python",
   "name": "python",
   "nbconvert_exporter": "python",
   "pygments_lexer": "ipython3",
   "version": "3.6.4"
  }
 },
 "nbformat": 4,
 "nbformat_minor": 2
}
