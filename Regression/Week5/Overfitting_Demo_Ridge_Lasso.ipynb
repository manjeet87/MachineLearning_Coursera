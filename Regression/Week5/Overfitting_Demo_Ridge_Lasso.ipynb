{
 "cells": [
  {
   "cell_type": "markdown",
   "metadata": {},
   "source": [
    "# Overfitting demo\n",
    "\n",
    "## Create a dataset based on a true sinusoidal relationship\n",
    "Let's look at a synthetic dataset consisting of 30 points drawn from the sinusoid $y = \\sin(4x)$:"
   ]
  },
  {
   "cell_type": "code",
   "execution_count": 30,
   "metadata": {},
   "outputs": [],
   "source": [
    "import math\n",
    "import random\n",
    "import numpy as np\n",
    "import pandas as pd\n",
    "from sklearn import linear_model\n",
    "from matplotlib import pyplot as plt\n",
    "%matplotlib inline"
   ]
  },
  {
   "cell_type": "markdown",
   "metadata": {},
   "source": [
    "Create random values for x in interval [0,1)"
   ]
  },
  {
   "cell_type": "code",
   "execution_count": 96,
   "metadata": {},
   "outputs": [],
   "source": [
    "random.seed(98103)\n",
    "n = 30\n",
    "x = np.array([random.random() for i in range(n)])"
   ]
  },
  {
   "cell_type": "code",
   "execution_count": 98,
   "metadata": {},
   "outputs": [
    {
     "data": {
      "text/plain": [
       "(30, array([0.03957894, 0.0415681 , 0.07243195, 0.15028904, 0.16133414,\n",
       "        0.19195631, 0.23283392, 0.25990098, 0.38014581, 0.43244472,\n",
       "        0.47056698, 0.4714946 , 0.4787064 , 0.49053554, 0.54678006,\n",
       "        0.56968036, 0.60793245, 0.62023754, 0.63009313, 0.64500967,\n",
       "        0.6467576 , 0.69908978, 0.79024505, 0.81038465, 0.82932089,\n",
       "        0.85011156, 0.88636844, 0.89114108, 0.90438848, 0.92448587]))"
      ]
     },
     "execution_count": 98,
     "metadata": {},
     "output_type": "execute_result"
    }
   ],
   "source": [
    "n,x"
   ]
  },
  {
   "cell_type": "markdown",
   "metadata": {},
   "source": [
    "Compute y"
   ]
  },
  {
   "cell_type": "code",
   "execution_count": 101,
   "metadata": {},
   "outputs": [
    {
     "data": {
      "text/plain": [
       "array([ 0.15765527,  0.16550732,  0.28569137,  0.56559633,  0.60146736,\n",
       "        0.69457232,  0.80241773,  0.86220366,  0.99873959,  0.98738887,\n",
       "        0.95188361,  0.95073995,  0.9414033 ,  0.92439655,  0.81600889,\n",
       "        0.75971273,  0.65172975,  0.6136243 ,  0.58202776,  0.53250217,\n",
       "        0.52657119,  0.33841644, -0.01938632, -0.09977964, -0.17478847,\n",
       "       -0.25597249, -0.39299012, -0.41047204, -0.45819309, -0.52809088])"
      ]
     },
     "execution_count": 101,
     "metadata": {},
     "output_type": "execute_result"
    }
   ],
   "source": [
    "def func(x):\n",
    "    return math.sin(4*x)\n",
    "\n",
    "y = np.array([math.sin(4*i) for i in x])\n",
    "y"
   ]
  },
  {
   "cell_type": "markdown",
   "metadata": {},
   "source": [
    "Add random Gaussian noise to y"
   ]
  },
  {
   "cell_type": "code",
   "execution_count": 102,
   "metadata": {},
   "outputs": [
    {
     "data": {
      "text/plain": [
       "array([ 0.58705019,  0.64865585,  0.30780331,  0.31074845,  0.23740963,\n",
       "        0.70501716,  0.46171668,  0.38326051,  1.06517691,  1.03184707,\n",
       "        1.13403971,  0.64608297,  0.94307173,  0.90281597,  0.31406589,\n",
       "        0.93904512,  0.75863345,  1.40999498,  0.64968415,  0.48426807,\n",
       "        0.93749025,  0.40468019,  0.28362402, -0.22162773, -0.10206453,\n",
       "        0.08545707, -0.16090778, -0.36764796, -0.81896243, -0.37968362])"
      ]
     },
     "execution_count": 102,
     "metadata": {},
     "output_type": "execute_result"
    }
   ],
   "source": [
    "random.seed(1)\n",
    "e = np.array([random.gauss(0,1.0/3.0) for i in range(n)])\n",
    "y = y + e\n",
    "y"
   ]
  },
  {
   "cell_type": "markdown",
   "metadata": {},
   "source": [
    "### Put data into an DataFrame to manipulate later"
   ]
  },
  {
   "cell_type": "code",
   "execution_count": 103,
   "metadata": {
    "scrolled": true
   },
   "outputs": [
    {
     "data": {
      "text/html": [
       "<div>\n",
       "<style scoped>\n",
       "    .dataframe tbody tr th:only-of-type {\n",
       "        vertical-align: middle;\n",
       "    }\n",
       "\n",
       "    .dataframe tbody tr th {\n",
       "        vertical-align: top;\n",
       "    }\n",
       "\n",
       "    .dataframe thead th {\n",
       "        text-align: right;\n",
       "    }\n",
       "</style>\n",
       "<table border=\"1\" class=\"dataframe\">\n",
       "  <thead>\n",
       "    <tr style=\"text-align: right;\">\n",
       "      <th></th>\n",
       "      <th>X1</th>\n",
       "      <th>Y</th>\n",
       "    </tr>\n",
       "  </thead>\n",
       "  <tbody>\n",
       "    <tr>\n",
       "      <th>0</th>\n",
       "      <td>0.039579</td>\n",
       "      <td>0.587050</td>\n",
       "    </tr>\n",
       "    <tr>\n",
       "      <th>1</th>\n",
       "      <td>0.041568</td>\n",
       "      <td>0.648656</td>\n",
       "    </tr>\n",
       "  </tbody>\n",
       "</table>\n",
       "</div>"
      ],
      "text/plain": [
       "         X1         Y\n",
       "0  0.039579  0.587050\n",
       "1  0.041568  0.648656"
      ]
     },
     "execution_count": 103,
     "metadata": {},
     "output_type": "execute_result"
    }
   ],
   "source": [
    "data = pd.DataFrame({'X1':x,'Y':y})\n",
    "data[:2]"
   ]
  },
  {
   "cell_type": "markdown",
   "metadata": {},
   "source": [
    "### Create a function to plot the data, since we'll do it many times"
   ]
  },
  {
   "cell_type": "code",
   "execution_count": 104,
   "metadata": {},
   "outputs": [
    {
     "data": {
      "image/png": "[encoded data removed]",
      "text/plain": [
       "<Figure size 432x288 with 1 Axes>"
      ]
     },
     "metadata": {},
     "output_type": "display_data"
    }
   ],
   "source": [
    "def plot_data(data):    \n",
    "    plt.plot(data['X1'],data['Y'],'k.')\n",
    "    plt.xlabel('x')\n",
    "    plt.ylabel('y')\n",
    "\n",
    "plot_data(data)"
   ]
  },
  {
   "cell_type": "markdown",
   "metadata": {},
   "source": [
    "## Define some useful polynomial regression functions"
   ]
  },
  {
   "cell_type": "markdown",
   "metadata": {},
   "source": [
    "Define a function to create our features for a polynomial regression model of any degree:"
   ]
  },
  {
   "cell_type": "code",
   "execution_count": 87,
   "metadata": {},
   "outputs": [],
   "source": [
    "def polynomial_features(data, deg):\n",
    "    data_copy=data.copy()\n",
    "    for i in range(1,deg):\n",
    "        data_copy['X'+str(i+1)]=data_copy['X'+str(i)]*data_copy['X1']\n",
    "    #print (data_copy.head(2))\n",
    "    return data_copy"
   ]
  },
  {
   "cell_type": "markdown",
   "metadata": {},
   "source": [
    "Define a function to fit a polynomial linear regression model of degree \"deg\" to the data in \"data\":"
   ]
  },
  {
   "cell_type": "code",
   "execution_count": 88,
   "metadata": {},
   "outputs": [],
   "source": [
    "def polynomial_regression(data, deg):\n",
    "    model = linear_model.LinearRegression()\n",
    "    output = data['Y']\n",
    "    model.fit(polynomial_features(data.drop(['Y'], axis= 1), deg), output)\n",
    "    \n",
    "    return model"
   ]
  },
  {
   "cell_type": "markdown",
   "metadata": {},
   "source": [
    "Define function to plot data and predictions made, since we are going to use it many times."
   ]
  },
  {
   "cell_type": "code",
   "execution_count": 89,
   "metadata": {},
   "outputs": [],
   "source": [
    "def plot_poly_predictions(data, model):\n",
    "    plot_data(data)\n",
    "\n",
    "    # Get the degree of the polynomial\n",
    "    deg = len(model.coef_)\n",
    "    \n",
    "    # Create 200 points in the x axis and compute the predicted value for each point\n",
    "    x_pred = pd.DataFrame({'X1':[i/200.0 for i in range(200)]})\n",
    "    y_pred = model.predict(polynomial_features(x_pred,deg))\n",
    "    \n",
    "    # plot predictions\n",
    "    plt.plot(x_pred['X1'], y_pred, 'g-', label='degree ' + str(deg) + ' fit')\n",
    "    plt.legend(loc='upper left')\n",
    "    plt.axis([0,1,-1.5,2])"
   ]
  },
  {
   "cell_type": "markdown",
   "metadata": {},
   "source": [
    "Create a function that prints the polynomial coefficients in a pretty way :)"
   ]
  },
  {
   "cell_type": "code",
   "execution_count": 90,
   "metadata": {},
   "outputs": [],
   "source": [
    "def print_coefficients(model):    \n",
    "    # Get the degree of the polynomial\n",
    "    deg = len(model.coef_)\n",
    "\n",
    "    # Get learned parameters as a list\n",
    "    w = list(model.coef_)\n",
    "\n",
    "    # Numpy has a nifty function to print out polynomials in a pretty way\n",
    "    # (We'll use it, but it needs the parameters in the reverse order)\n",
    "    print ('Learned polynomial for degree ' + str(deg) + ':')\n",
    "    w.reverse()\n",
    "    print (np.poly1d(w))"
   ]
  },
  {
   "cell_type": "markdown",
   "metadata": {},
   "source": [
    "## Fit a degree-2 polynomial"
   ]
  },
  {
   "cell_type": "markdown",
   "metadata": {},
   "source": [
    "Fit our degree-2 polynomial to the data generated above:"
   ]
  },
  {
   "cell_type": "code",
   "execution_count": 106,
   "metadata": {},
   "outputs": [],
   "source": [
    "model = polynomial_regression(data, deg=2)"
   ]
  },
  {
   "cell_type": "markdown",
   "metadata": {},
   "source": [
    "Inspect learned parameters"
   ]
  },
  {
   "cell_type": "code",
   "execution_count": 107,
   "metadata": {},
   "outputs": [
    {
     "name": "stdout",
     "output_type": "stream",
     "text": [
      "Learned polynomial for degree 2:\n",
      " \n",
      "-5.129 x + 4.147\n"
     ]
    }
   ],
   "source": [
    "print_coefficients(model)"
   ]
  },
  {
   "cell_type": "markdown",
   "metadata": {},
   "source": [
    "Form and plot our predictions along a grid of x values:"
   ]
  },
  {
   "cell_type": "code",
   "execution_count": 108,
   "metadata": {
    "scrolled": true
   },
   "outputs": [
    {
     "data": {
      "image/png": "[encoded data removed]",
      "text/plain": [
       "<Figure size 432x288 with 1 Axes>"
      ]
     },
     "metadata": {},
     "output_type": "display_data"
    }
   ],
   "source": [
    "plot_poly_predictions(data,model)"
   ]
  },
  {
   "cell_type": "markdown",
   "metadata": {
    "collapsed": true
   },
   "source": [
    "## Fit a degree-4 polynomial"
   ]
  },
  {
   "cell_type": "code",
   "execution_count": 109,
   "metadata": {},
   "outputs": [
    {
     "name": "stdout",
     "output_type": "stream",
     "text": [
      "Learned polynomial for degree 4:\n",
      "       3         2\n",
      "23.87 x - 53.82 x + 35.23 x - 6.828\n"
     ]
    },
    {
     "data": {
      "image/png": "[encoded data removed]",
      "text/plain": [
       "<Figure size 432x288 with 1 Axes>"
      ]
     },
     "metadata": {},
     "output_type": "display_data"
    }
   ],
   "source": [
    "model = polynomial_regression(data, deg=4)\n",
    "print_coefficients(model)\n",
    "plot_poly_predictions(data,model)"
   ]
  },
  {
   "cell_type": "markdown",
   "metadata": {},
   "source": [
    "## Fit a degree-16 polynomial"
   ]
  },
  {
   "cell_type": "code",
   "execution_count": 111,
   "metadata": {},
   "outputs": [
    {
     "name": "stdout",
     "output_type": "stream",
     "text": [
      "Learned polynomial for degree 16:\n",
      "           15             14            13             12\n",
      "3.337e+08 x  - 2.226e+09 x  + 6.62e+09 x  - 1.156e+10 x \n",
      "              11         10             9             8            7\n",
      " + 1.309e+10 x  - 1e+10 x  + 5.141e+09 x - 1.658e+09 x + 2.26e+08 x\n",
      "              6             5             4             3             2\n",
      " + 6.688e+07 x - 4.733e+07 x + 1.393e+07 x - 2.547e+06 x + 3.018e+05 x - 2.188e+04 x + 839.3\n"
     ]
    }
   ],
   "source": [
    "model = polynomial_regression(data, deg=16)\n",
    "print_coefficients(model)"
   ]
  },
  {
   "cell_type": "markdown",
   "metadata": {},
   "source": [
    "###Woah!!!!  Those coefficients are *crazy*!  On the order of 10^6."
   ]
  },
  {
   "cell_type": "code",
   "execution_count": 112,
   "metadata": {},
   "outputs": [
    {
     "data": {
      "image/png": "[encoded data removed]",
      "text/plain": [
       "<Figure size 432x288 with 1 Axes>"
      ]
     },
     "metadata": {},
     "output_type": "display_data"
    }
   ],
   "source": [
    "plot_poly_predictions(data,model)"
   ]
  },
  {
   "cell_type": "markdown",
   "metadata": {},
   "source": [
    "### Above: Fit looks pretty wild, too.  Here's a clear example of how overfitting is associated with very large magnitude estimated coefficients."
   ]
  },
  {
   "cell_type": "markdown",
   "metadata": {},
   "source": [
    "# "
   ]
  },
  {
   "cell_type": "markdown",
   "metadata": {},
   "source": [
    "# "
   ]
  },
  {
   "cell_type": "markdown",
   "metadata": {},
   "source": [
    " # "
   ]
  },
  {
   "cell_type": "markdown",
   "metadata": {},
   "source": [
    " # "
   ]
  },
  {
   "cell_type": "markdown",
   "metadata": {
    "collapsed": true
   },
   "source": [
    "# Ridge Regression"
   ]
  },
  {
   "cell_type": "markdown",
   "metadata": {},
   "source": [
    "Ridge regression aims to avoid overfitting by adding a cost to the RSS term of standard least squares that depends on the 2-norm of the coefficients $\\|w\\|$.  The result is penalizing fits with large coefficients.  The strength of this penalty, and thus the fit vs. model complexity balance, is controled by a parameter lambda (here called \"L2_penalty\")."
   ]
  },
  {
   "cell_type": "markdown",
   "metadata": {},
   "source": [
    "Define our function to solve the ridge objective for a polynomial regression model of any degree:"
   ]
  },
  {
   "cell_type": "code",
   "execution_count": 113,
   "metadata": {},
   "outputs": [],
   "source": [
    "def polynomial_ridge_regression(data, deg, l2_penalty):\n",
    "    model = linear_model.Ridge(alpha = l2_penalty, normalize= True)\n",
    "    model.fit(polynomial_features(data.drop(['Y'], axis=1),deg),data['Y']) \n",
    "    return model"
   ]
  },
  {
   "cell_type": "markdown",
   "metadata": {},
   "source": [
    "## Perform a ridge fit of a degree-16 polynomial using a *very* small penalty strength"
   ]
  },
  {
   "cell_type": "code",
   "execution_count": 114,
   "metadata": {},
   "outputs": [
    {
     "name": "stdout",
     "output_type": "stream",
     "text": [
      "Learned polynomial for degree 16:\n",
      "           15             14             13             12\n",
      "3.293e+08 x  - 2.191e+09 x  + 6.497e+09 x  - 1.129e+10 x \n",
      "             11             10             9             8\n",
      " + 1.27e+10 x  - 9.603e+09 x  + 4.838e+09 x - 1.487e+09 x\n",
      "              7             6             5             4             3\n",
      " + 1.539e+08 x + 8.959e+07 x - 5.262e+07 x + 1.483e+07 x - 2.654e+06 x\n",
      "              2\n",
      " + 3.103e+05 x - 2.231e+04 x + 851.7\n"
     ]
    }
   ],
   "source": [
    "model = polynomial_ridge_regression(data, deg=16, l2_penalty=1e-25)\n",
    "print_coefficients(model)"
   ]
  },
  {
   "cell_type": "code",
   "execution_count": 115,
   "metadata": {},
   "outputs": [
    {
     "data": {
      "image/png": "[encoded data removed]",
      "text/plain": [
       "<Figure size 432x288 with 1 Axes>"
      ]
     },
     "metadata": {},
     "output_type": "display_data"
    }
   ],
   "source": [
    "plot_poly_predictions(data,model)"
   ]
  },
  {
   "cell_type": "markdown",
   "metadata": {},
   "source": [
    "## Perform a ridge fit of a degree-16 polynomial using a very large penalty strength"
   ]
  },
  {
   "cell_type": "code",
   "execution_count": 116,
   "metadata": {},
   "outputs": [
    {
     "name": "stdout",
     "output_type": "stream",
     "text": [
      "Learned polynomial for degree 16:\n",
      "          15           14           13           12           11\n",
      "-0.04743 x  - 0.04365 x  - 0.04012 x  - 0.03683 x  - 0.03375 x \n",
      "            10           9          8          7           6\n",
      " - 0.03086 x  - 0.02815 x - 0.0256 x - 0.0232 x - 0.02093 x\n",
      "            5           4           3           2\n",
      " - 0.01875 x - 0.01664 x - 0.01452 x - 0.01227 x - 0.009741 x - 0.007007\n"
     ]
    }
   ],
   "source": [
    "model = polynomial_ridge_regression(data, deg=16, l2_penalty=100)\n",
    "print_coefficients(model)"
   ]
  },
  {
   "cell_type": "code",
   "execution_count": 117,
   "metadata": {},
   "outputs": [
    {
     "data": {
      "image/png": "[encoded data removed]",
      "text/plain": [
       "<Figure size 432x288 with 1 Axes>"
      ]
     },
     "metadata": {},
     "output_type": "display_data"
    }
   ],
   "source": [
    "plot_poly_predictions(data,model)"
   ]
  },
  {
   "cell_type": "markdown",
   "metadata": {},
   "source": [
    "## Let's look at fits for a sequence of increasing lambda values"
   ]
  },
  {
   "cell_type": "code",
   "execution_count": 119,
   "metadata": {
    "scrolled": false
   },
   "outputs": [
    {
     "name": "stdout",
     "output_type": "stream",
     "text": [
      "lambda = 1.00e-25\n",
      "Learned polynomial for degree 16:\n",
      "           15             14             13             12\n",
      "3.293e+08 x  - 2.191e+09 x  + 6.497e+09 x  - 1.129e+10 x \n",
      "             11             10             9             8\n",
      " + 1.27e+10 x  - 9.603e+09 x  + 4.838e+09 x - 1.487e+09 x\n",
      "              7             6             5             4             3\n",
      " + 1.539e+08 x + 8.959e+07 x - 5.262e+07 x + 1.483e+07 x - 2.654e+06 x\n",
      "              2\n",
      " + 3.103e+05 x - 2.231e+04 x + 851.7\n",
      "\n",
      "\n",
      "lambda = 1.00e-10\n",
      "Learned polynomial for degree 16:\n",
      "           15             14        13        12             11\n",
      "1.676e+04 x  - 2.367e+04 x  - 9280 x  + 9660 x  + 1.349e+04 x \n",
      "         10        9        8         7        6        5        4\n",
      " + 3891 x  - 7130 x - 8800 x - 569.7 x + 6784 x + 2570 x - 5555 x\n",
      "         3         2\n",
      " + 2185 x - 349.4 x + 51.11 x - 8.385\n",
      "\n",
      "\n",
      "lambda = 1.00e-06\n",
      "Learned polynomial for degree 16:\n",
      "        15          14         13         12         11         10\n",
      "-25.23 x  - 0.4828 x  + 20.96 x  + 27.57 x  + 17.57 x  - 2.958 x \n",
      "          9         8         7        6         5         4         3\n",
      " - 23.09 x - 31.18 x - 20.17 x + 6.88 x + 33.22 x + 31.97 x - 13.55 x\n",
      "          2\n",
      " - 58.93 x + 44.83 x - 8.669\n",
      "\n",
      "\n",
      "lambda = 1.00e-03\n",
      "Learned polynomial for degree 16:\n",
      "        15         14          13         12         11         10\n",
      "-1.258 x  - 0.268 x  + 0.5034 x  + 1.033 x  + 1.307 x  + 1.319 x \n",
      "          9         8         7          6         5         4\n",
      " + 1.071 x + 0.577 x - 0.129 x - 0.9772 x - 1.826 x - 2.396 x\n",
      "          3          2\n",
      " - 2.175 x - 0.4376 x + 2.724 x + 0.1632\n",
      "\n",
      "\n",
      "lambda = 1.00e+02\n",
      "Learned polynomial for degree 16:\n",
      "          15           14           13           12           11\n",
      "-0.04743 x  - 0.04365 x  - 0.04012 x  - 0.03683 x  - 0.03375 x \n",
      "            10           9          8          7           6\n",
      " - 0.03086 x  - 0.02815 x - 0.0256 x - 0.0232 x - 0.02093 x\n",
      "            5           4           3           2\n",
      " - 0.01875 x - 0.01664 x - 0.01452 x - 0.01227 x - 0.009741 x - 0.007007\n",
      "\n",
      "\n"
     ]
    },
    {
     "data": {
      "image/png": "[encoded data removed]",
      "text/plain": [
       "<Figure size 432x288 with 1 Axes>"
      ]
     },
     "metadata": {},
     "output_type": "display_data"
    },
    {
     "data": {
      "image/png": "[encoded data removed]",
      "text/plain": [
       "<Figure size 432x288 with 1 Axes>"
      ]
     },
     "metadata": {},
     "output_type": "display_data"
    },
    {
     "data": {
      "image/png": "[encoded data removed]",
      "text/plain": [
       "<Figure size 432x288 with 1 Axes>"
      ]
     },
     "metadata": {},
     "output_type": "display_data"
    },
    {
     "data": {
      "image/png": "[encoded data removed]",
      "text/plain": [
       "<Figure size 432x288 with 1 Axes>"
      ]
     },
     "metadata": {},
     "output_type": "display_data"
    },
    {
     "data": {
      "image/png": "[encoded data removed]",
      "text/plain": [
       "<Figure size 432x288 with 1 Axes>"
      ]
     },
     "metadata": {},
     "output_type": "display_data"
    }
   ],
   "source": [
    "for l2_penalty in [1e-25, 1e-10, 1e-6, 1e-3, 1e2]:\n",
    "    model = polynomial_ridge_regression(data, deg=16, l2_penalty=l2_penalty)\n",
    "    print ('lambda = %.2e' % l2_penalty)\n",
    "    print_coefficients(model)\n",
    "    print ('\\n')\n",
    "    plt.figure()\n",
    "    plot_poly_predictions(data,model)\n",
    "    plt.title('Ridge, lambda = %.2e' % l2_penalty)"
   ]
  },
  {
   "cell_type": "code",
   "execution_count": 120,
   "metadata": {
    "scrolled": true
   },
   "outputs": [
    {
     "data": {
      "text/html": [
       "<div>\n",
       "<style scoped>\n",
       "    .dataframe tbody tr th:only-of-type {\n",
       "        vertical-align: middle;\n",
       "    }\n",
       "\n",
       "    .dataframe tbody tr th {\n",
       "        vertical-align: top;\n",
       "    }\n",
       "\n",
       "    .dataframe thead th {\n",
       "        text-align: right;\n",
       "    }\n",
       "</style>\n",
       "<table border=\"1\" class=\"dataframe\">\n",
       "  <thead>\n",
       "    <tr style=\"text-align: right;\">\n",
       "      <th></th>\n",
       "      <th>X1</th>\n",
       "      <th>Y</th>\n",
       "    </tr>\n",
       "  </thead>\n",
       "  <tbody>\n",
       "    <tr>\n",
       "      <th>0</th>\n",
       "      <td>0.039579</td>\n",
       "      <td>0.587050</td>\n",
       "    </tr>\n",
       "    <tr>\n",
       "      <th>1</th>\n",
       "      <td>0.041568</td>\n",
       "      <td>0.648656</td>\n",
       "    </tr>\n",
       "    <tr>\n",
       "      <th>2</th>\n",
       "      <td>0.072432</td>\n",
       "      <td>0.307803</td>\n",
       "    </tr>\n",
       "    <tr>\n",
       "      <th>3</th>\n",
       "      <td>0.150289</td>\n",
       "      <td>0.310748</td>\n",
       "    </tr>\n",
       "    <tr>\n",
       "      <th>4</th>\n",
       "      <td>0.161334</td>\n",
       "      <td>0.237410</td>\n",
       "    </tr>\n",
       "    <tr>\n",
       "      <th>5</th>\n",
       "      <td>0.191956</td>\n",
       "      <td>0.705017</td>\n",
       "    </tr>\n",
       "    <tr>\n",
       "      <th>6</th>\n",
       "      <td>0.232834</td>\n",
       "      <td>0.461717</td>\n",
       "    </tr>\n",
       "    <tr>\n",
       "      <th>7</th>\n",
       "      <td>0.259901</td>\n",
       "      <td>0.383261</td>\n",
       "    </tr>\n",
       "    <tr>\n",
       "      <th>8</th>\n",
       "      <td>0.380146</td>\n",
       "      <td>1.065177</td>\n",
       "    </tr>\n",
       "    <tr>\n",
       "      <th>9</th>\n",
       "      <td>0.432445</td>\n",
       "      <td>1.031847</td>\n",
       "    </tr>\n",
       "    <tr>\n",
       "      <th>10</th>\n",
       "      <td>0.470567</td>\n",
       "      <td>1.134040</td>\n",
       "    </tr>\n",
       "    <tr>\n",
       "      <th>11</th>\n",
       "      <td>0.471495</td>\n",
       "      <td>0.646083</td>\n",
       "    </tr>\n",
       "    <tr>\n",
       "      <th>12</th>\n",
       "      <td>0.478706</td>\n",
       "      <td>0.943072</td>\n",
       "    </tr>\n",
       "    <tr>\n",
       "      <th>13</th>\n",
       "      <td>0.490536</td>\n",
       "      <td>0.902816</td>\n",
       "    </tr>\n",
       "    <tr>\n",
       "      <th>14</th>\n",
       "      <td>0.546780</td>\n",
       "      <td>0.314066</td>\n",
       "    </tr>\n",
       "    <tr>\n",
       "      <th>15</th>\n",
       "      <td>0.569680</td>\n",
       "      <td>0.939045</td>\n",
       "    </tr>\n",
       "    <tr>\n",
       "      <th>16</th>\n",
       "      <td>0.607932</td>\n",
       "      <td>0.758633</td>\n",
       "    </tr>\n",
       "    <tr>\n",
       "      <th>17</th>\n",
       "      <td>0.620238</td>\n",
       "      <td>1.409995</td>\n",
       "    </tr>\n",
       "    <tr>\n",
       "      <th>18</th>\n",
       "      <td>0.630093</td>\n",
       "      <td>0.649684</td>\n",
       "    </tr>\n",
       "    <tr>\n",
       "      <th>19</th>\n",
       "      <td>0.645010</td>\n",
       "      <td>0.484268</td>\n",
       "    </tr>\n",
       "    <tr>\n",
       "      <th>20</th>\n",
       "      <td>0.646758</td>\n",
       "      <td>0.937490</td>\n",
       "    </tr>\n",
       "    <tr>\n",
       "      <th>21</th>\n",
       "      <td>0.699090</td>\n",
       "      <td>0.404680</td>\n",
       "    </tr>\n",
       "    <tr>\n",
       "      <th>22</th>\n",
       "      <td>0.790245</td>\n",
       "      <td>0.283624</td>\n",
       "    </tr>\n",
       "    <tr>\n",
       "      <th>23</th>\n",
       "      <td>0.810385</td>\n",
       "      <td>-0.221628</td>\n",
       "    </tr>\n",
       "    <tr>\n",
       "      <th>24</th>\n",
       "      <td>0.829321</td>\n",
       "      <td>-0.102065</td>\n",
       "    </tr>\n",
       "    <tr>\n",
       "      <th>25</th>\n",
       "      <td>0.850112</td>\n",
       "      <td>0.085457</td>\n",
       "    </tr>\n",
       "    <tr>\n",
       "      <th>26</th>\n",
       "      <td>0.886368</td>\n",
       "      <td>-0.160908</td>\n",
       "    </tr>\n",
       "    <tr>\n",
       "      <th>27</th>\n",
       "      <td>0.891141</td>\n",
       "      <td>-0.367648</td>\n",
       "    </tr>\n",
       "    <tr>\n",
       "      <th>28</th>\n",
       "      <td>0.904388</td>\n",
       "      <td>-0.818962</td>\n",
       "    </tr>\n",
       "    <tr>\n",
       "      <th>29</th>\n",
       "      <td>0.924486</td>\n",
       "      <td>-0.379684</td>\n",
       "    </tr>\n",
       "  </tbody>\n",
       "</table>\n",
       "</div>"
      ],
      "text/plain": [
       "          X1         Y\n",
       "0   0.039579  0.587050\n",
       "1   0.041568  0.648656\n",
       "2   0.072432  0.307803\n",
       "3   0.150289  0.310748\n",
       "4   0.161334  0.237410\n",
       "5   0.191956  0.705017\n",
       "6   0.232834  0.461717\n",
       "7   0.259901  0.383261\n",
       "8   0.380146  1.065177\n",
       "9   0.432445  1.031847\n",
       "10  0.470567  1.134040\n",
       "11  0.471495  0.646083\n",
       "12  0.478706  0.943072\n",
       "13  0.490536  0.902816\n",
       "14  0.546780  0.314066\n",
       "15  0.569680  0.939045\n",
       "16  0.607932  0.758633\n",
       "17  0.620238  1.409995\n",
       "18  0.630093  0.649684\n",
       "19  0.645010  0.484268\n",
       "20  0.646758  0.937490\n",
       "21  0.699090  0.404680\n",
       "22  0.790245  0.283624\n",
       "23  0.810385 -0.221628\n",
       "24  0.829321 -0.102065\n",
       "25  0.850112  0.085457\n",
       "26  0.886368 -0.160908\n",
       "27  0.891141 -0.367648\n",
       "28  0.904388 -0.818962\n",
       "29  0.924486 -0.379684"
      ]
     },
     "execution_count": 120,
     "metadata": {},
     "output_type": "execute_result"
    }
   ],
   "source": [
    "data"
   ]
  },
  {
   "cell_type": "markdown",
   "metadata": {},
   "source": [
    "## Perform a ridge fit of a degree-16 polynomial using a \"good\" penalty strength"
   ]
  },
  {
   "cell_type": "markdown",
   "metadata": {},
   "source": [
    "We will learn about cross validation later in this course as a way to select a good value of the tuning parameter (penalty strength) lambda.  Here, we consider \"leave one out\" (LOO) cross validation, which one can show approximates average mean square error (MSE).  As a result, choosing lambda to minimize the LOO error is equivalent to choosing lambda to minimize an approximation to average MSE."
   ]
  },
  {
   "cell_type": "code",
   "execution_count": 30,
   "metadata": {
    "collapsed": true
   },
   "outputs": [],
   "source": [
    "# LOO cross validation -- return the average MSE\n",
    "def loo(data, deg, l2_penalty_values):\n",
    "    # Create polynomial features\n",
    "    data = polynomial_features(data, deg)\n",
    "    \n",
    "    # Create as many folds for cross validatation as number of data points\n",
    "    num_folds = len(data)\n",
    "    folds = graphlab.cross_validation.KFold(data,num_folds)\n",
    "    \n",
    "    # for each value of l2_penalty, fit a model for each fold and compute average MSE\n",
    "    l2_penalty_mse = []\n",
    "    min_mse = None\n",
    "    best_l2_penalty = None\n",
    "    for l2_penalty in l2_penalty_values:\n",
    "        next_mse = 0.0\n",
    "        for train_set, validation_set in folds:\n",
    "            # train model\n",
    "            model = graphlab.linear_regression.create(train_set,target='Y', \n",
    "                                                      l2_penalty=l2_penalty,\n",
    "                                                      validation_set=None,verbose=False)\n",
    "            \n",
    "            # predict on validation set \n",
    "            y_test_predicted = model.predict(validation_set)\n",
    "            # compute squared error\n",
    "            next_mse += ((y_test_predicted-validation_set['Y'])**2).sum()\n",
    "        \n",
    "        # save squared error in list of MSE for each l2_penalty\n",
    "        next_mse = next_mse/num_folds\n",
    "        l2_penalty_mse.append(next_mse)\n",
    "        if min_mse is None or next_mse < min_mse:\n",
    "            min_mse = next_mse\n",
    "            best_l2_penalty = l2_penalty\n",
    "            \n",
    "    return l2_penalty_mse,best_l2_penalty"
   ]
  },
  {
   "cell_type": "markdown",
   "metadata": {},
   "source": [
    "Run LOO cross validation for \"num\" values of lambda, on a log scale"
   ]
  },
  {
   "cell_type": "code",
   "execution_count": 31,
   "metadata": {},
   "outputs": [],
   "source": [
    "l2_penalty_values = numpy.logspace(-4, 10, num=10)\n",
    "l2_penalty_mse,best_l2_penalty = loo(data, 16, l2_penalty_values)"
   ]
  },
  {
   "cell_type": "markdown",
   "metadata": {},
   "source": [
    "Plot results of estimating LOO for each value of lambda"
   ]
  },
  {
   "cell_type": "code",
   "execution_count": 38,
   "metadata": {},
   "outputs": [
    {
     "data": {
      "image/png": "[encoded data removed]",
      "text/plain": [
       "<matplotlib.figure.Figure at 0x23e07320>"
      ]
     },
     "metadata": {},
     "output_type": "display_data"
    }
   ],
   "source": [
    "plt.plot(l2_penalty_values,l2_penalty_mse,'k-')\n",
    "plt.xlabel('$\\ell_2$ penalty')\n",
    "plt.ylabel('LOO cross validation error')\n",
    "plt.xscale('log')\n",
    "plt.yscale('log')"
   ]
  },
  {
   "cell_type": "markdown",
   "metadata": {},
   "source": [
    "Find the value of lambda, $\\lambda_{\\mathrm{CV}}$, that minimizes the LOO cross validation error, and plot resulting fit"
   ]
  },
  {
   "cell_type": "code",
   "execution_count": 39,
   "metadata": {},
   "outputs": [
    {
     "data": {
      "text/plain": [
       "0.12915496650148839"
      ]
     },
     "execution_count": 39,
     "metadata": {},
     "output_type": "execute_result"
    }
   ],
   "source": [
    "best_l2_penalty"
   ]
  },
  {
   "cell_type": "code",
   "execution_count": 34,
   "metadata": {},
   "outputs": [
    {
     "name": "stdout",
     "output_type": "stream",
     "text": [
      "Learned polynomial for degree 16:\n",
      "       16         15          14          13          12           11\n",
      "1.345 x  + 1.141 x  + 0.9069 x  + 0.6447 x  + 0.3569 x  + 0.04947 x \n",
      "           10          9          8         7         6         5\n",
      " - 0.2683 x  - 0.5821 x - 0.8701 x - 1.099 x - 1.216 x - 1.145 x\n",
      "           4           3          2\n",
      " - 0.7837 x - 0.07406 x + 0.7614 x + 0.7703 x + 0.3918\n"
     ]
    }
   ],
   "source": [
    "model = polynomial_ridge_regression(data, deg=16, l2_penalty=best_l2_penalty)\n",
    "print_coefficients(model)"
   ]
  },
  {
   "cell_type": "code",
   "execution_count": 35,
   "metadata": {},
   "outputs": [
    {
     "data": {
      "image/png": "[encoded data removed]",
      "text/plain": [
       "<matplotlib.figure.Figure at 0x3d072e8>"
      ]
     },
     "metadata": {},
     "output_type": "display_data"
    }
   ],
   "source": [
    "plot_poly_predictions(data,model)"
   ]
  },
  {
   "cell_type": "markdown",
   "metadata": {},
   "source": [
    "# "
   ]
  },
  {
   "cell_type": "markdown",
   "metadata": {},
   "source": [
    "# "
   ]
  },
  {
   "cell_type": "markdown",
   "metadata": {},
   "source": [
    "# "
   ]
  },
  {
   "cell_type": "markdown",
   "metadata": {},
   "source": [
    "# "
   ]
  },
  {
   "cell_type": "markdown",
   "metadata": {
    "collapsed": true
   },
   "source": [
    "# Lasso Regression"
   ]
  },
  {
   "cell_type": "markdown",
   "metadata": {},
   "source": [
    "Lasso regression jointly shrinks coefficients to avoid overfitting, and implicitly performs feature selection by setting some coefficients exactly to 0 for sufficiently large penalty strength lambda (here called \"L1_penalty\").  In particular, lasso takes the RSS term of standard least squares and adds a 1-norm cost of the coefficients $\\|w\\|$."
   ]
  },
  {
   "cell_type": "markdown",
   "metadata": {},
   "source": [
    "Define our function to solve the lasso objective for a polynomial regression model of any degree:"
   ]
  },
  {
   "cell_type": "code",
   "execution_count": 121,
   "metadata": {},
   "outputs": [],
   "source": [
    "def polynomial_lasso_regression(data, deg, l1_penalty):\n",
    "    model = linear_model.Lasso(alpha= l1_penalty, normalize= True, tol= 1e-10, max_iter=3000)\n",
    "    model.fit(polynomial_features(data.drop(['Y'], axis = True),deg),data['Y']) \n",
    "    return model"
   ]
  },
  {
   "cell_type": "markdown",
   "metadata": {},
   "source": [
    "## Explore the lasso solution as a function of a few different penalty strengths"
   ]
  },
  {
   "cell_type": "markdown",
   "metadata": {},
   "source": [
    "We refer to lambda in the lasso case below as \"l1_penalty\""
   ]
  },
  {
   "cell_type": "code",
   "execution_count": 128,
   "metadata": {
    "scrolled": false
   },
   "outputs": [
    {
     "name": "stderr",
     "output_type": "stream",
     "text": [
      "C:\\Users\\manje_000\\AppData\\Local\\Programs\\Python\\Python36\\lib\\site-packages\\sklearn\\linear_model\\coordinate_descent.py:491: ConvergenceWarning: Objective did not converge. You might want to increase the number of iterations. Fitting data with very small alpha may cause precision problems.\n",
      "  ConvergenceWarning)\n"
     ]
    },
    {
     "name": "stdout",
     "output_type": "stream",
     "text": [
      "l1_penalty = 1.000000e-04\n",
      "number of nonzeros = [-0.          3.35816042 -0.         -5.73062881 -0.74980394 -0.\n",
      " -0.          0.          0.          0.          0.22505805  0.9203845\n",
      "  0.38456899  0.60529781  0.36073899  0.        ]\n",
      "Learned polynomial for degree 16:\n",
      "        14          13          12          11          10     6     5\n",
      "0.3607 x  + 0.6053 x  + 0.3846 x  + 0.9204 x  + 0.2251 x  - 0 x - 0 x\n",
      "           4         3     2\n",
      " - 0.7498 x - 5.731 x - 0 x + 3.358 x - 0\n",
      "\n",
      "\n",
      "l1_penalty = 1.000000e-02\n",
      "number of nonzeros = [ 0.         -0.         -0.         -0.         -0.         -0.\n",
      " -1.63811486 -0.48129577 -0.         -0.         -0.         -0.\n",
      " -0.         -0.         -0.         -0.        ]\n",
      "Learned polynomial for degree 16:\n",
      "         7         6     5     4     3     2\n",
      "-0.4813 x - 1.638 x - 0 x - 0 x - 0 x - 0 x - 0 x\n",
      "\n",
      "\n",
      "l1_penalty = 1.000000e-01\n",
      "number of nonzeros = [-0. -0. -0. -0. -0. -0. -0. -0. -0. -0. -0. -0. -0. -0. -0. -0.]\n",
      "Learned polynomial for degree 16:\n",
      " \n",
      "0\n",
      "\n",
      "\n",
      "l1_penalty = 1.000000e+01\n",
      "number of nonzeros = [-0. -0. -0. -0. -0. -0. -0. -0. -0. -0. -0. -0. -0. -0. -0. -0.]\n",
      "Learned polynomial for degree 16:\n",
      " \n",
      "0\n",
      "\n",
      "\n"
     ]
    },
    {
     "data": {
      "image/png": "[encoded data removed]",
      "text/plain": [
       "<Figure size 432x288 with 1 Axes>"
      ]
     },
     "metadata": {},
     "output_type": "display_data"
    },
    {
     "data": {
      "image/png": "[encoded data removed]",
      "text/plain": [
       "<Figure size 432x288 with 1 Axes>"
      ]
     },
     "metadata": {},
     "output_type": "display_data"
    },
    {
     "data": {
      "image/png": "[encoded data removed]",
      "text/plain": [
       "<Figure size 432x288 with 1 Axes>"
      ]
     },
     "metadata": {},
     "output_type": "display_data"
    },
    {
     "data": {
      "image/png": "[encoded data removed]",
      "text/plain": [
       "<Figure size 432x288 with 1 Axes>"
      ]
     },
     "metadata": {},
     "output_type": "display_data"
    }
   ],
   "source": [
    "for l1_penalty in [0.0001, 0.01, 0.1, 10]:\n",
    "    model = polynomial_lasso_regression(data, deg=16, l1_penalty=l1_penalty)\n",
    "    print ('l1_penalty = %e' % l1_penalty)\n",
    "    print ('number of nonzeros =', (model.coef_))\n",
    "    print_coefficients(model)\n",
    "    print ('\\n')\n",
    "    plt.figure()\n",
    "    plot_poly_predictions(data,model)\n",
    "    #plt.title('LASSO, lambda = %.2e, # nonzeros = ' % (l1_penalty, (model.coef_)))"
   ]
  },
  {
   "cell_type": "markdown",
   "metadata": {
    "collapsed": true
   },
   "source": [
    "Above: We see that as lambda increases, we get sparser and sparser solutions.  However, even for our non-sparse case for lambda=0.0001, the fit of our high-order polynomial is not too wild.  This is because, like in ridge, coefficients included in the lasso solution are shrunk relative to those of the least squares (unregularized) solution.  This leads to better behavior even without sparsity.  Of course, as lambda goes to 0, the amount of this shrinkage decreases and the lasso solution approaches the (wild) least squares solution."
   ]
  },
  {
   "cell_type": "code",
   "execution_count": null,
   "metadata": {
    "collapsed": true
   },
   "outputs": [],
   "source": []
  },
  {
   "cell_type": "code",
   "execution_count": null,
   "metadata": {
    "collapsed": true
   },
   "outputs": [],
   "source": []
  }
 ],
 "metadata": {
  "kernelspec": {
   "display_name": "Python 3",
   "language": "python",
   "name": "python3"
  },
  "language_info": {
   "codemirror_mode": {
    "name": "ipython",
    "version": 3
   },
   "file_extension": ".py",
   "mimetype": "text/x-python",
   "name": "python",
   "nbconvert_exporter": "python",
   "pygments_lexer": "ipython3",
   "version": "3.6.4"
  }
 },
 "nbformat": 4,
 "nbformat_minor": 1
}
