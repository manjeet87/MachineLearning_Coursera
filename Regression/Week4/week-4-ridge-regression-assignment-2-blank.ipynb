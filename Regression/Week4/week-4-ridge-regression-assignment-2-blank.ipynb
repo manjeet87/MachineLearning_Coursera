{
 "cells": [
  {
   "cell_type": "markdown",
   "metadata": {},
   "source": [
    "# Regression Week 4: Ridge Regression (gradient descent)"
   ]
  },
  {
   "cell_type": "markdown",
   "metadata": {},
   "source": [
    "In this notebook, you will implement ridge regression via gradient descent. You will:\n",
    "* Convert an SFrame into a Numpy array\n",
    "* Write a Numpy function to compute the derivative of the regression weights with respect to a single feature\n",
    "* Write gradient descent function to compute the regression weights given an initial weight vector, step size, tolerance, and L2 penalty"
   ]
  },
  {
   "cell_type": "markdown",
   "metadata": {},
   "source": [
    "# Fire up graphlab create"
   ]
  },
  {
   "cell_type": "markdown",
   "metadata": {},
   "source": [
    "Make sure you have the latest version of GraphLab Create (>= 1.7)"
   ]
  },
  {
   "cell_type": "code",
   "execution_count": 1,
   "metadata": {},
   "outputs": [
    {
     "data": {
      "text/html": [
       "\n",
       "<style>\n",
       "    div#notebook-container    { width: 100%; }\n",
       "</style>\n"
      ],
      "text/plain": [
       "<IPython.core.display.HTML object>"
      ]
     },
     "metadata": {},
     "output_type": "display_data"
    }
   ],
   "source": [
    "import pandas as pd\n",
    "import numpy as np\n",
    "import scipy as sp\n",
    "import matplotlib.pyplot as plt\n",
    "from sklearn.model_selection import train_test_split\n",
    "from sklearn import linear_model\n",
    "desired_width = 360\n",
    "pd.set_option('display.width', desired_width)\n",
    "\n",
    "from IPython.display import display, HTML\n",
    "import datetime\n",
    "\n",
    "display(HTML(data=\"\"\"\n",
    "<style>\n",
    "    div#notebook-container    { width: 100%; }\n",
    "</style>\n",
    "\"\"\"))\n",
    "plt.rcParams['figure.figsize'] = [16,4]"
   ]
  },
  {
   "cell_type": "code",
   "execution_count": 2,
   "metadata": {},
   "outputs": [],
   "source": [
    "dtype_dict = {'bathrooms':float, 'waterfront':int, 'sqft_above':int, 'sqft_living15':float, 'grade':int, 'yr_renovated':int, \n",
    "              'price':float, 'bedrooms':float, 'zipcode':str, 'long':float, 'sqft_lot15':float, 'sqft_living':float, 'floors':str, \n",
    "              'condition':int, 'lat':float, 'date':str, 'sqft_basement':int, 'yr_built':int, 'id':str, 'sqft_lot':int, 'view':int}"
   ]
  },
  {
   "cell_type": "markdown",
   "metadata": {},
   "source": [
    "# Load in house sales data\n",
    "\n",
    "Dataset is from house sales in King County, the region where the city of Seattle, WA is located."
   ]
  },
  {
   "cell_type": "code",
   "execution_count": 3,
   "metadata": {},
   "outputs": [],
   "source": [
    "trainDt = pd.read_csv('wk3_kc_house_train_data.csv')\n",
    "validDt = pd.read_csv('wk3_kc_house_valid_data.csv')\n",
    "testDt = pd.read_csv('wk3_kc_house_test_data.csv')"
   ]
  },
  {
   "cell_type": "markdown",
   "metadata": {},
   "source": [
    "If we want to do any \"feature engineering\" like creating new features or adjusting existing ones we should do this directly using the SFrames as seen in the first notebook of Week 2. For this notebook, however, we will work with the existing features."
   ]
  },
  {
   "cell_type": "markdown",
   "metadata": {},
   "source": [
    "# Import useful functions from previous notebook"
   ]
  },
  {
   "cell_type": "markdown",
   "metadata": {},
   "source": [
    "As in Week 2, we convert the SFrame into a 2D Numpy array. Copy and paste `get_numpy_data()` from the second notebook of Week 2."
   ]
  },
  {
   "cell_type": "code",
   "execution_count": 4,
   "metadata": {},
   "outputs": [],
   "source": [
    "def get_numpy_data(data, features, output):\n",
    "    featureData = pd.DataFrame()\n",
    "    featureData[features] = data[features]\n",
    "    featureData.insert(loc= 0, column= 'constant', value= 1)\n",
    "    outData = data[output]\n",
    "    print(featureData.head())\n",
    "    return featureData, outData\n",
    "    "
   ]
  },
  {
   "cell_type": "code",
   "execution_count": null,
   "metadata": {},
   "outputs": [],
   "source": []
  },
  {
   "cell_type": "markdown",
   "metadata": {},
   "source": [
    "Also, copy and paste the `predict_output()` function to compute the predictions for an entire matrix of features given the matrix and the weights:"
   ]
  },
  {
   "cell_type": "code",
   "execution_count": 58,
   "metadata": {},
   "outputs": [],
   "source": [
    "def predict_output(feature_matrix, weights):\n",
    "    predictions = np.dot(feature_matrix, weights)\n",
    "    return predictions"
   ]
  },
  {
   "cell_type": "markdown",
   "metadata": {},
   "source": [
    "# Computing the Derivative"
   ]
  },
  {
   "cell_type": "markdown",
   "metadata": {},
   "source": [
    "We are now going to move to computing the derivative of the regression cost function. Recall that the cost function is the sum over the data points of the squared difference between an observed output and a predicted output, plus the L2 penalty term.\n",
    "```\n",
    "Cost(w)\n",
    "= SUM[ (prediction - output)^2 ]\n",
    "+ l2_penalty*(w[0]^2 + w[1]^2 + ... + w[k]^2).\n",
    "```\n",
    "\n",
    "Since the derivative of a sum is the sum of the derivatives, we can take the derivative of the first part (the RSS) as we did in the notebook for the unregularized case in Week 2 and add the derivative of the regularization part.  As we saw, the derivative of the RSS with respect to `w[i]` can be written as: \n",
    "```\n",
    "2*SUM[ error*[feature_i] ].\n",
    "```\n",
    "The derivative of the regularization term with respect to `w[i]` is:\n",
    "```\n",
    "2*l2_penalty*w[i].\n",
    "```\n",
    "Summing both, we get\n",
    "```\n",
    "2*SUM[ error*[feature_i] ] + 2*l2_penalty*w[i].\n",
    "```\n",
    "That is, the derivative for the weight for feature i is the sum (over data points) of 2 times the product of the error and the feature itself, plus `2*l2_penalty*w[i]`. \n",
    "\n",
    "**We will not regularize the constant.**  Thus, in the case of the constant, the derivative is just twice the sum of the errors (without the `2*l2_penalty*w[0]` term).\n",
    "\n",
    "Recall that twice the sum of the product of two vectors is just twice the dot product of the two vectors. Therefore the derivative for the weight for feature_i is just two times the dot product between the values of feature_i and the current errors, plus `2*l2_penalty*w[i]`.\n",
    "\n",
    "With this in mind complete the following derivative function which computes the derivative of the weight given the value of the feature (over all data points) and the errors (over all data points).  To decide when to we are dealing with the constant (so we don't regularize it) we added the extra parameter to the call `feature_is_constant` which you should set to `True` when computing the derivative of the constant and `False` otherwise."
   ]
  },
  {
   "cell_type": "code",
   "execution_count": 59,
   "metadata": {},
   "outputs": [],
   "source": [
    "def feature_derivative_ridge(errors, features, weight, l2_penalty, feature_is_constant):\n",
    "    \n",
    "    errors = np.array(errors)\n",
    "    weight = np.array([weight])\n",
    "    features = np.array(features)\n",
    "    # If feature_is_constant is True, derivative is twice the dot product of errors and feature\n",
    "    print(\"*** \", sum(errors), (weight*weight))\n",
    "    #cost = sum(errors) + l2_penalty * (sum(weight*weight))\n",
    "    #print((weight))\n",
    "    i = 0\n",
    "    \n",
    "    if len(weight)==1 :\n",
    "        derivative = 2 * sum(features * errors)\n",
    "        weight += derivative\n",
    "        \n",
    "    else:\n",
    "        for feature in features:\n",
    "            if i == 0:\n",
    "                print (\"feature: \", errors, feature) \n",
    "                derivative = 2 * sum(np.matmul(feature, errors))\n",
    "                weight[i] += derivative\n",
    "            \n",
    "            else:\n",
    "                derivative = (1 - 2*l2_penalty)*feature + 2* sum(np.matmul(feature, errors))\n",
    "                weight[i] += derivative\n",
    "            i += 1\n",
    "\n",
    "    # Otherwise, derivative is twice the dot product plus 2*l2_penalty*weight\n",
    "    return derivative"
   ]
  },
  {
   "cell_type": "code",
   "execution_count": 60,
   "metadata": {
    "scrolled": true
   },
   "outputs": [
    {
     "data": {
      "text/plain": [
       "((4,), 1, (2, 4), 2)"
      ]
     },
     "execution_count": 60,
     "metadata": {},
     "output_type": "execute_result"
    }
   ],
   "source": [
    "a = np.array([2,3,4,5])\n",
    "b = np.array([[2,3,4,5], [4,5,6,7]])\n",
    "#sum(a*a*a)\n",
    "a.shape, len(a.shape), b.shape, len(b.shape)"
   ]
  },
  {
   "cell_type": "code",
   "execution_count": 61,
   "metadata": {},
   "outputs": [
    {
     "data": {
      "text/plain": [
       "(4,)"
      ]
     },
     "execution_count": 61,
     "metadata": {},
     "output_type": "execute_result"
    }
   ],
   "source": [
    "a.shape"
   ]
  },
  {
   "cell_type": "code",
   "execution_count": 62,
   "metadata": {},
   "outputs": [
    {
     "data": {
      "text/plain": [
       "1"
      ]
     },
     "execution_count": 62,
     "metadata": {},
     "output_type": "execute_result"
    }
   ],
   "source": [
    "a = 2.04\n",
    "a += np.NAN + 3.89\n",
    "a\n",
    "len(np.array([2]))"
   ]
  },
  {
   "cell_type": "markdown",
   "metadata": {},
   "source": [
    "To test your feature derivartive run the following:"
   ]
  },
  {
   "cell_type": "code",
   "execution_count": 63,
   "metadata": {
    "scrolled": true
   },
   "outputs": [
    {
     "name": "stdout",
     "output_type": "stream",
     "text": [
      "   constant  sqft_living\n",
      "0         1         1960\n",
      "1         1         5420\n",
      "2         1         1160\n",
      "3         1         1430\n",
      "4         1         1370\n",
      "[1970. 5430. 1170. ... 3520. 1030. 1030.]\n",
      "***  -5277169641.0 [1.]\n",
      "-26850328714512.0\n",
      "-26850328714492.0\n",
      "\n",
      "***  -5277169641.0 [1.]\n",
      "-10554339282.0\n",
      "-10554339282.0\n"
     ]
    }
   ],
   "source": [
    "(example_features, example_output) = get_numpy_data(trainDt, ['sqft_living'], 'price') \n",
    "my_weights = np.array([10., 1.])\n",
    "#print (example_features)\n",
    "print(np.matmul(example_features, my_weights))\n",
    "test_predictions = predict_output(example_features, my_weights) \n",
    "errors = test_predictions - example_output # prediction errors\n",
    "\n",
    "#next two lines should print the same values\n",
    "#print (example_features.iloc[:,1])\n",
    "\n",
    "print (feature_derivative_ridge(errors, example_features.iloc[:,1], my_weights[1], 1, False))\n",
    "print (np.sum(errors*example_features.iloc[:,1])*2+20.)\n",
    "print ('')\n",
    "\n",
    "# next two lines should print the same values\n",
    "print (feature_derivative_ridge(errors, example_features.iloc[:,0], my_weights[1], 1, True))\n",
    "print (np.sum(errors)*2.)"
   ]
  },
  {
   "cell_type": "code",
   "execution_count": 64,
   "metadata": {
    "scrolled": true
   },
   "outputs": [
    {
     "data": {
      "text/html": [
       "<div>\n",
       "<style scoped>\n",
       "    .dataframe tbody tr th:only-of-type {\n",
       "        vertical-align: middle;\n",
       "    }\n",
       "\n",
       "    .dataframe tbody tr th {\n",
       "        vertical-align: top;\n",
       "    }\n",
       "\n",
       "    .dataframe thead th {\n",
       "        text-align: right;\n",
       "    }\n",
       "</style>\n",
       "<table border=\"1\" class=\"dataframe\">\n",
       "  <thead>\n",
       "    <tr style=\"text-align: right;\">\n",
       "      <th></th>\n",
       "      <th>constant</th>\n",
       "      <th>sqft_living</th>\n",
       "    </tr>\n",
       "  </thead>\n",
       "  <tbody>\n",
       "    <tr>\n",
       "      <th>0</th>\n",
       "      <td>1</td>\n",
       "      <td>1960</td>\n",
       "    </tr>\n",
       "    <tr>\n",
       "      <th>1</th>\n",
       "      <td>1</td>\n",
       "      <td>5420</td>\n",
       "    </tr>\n",
       "    <tr>\n",
       "      <th>2</th>\n",
       "      <td>1</td>\n",
       "      <td>1160</td>\n",
       "    </tr>\n",
       "    <tr>\n",
       "      <th>3</th>\n",
       "      <td>1</td>\n",
       "      <td>1430</td>\n",
       "    </tr>\n",
       "    <tr>\n",
       "      <th>4</th>\n",
       "      <td>1</td>\n",
       "      <td>1370</td>\n",
       "    </tr>\n",
       "    <tr>\n",
       "      <th>5</th>\n",
       "      <td>1</td>\n",
       "      <td>2950</td>\n",
       "    </tr>\n",
       "    <tr>\n",
       "      <th>6</th>\n",
       "      <td>1</td>\n",
       "      <td>1600</td>\n",
       "    </tr>\n",
       "    <tr>\n",
       "      <th>7</th>\n",
       "      <td>1</td>\n",
       "      <td>1620</td>\n",
       "    </tr>\n",
       "    <tr>\n",
       "      <th>8</th>\n",
       "      <td>1</td>\n",
       "      <td>2270</td>\n",
       "    </tr>\n",
       "    <tr>\n",
       "      <th>9</th>\n",
       "      <td>1</td>\n",
       "      <td>1070</td>\n",
       "    </tr>\n",
       "    <tr>\n",
       "      <th>10</th>\n",
       "      <td>1</td>\n",
       "      <td>2450</td>\n",
       "    </tr>\n",
       "    <tr>\n",
       "      <th>11</th>\n",
       "      <td>1</td>\n",
       "      <td>1710</td>\n",
       "    </tr>\n",
       "    <tr>\n",
       "      <th>12</th>\n",
       "      <td>1</td>\n",
       "      <td>2450</td>\n",
       "    </tr>\n",
       "    <tr>\n",
       "      <th>13</th>\n",
       "      <td>1</td>\n",
       "      <td>1520</td>\n",
       "    </tr>\n",
       "    <tr>\n",
       "      <th>14</th>\n",
       "      <td>1</td>\n",
       "      <td>2060</td>\n",
       "    </tr>\n",
       "    <tr>\n",
       "      <th>15</th>\n",
       "      <td>1</td>\n",
       "      <td>2620</td>\n",
       "    </tr>\n",
       "    <tr>\n",
       "      <th>16</th>\n",
       "      <td>1</td>\n",
       "      <td>3595</td>\n",
       "    </tr>\n",
       "    <tr>\n",
       "      <th>17</th>\n",
       "      <td>1</td>\n",
       "      <td>1280</td>\n",
       "    </tr>\n",
       "    <tr>\n",
       "      <th>18</th>\n",
       "      <td>1</td>\n",
       "      <td>3160</td>\n",
       "    </tr>\n",
       "    <tr>\n",
       "      <th>19</th>\n",
       "      <td>1</td>\n",
       "      <td>990</td>\n",
       "    </tr>\n",
       "    <tr>\n",
       "      <th>20</th>\n",
       "      <td>1</td>\n",
       "      <td>2290</td>\n",
       "    </tr>\n",
       "    <tr>\n",
       "      <th>21</th>\n",
       "      <td>1</td>\n",
       "      <td>2753</td>\n",
       "    </tr>\n",
       "    <tr>\n",
       "      <th>22</th>\n",
       "      <td>1</td>\n",
       "      <td>1190</td>\n",
       "    </tr>\n",
       "    <tr>\n",
       "      <th>23</th>\n",
       "      <td>1</td>\n",
       "      <td>3150</td>\n",
       "    </tr>\n",
       "    <tr>\n",
       "      <th>24</th>\n",
       "      <td>1</td>\n",
       "      <td>1410</td>\n",
       "    </tr>\n",
       "    <tr>\n",
       "      <th>25</th>\n",
       "      <td>1</td>\n",
       "      <td>2150</td>\n",
       "    </tr>\n",
       "    <tr>\n",
       "      <th>26</th>\n",
       "      <td>1</td>\n",
       "      <td>1260</td>\n",
       "    </tr>\n",
       "    <tr>\n",
       "      <th>27</th>\n",
       "      <td>1</td>\n",
       "      <td>2720</td>\n",
       "    </tr>\n",
       "    <tr>\n",
       "      <th>28</th>\n",
       "      <td>1</td>\n",
       "      <td>1000</td>\n",
       "    </tr>\n",
       "    <tr>\n",
       "      <th>29</th>\n",
       "      <td>1</td>\n",
       "      <td>3200</td>\n",
       "    </tr>\n",
       "    <tr>\n",
       "      <th>...</th>\n",
       "      <td>...</td>\n",
       "      <td>...</td>\n",
       "    </tr>\n",
       "    <tr>\n",
       "      <th>9731</th>\n",
       "      <td>1</td>\n",
       "      <td>3080</td>\n",
       "    </tr>\n",
       "    <tr>\n",
       "      <th>9732</th>\n",
       "      <td>1</td>\n",
       "      <td>3830</td>\n",
       "    </tr>\n",
       "    <tr>\n",
       "      <th>9733</th>\n",
       "      <td>1</td>\n",
       "      <td>980</td>\n",
       "    </tr>\n",
       "    <tr>\n",
       "      <th>9734</th>\n",
       "      <td>1</td>\n",
       "      <td>1450</td>\n",
       "    </tr>\n",
       "    <tr>\n",
       "      <th>9735</th>\n",
       "      <td>1</td>\n",
       "      <td>3070</td>\n",
       "    </tr>\n",
       "    <tr>\n",
       "      <th>9736</th>\n",
       "      <td>1</td>\n",
       "      <td>4850</td>\n",
       "    </tr>\n",
       "    <tr>\n",
       "      <th>9737</th>\n",
       "      <td>1</td>\n",
       "      <td>1900</td>\n",
       "    </tr>\n",
       "    <tr>\n",
       "      <th>9738</th>\n",
       "      <td>1</td>\n",
       "      <td>1730</td>\n",
       "    </tr>\n",
       "    <tr>\n",
       "      <th>9739</th>\n",
       "      <td>1</td>\n",
       "      <td>2780</td>\n",
       "    </tr>\n",
       "    <tr>\n",
       "      <th>9740</th>\n",
       "      <td>1</td>\n",
       "      <td>2780</td>\n",
       "    </tr>\n",
       "    <tr>\n",
       "      <th>9741</th>\n",
       "      <td>1</td>\n",
       "      <td>710</td>\n",
       "    </tr>\n",
       "    <tr>\n",
       "      <th>9742</th>\n",
       "      <td>1</td>\n",
       "      <td>1260</td>\n",
       "    </tr>\n",
       "    <tr>\n",
       "      <th>9743</th>\n",
       "      <td>1</td>\n",
       "      <td>1430</td>\n",
       "    </tr>\n",
       "    <tr>\n",
       "      <th>9744</th>\n",
       "      <td>1</td>\n",
       "      <td>1520</td>\n",
       "    </tr>\n",
       "    <tr>\n",
       "      <th>9745</th>\n",
       "      <td>1</td>\n",
       "      <td>4910</td>\n",
       "    </tr>\n",
       "    <tr>\n",
       "      <th>9746</th>\n",
       "      <td>1</td>\n",
       "      <td>2770</td>\n",
       "    </tr>\n",
       "    <tr>\n",
       "      <th>9747</th>\n",
       "      <td>1</td>\n",
       "      <td>1190</td>\n",
       "    </tr>\n",
       "    <tr>\n",
       "      <th>9748</th>\n",
       "      <td>1</td>\n",
       "      <td>4170</td>\n",
       "    </tr>\n",
       "    <tr>\n",
       "      <th>9749</th>\n",
       "      <td>1</td>\n",
       "      <td>2500</td>\n",
       "    </tr>\n",
       "    <tr>\n",
       "      <th>9750</th>\n",
       "      <td>1</td>\n",
       "      <td>1530</td>\n",
       "    </tr>\n",
       "    <tr>\n",
       "      <th>9751</th>\n",
       "      <td>1</td>\n",
       "      <td>3600</td>\n",
       "    </tr>\n",
       "    <tr>\n",
       "      <th>9752</th>\n",
       "      <td>1</td>\n",
       "      <td>3410</td>\n",
       "    </tr>\n",
       "    <tr>\n",
       "      <th>9753</th>\n",
       "      <td>1</td>\n",
       "      <td>3118</td>\n",
       "    </tr>\n",
       "    <tr>\n",
       "      <th>9754</th>\n",
       "      <td>1</td>\n",
       "      <td>4470</td>\n",
       "    </tr>\n",
       "    <tr>\n",
       "      <th>9755</th>\n",
       "      <td>1</td>\n",
       "      <td>2270</td>\n",
       "    </tr>\n",
       "    <tr>\n",
       "      <th>9756</th>\n",
       "      <td>1</td>\n",
       "      <td>1490</td>\n",
       "    </tr>\n",
       "    <tr>\n",
       "      <th>9757</th>\n",
       "      <td>1</td>\n",
       "      <td>2520</td>\n",
       "    </tr>\n",
       "    <tr>\n",
       "      <th>9758</th>\n",
       "      <td>1</td>\n",
       "      <td>3510</td>\n",
       "    </tr>\n",
       "    <tr>\n",
       "      <th>9759</th>\n",
       "      <td>1</td>\n",
       "      <td>1020</td>\n",
       "    </tr>\n",
       "    <tr>\n",
       "      <th>9760</th>\n",
       "      <td>1</td>\n",
       "      <td>1020</td>\n",
       "    </tr>\n",
       "  </tbody>\n",
       "</table>\n",
       "<p>9761 rows × 2 columns</p>\n",
       "</div>"
      ],
      "text/plain": [
       "      constant  sqft_living\n",
       "0            1         1960\n",
       "1            1         5420\n",
       "2            1         1160\n",
       "3            1         1430\n",
       "4            1         1370\n",
       "5            1         2950\n",
       "6            1         1600\n",
       "7            1         1620\n",
       "8            1         2270\n",
       "9            1         1070\n",
       "10           1         2450\n",
       "11           1         1710\n",
       "12           1         2450\n",
       "13           1         1520\n",
       "14           1         2060\n",
       "15           1         2620\n",
       "16           1         3595\n",
       "17           1         1280\n",
       "18           1         3160\n",
       "19           1          990\n",
       "20           1         2290\n",
       "21           1         2753\n",
       "22           1         1190\n",
       "23           1         3150\n",
       "24           1         1410\n",
       "25           1         2150\n",
       "26           1         1260\n",
       "27           1         2720\n",
       "28           1         1000\n",
       "29           1         3200\n",
       "...        ...          ...\n",
       "9731         1         3080\n",
       "9732         1         3830\n",
       "9733         1          980\n",
       "9734         1         1450\n",
       "9735         1         3070\n",
       "9736         1         4850\n",
       "9737         1         1900\n",
       "9738         1         1730\n",
       "9739         1         2780\n",
       "9740         1         2780\n",
       "9741         1          710\n",
       "9742         1         1260\n",
       "9743         1         1430\n",
       "9744         1         1520\n",
       "9745         1         4910\n",
       "9746         1         2770\n",
       "9747         1         1190\n",
       "9748         1         4170\n",
       "9749         1         2500\n",
       "9750         1         1530\n",
       "9751         1         3600\n",
       "9752         1         3410\n",
       "9753         1         3118\n",
       "9754         1         4470\n",
       "9755         1         2270\n",
       "9756         1         1490\n",
       "9757         1         2520\n",
       "9758         1         3510\n",
       "9759         1         1020\n",
       "9760         1         1020\n",
       "\n",
       "[9761 rows x 2 columns]"
      ]
     },
     "execution_count": 64,
     "metadata": {},
     "output_type": "execute_result"
    }
   ],
   "source": [
    "example_features"
   ]
  },
  {
   "cell_type": "markdown",
   "metadata": {},
   "source": [
    "# Gradient Descent"
   ]
  },
  {
   "cell_type": "markdown",
   "metadata": {},
   "source": [
    "Now we will write a function that performs a gradient descent. The basic premise is simple. Given a starting point we update the current weights by moving in the negative gradient direction. Recall that the gradient is the direction of *increase* and therefore the negative gradient is the direction of *decrease* and we're trying to *minimize* a cost function. \n",
    "\n",
    "The amount by which we move in the negative gradient *direction*  is called the 'step size'. We stop when we are 'sufficiently close' to the optimum. Unlike in Week 2, this time we will set a **maximum number of iterations** and take gradient steps until we reach this maximum number. If no maximum number is supplied, the maximum should be set 100 by default. (Use default parameter values in Python.)\n",
    "\n",
    "With this in mind, complete the following gradient descent function below using your derivative function above. For each step in the gradient descent, we update the weight for each feature before computing our stopping criteria."
   ]
  },
  {
   "cell_type": "code",
   "execution_count": 150,
   "metadata": {},
   "outputs": [],
   "source": [
    "from math import sqrt"
   ]
  },
  {
   "cell_type": "code",
   "execution_count": 306,
   "metadata": {},
   "outputs": [],
   "source": [
    "def ridge_regression_gradient_descent(feature_matrix, output, initial_weights, step_size, l2_penalty, max_iterations=100):\n",
    "    print ('Starting gradient descent with l2_penalty = ' + str(l2_penalty))\n",
    "    cost_array = []\n",
    "    \n",
    "    weights = np.array(initial_weights) # make sure it's a numpy array\n",
    "    iteration = 0 # iteration counter\n",
    "    print_frequency = 1  # for adjusting frequency of debugging output\n",
    "    \n",
    "    gradient_deriv = []\n",
    "    #while not reached maximum number of iterations:\n",
    "    while(iteration < max_iterations):\n",
    "        iteration += 1  # increment iteration counter\n",
    "        ### === code section for adjusting frequency of debugging output. ===\n",
    "        if iteration == 10:\n",
    "            print_frequency = 10\n",
    "        if iteration == 100:\n",
    "            print_frequency = 100\n",
    "        if iteration%print_frequency==0:\n",
    "            print('Iteration = ' + str(iteration))\n",
    "        ### === end code section ===\n",
    "        \n",
    "        # compute the predictions based on feature_matrix and weights using your predict_output() function\n",
    "       # print(weights)\n",
    "        predictions = predict_output(feature_matrix, weights)\n",
    "\n",
    "        # compute the errors as predictions - output\n",
    "        error = output - predictions\n",
    "       \n",
    "        # compute the cost and adding to list\n",
    "        cost = np.dot(error,error) + l2_penalty*(np.dot(weights,weights) - weights[0]**2)\n",
    "        cost_array.append(cost)\n",
    "\n",
    "        # from time to time, print the value of the cost function\n",
    "        if iteration%print_frequency==0:\n",
    "            print ('Cost function = ', str(np.dot(error,error) + l2_penalty*(np.dot(weights,weights) - weights[0]**2)))\n",
    "        #print(\"Len: \", len(weights))\n",
    "        gradient_sumofsquare = 0\n",
    "        for i in range(len(weights)): # loop over each weight\n",
    "            # Recall that feature_matrix[:,i] is the feature column associated with weights[i]\n",
    "            # compute the derivative for weight[i].\n",
    "            #(Remember: when i=0, you are computing the derivative of the constant!)\n",
    "            if i == 0:\n",
    "                #print (\"feature: \", errors, feature_matrix) \n",
    "                derivative = 2 * np.dot(error, feature_matrix.iloc[:,i])\n",
    "                weights[0] -= step_size* derivative\n",
    "            \n",
    "            else:\n",
    "                derivative = 2 *l2_penalty*weights[i] -  2 * np.dot(error, feature_matrix.iloc[:,i])\n",
    "                weights[i] = (1 - 2* step_size *l2_penalty)*weights[i] + 2* step_size * np.dot(error, feature_matrix.iloc[:,i])\n",
    "            i += 1\n",
    "            gradient_sumofsquare  += derivative * derivative\n",
    "            \n",
    "        gradient_deriv.append(sqrt(gradient_sumofsquare))\n",
    "        #print(\"**\",gradient_deriv)\n",
    "        if iteration == 2:\n",
    "            sign = np.sign(np.gradient(gradient_deriv))[iteration-1]\n",
    "            print (sign)\n",
    "        if iteration >3:\n",
    "            print(np.gradient(gradient_deriv)[iteration-1], gradient_sumofsquare, iteration)\n",
    "            signnew = np.gradient(gradient_deriv)[iteration-1]/abs(np.gradient(gradient_deriv)[iteration-1])\n",
    "            \n",
    "            if abs(np.gradient(gradient_deriv)[iteration-1]) < .001:\n",
    "                iteration = max_iterations\n",
    "                print(\"*******\")\n",
    "            \n",
    "            if signnew == sign:\n",
    "                sign = signnew\n",
    "            else:\n",
    "                iteration = max_iterations\n",
    "                \n",
    "            # subtract the step size times the derivative from the current weight\n",
    "    \n",
    "    plt.plot(np.gradient(gradient_deriv))\n",
    "    #plt.xlim(0,100)\n",
    "    print ('Done with gradient descent at iteration ', iteration)\n",
    "    print ('Learned weights = ', str(weights))\n",
    "    return weights"
   ]
  },
  {
   "cell_type": "code",
   "execution_count": 307,
   "metadata": {},
   "outputs": [
    {
     "data": {
      "text/plain": [
       "(array([4. , 2.5, 1. , 1.5, 1.5, 1. , 1. ]),\n",
       " array([1., 1.]),\n",
       " array([-1, -1, -1,  1,  1,  1,  1]),\n",
       " array([ 1, -1, -1, -1,  1,  1,  1]))"
      ]
     },
     "execution_count": 307,
     "metadata": {},
     "output_type": "execute_result"
    }
   ],
   "source": [
    "np.gradient([-7,-3,-2,-1, 1,2,3]), np.sign(np.gradient([1,2])), np.sign([-1,-2,-2,3,4,5,7]), np.roll(np.sign([-1,-2,-2,3,4,5,7]),1)"
   ]
  },
  {
   "cell_type": "markdown",
   "metadata": {},
   "source": [
    "# Visualizing effect of L2 penalty"
   ]
  },
  {
   "cell_type": "markdown",
   "metadata": {},
   "source": [
    "The L2 penalty gets its name because it causes weights to have small L2 norms than otherwise. Let's see how large weights get penalized. Let us consider a simple model with 1 feature:"
   ]
  },
  {
   "cell_type": "code",
   "execution_count": 308,
   "metadata": {},
   "outputs": [],
   "source": [
    "simple_features = ['sqft_living']\n",
    "my_output = 'price'"
   ]
  },
  {
   "cell_type": "markdown",
   "metadata": {},
   "source": [
    "Let us split the dataset into training set and test set. Make sure to use `seed=0`:"
   ]
  },
  {
   "cell_type": "markdown",
   "metadata": {},
   "source": [
    "In this part, we will only use `'sqft_living'` to predict `'price'`. Use the `get_numpy_data` function to get a Numpy versions of your data with only this feature, for both the `train_data` and the `test_data`. "
   ]
  },
  {
   "cell_type": "code",
   "execution_count": 309,
   "metadata": {},
   "outputs": [
    {
     "name": "stdout",
     "output_type": "stream",
     "text": [
      "   constant  sqft_living\n",
      "0         1         1960\n",
      "1         1         5420\n",
      "2         1         1160\n",
      "3         1         1430\n",
      "4         1         1370\n",
      "   constant  sqft_living\n",
      "0         1         1890\n",
      "1         1         1810\n",
      "2         1         1200\n",
      "3         1         2330\n",
      "4         1         1220\n"
     ]
    }
   ],
   "source": [
    "(simple_feature_matrix, output) = get_numpy_data(trainDt, simple_features, my_output)\n",
    "(simple_test_feature_matrix, test_output) = get_numpy_data(testDt, simple_features, my_output)"
   ]
  },
  {
   "cell_type": "markdown",
   "metadata": {},
   "source": [
    "Let's set the parameters for our optimization:"
   ]
  },
  {
   "cell_type": "code",
   "execution_count": 310,
   "metadata": {},
   "outputs": [],
   "source": [
    "initial_weights = np.array([0., 0.])\n",
    "step_size = 1e-12\n",
    "max_iterations=1000"
   ]
  },
  {
   "cell_type": "markdown",
   "metadata": {},
   "source": [
    "First, let's consider no regularization.  Set the `l2_penalty` to `0.0` and run your ridge regression algorithm to learn the weights of your model.  Call your weights:\n",
    "\n",
    "`simple_weights_0_penalty`\n",
    "\n",
    "we'll use them later."
   ]
  },
  {
   "cell_type": "code",
   "execution_count": 311,
   "metadata": {
    "scrolled": true
   },
   "outputs": [
    {
     "name": "stdout",
     "output_type": "stream",
     "text": [
      "Starting gradient descent with l2_penalty = 0.0\n",
      "Iteration = 1\n",
      "Cost function =  4281054533306131.0\n",
      "Iteration = 2\n",
      "Cost function =  3591587721125531.0\n",
      "-1.0\n",
      "Iteration = 3\n",
      "Cost function =  3035337462429375.5\n",
      "Iteration = 4\n",
      "Cost function =  2586564084462133.0\n",
      "-2213383490337.1445 3.8147805478019055e+26 4\n",
      "Iteration = 5\n",
      "Cost function =  2224501251011155.2\n",
      "-1988085675590.0723 3.0777009500639966e+26 5\n",
      "Iteration = 6\n",
      "Cost function =  1932395030362067.8\n",
      "-1785720671872.6172 2.4830374952042555e+26 6\n",
      "Iteration = 7\n",
      "Cost function =  1696728631444182.8\n",
      "-1603954174156.5078 2.003272995422343e+26 7\n",
      "Iteration = 8\n",
      "Cost function =  1506596933957179.8\n",
      "-1440689483695.332 1.61620704518993e+26 8\n",
      "Iteration = 9\n",
      "Cost function =  1353201869769167.8\n",
      "-1294043322348.709 1.3039287297295114e+26 9\n",
      "Iteration = 10\n",
      "Cost function =  1229445305093293.5\n",
      "-1162324108738.7734 1.0519878234473801e+26 10\n",
      "-1044012445652.5195 8.487261267319948e+25 11\n",
      "-937743593609.4434 6.847379996993457e+25 12\n",
      "-842291728424.877 5.524351298679799e+25 13\n",
      "-756555801178.4912 4.4569539401996686e+25 14\n",
      "-679546837480.4414 3.595795658404976e+25 15\n",
      "-610376529530.9814 2.9010276039359366e+25 16\n",
      "-548246989381.72363 2.3405003935898797e+25 17\n",
      "-492441545200.4541 1.888276444303991e+25 18\n",
      "-442316474374.26074 1.52342974916723e+25 19\n",
      "Iteration = 20\n",
      "Cost function =  773069403027339.0\n",
      "-397293578090.48145 1.2290775568400454e+25 20\n",
      "-356853511742.8013 9.915991467533336e+24 21\n",
      "-320529794227.8457 8.000055500436387e+24 22\n",
      "-287903427028.6553 6.454310509763722e+24 23\n",
      "-258598061015.6167 5.207229388239422e+24 24\n",
      "-232275655213.36304 4.201105265627647e+24 25\n",
      "-208632577456.771 3.389381207101543e+24 26\n",
      "-187396101956.91455 2.734495858680604e+24 27\n",
      "-168321263375.73633 2.2061453501085108e+24 28\n",
      "-151188031121.02075 1.779881027251008e+24 29\n",
      "Iteration = 30\n",
      "Cost function =  719749260568909.9\n",
      "-135798771266.59375 1.4359781261175226e+24 30\n",
      "-121975966820.88342 1.158523038039602e+24 31\n",
      "-109560170046.72046 9.346769305280472e+23 32\n",
      "-98408163212.25635 7.540816489331693e+23 33\n",
      "-88391306556.89392 6.083804078704416e+23 34\n",
      "-79394054415.9718 4.908310931031618e+23 35\n",
      "-71312622387.41968 3.959942799883607e+23 36\n",
      "-64053790165.95032 3.19481531992655e+23 37\n",
      "-57533826235.55664 2.5775233215714e+23 38\n",
      "-51677522016.138 2.0795025081000472e+23 39\n",
      "Iteration = 40\n",
      "Cost function =  713519664640618.0\n",
      "-46417324323.437195 1.677707684253934e+23 40\n",
      "-41692556134.73999 1.3535463732340264e+23 41\n",
      "-37448716672.06409 1.0920184767857453e+23 42\n",
      "-33636852728.99597 8.810221673891353e+22 43\n",
      "-30212993989.501343 7.107938937225105e+22 44\n",
      "-27137645824.931854 5.7345658646562974e+22 45\n",
      "-24375333718.67386 4.6265515832142555e+22 46\n",
      "-21894194063.30133 3.7326243154878074e+22 47\n",
      "-19665606609.905273 3.011418852301481e+22 48\n",
      "-17663864330.09012 2.429562437474863e+22 49\n",
      "Iteration = 50\n",
      "Cost function =  712791837436997.2\n",
      "-15865876882.227295 1.9601304917639927e+22 50\n",
      "-14250904261.556152 1.5814007168484501e+22 51\n",
      "-12800317561.692795 1.2758479273339277e+22 52\n",
      "-11497384087.938782 1.029333098078471e+22 53\n",
      "-10327074343.55365 8.304491011848863e+21 54\n",
      "-9275888662.761398 6.699928575841309e+21 55\n",
      "-8331701490.349945 5.405394777933551e+21 56\n",
      "-7483621512.010948 4.3609868582517117e+21 57\n",
      "-6721866021.637863 3.5183762776537285e+21 58\n",
      "-6037648076.628258 2.8385723838603146e+21 59\n",
      "Iteration = 60\n",
      "Cost function =  712706802923845.8\n",
      "-5423075139.458267 2.2901181748272523e+21 60\n",
      "-4871058036.254616 1.847634670928938e+21 61\n",
      "-4375229182.336746 1.4906465388728413e+21 62\n",
      "-3929869131.3526917 1.2026346247934588e+21 63\n",
      "-3529840600.7562675 9.702715538648265e+20 64\n",
      "-3170529212.6307907 7.828050249062372e+20 65\n",
      "-2847790266.2919197 6.315602628289606e+20 66\n",
      "-2557900928.6614456 5.095386056297879e+20 67\n",
      "-2297517290.919567 4.110936511236276e+20 68\n",
      "-2063635796.142662 3.316699775692535e+20 69\n",
      "Iteration = 70\n",
      "Cost function =  712696868340116.1\n",
      "-1853558592.9217415 2.6759234786263102e+20 70\n",
      "-1664862415.3157425 2.158956430253507e+20 71\n",
      "-1495370630.22752 1.7418765540292628e+20 72\n",
      "-1343128129.7316647 1.4053839252526545e+20 73\n",
      "-1206378778.6604118 1.1339076932581676e+20 74\n",
      "-1083545157.5122128 9.148855612596463e+19 75\n",
      "-973210366.7806988 7.381824828353195e+19 76\n",
      "-874101682.997057 5.9562167604499145e+19 77\n",
      "-785075877.9058504 4.806062535265051e+19 78\n",
      "-705106031.4569302 3.878139600404664e+19 79\n",
      "Iteration = 80\n",
      "Cost function =  712695707968481.6\n",
      "-633269686.5139999 3.1295089187591385e+19 80\n",
      "-568738208.6985798 2.525528018276544e+19 81\n",
      "-510767228.71855927 2.0382479540808684e+19 82\n",
      "-458688056.8981886 1.6451200046748494e+19 83\n",
      "-411899971.10136175 1.327952256321859e+19 84\n",
      "-369863289.1433611 1.07206779301984e+19 85\n",
      "-332093145.9977193 8.656255384572714e+18 86\n",
      "-298153904.1860876 6.990723228814352e+18 87\n",
      "-267654133.41955137 5.647008199265777e+18 88\n",
      "-240242101.70890546 4.5629289763805373e+18 89\n",
      "Iteration = 90\n",
      "Cost function =  712695572721617.1\n",
      "-215601726.90422463 3.6883188013298755e+18 90\n",
      "-193448942.47932792 2.982704052535424e+18 91\n",
      "-173528436.85339403 2.413431361072933e+18 92\n",
      "-155610730.02973175 1.9541565995140257e+18 93\n",
      "-139489555.5440116 1.5836258242101184e+18 94\n",
      "-124979519.73674822 1.2846917607062395e+18 95\n",
      "-111914014.1287657 1.0435203211795822e+18 96\n",
      "-100143359.85739887 8.489504365510324e+17 97\n",
      "-89533166.16586077 6.91977580281232e+17 98\n",
      "-79962887.34069395 5.653370844180474e+17 99\n",
      "Iteration = 100\n",
      "Cost function =  712695557244002.2\n",
      "-71324563.80438173 4.6316796638433325e+17 100\n",
      "-63521733.31053388 3.807417103938794e+17 101\n",
      "-56468496.23454225 3.1424345316311034e+17 102\n",
      "-50088714.65497911 2.6059544846683805e+17 103\n",
      "-44315317.4682889 2.1731464159893712e+17 104\n",
      "-39089674.07812762 1.82397763007178e+17 105\n",
      "-34360987.826167524 1.542286240024869e+17 106\n",
      "-30085651.979477346 1.3150332464876936e+17 107\n",
      "-26226509.78639841 1.1316991291277464e+17 108\n",
      "-22751972.896997094 9.837970283828493e+16 109\n",
      "-19634982.983635962 8.644799895674582e+16 110\n",
      "-16851847.637456656 7.682240956786731e+16 111\n",
      "-14381034.585269421 6.905728248526673e+16 112\n",
      "-12202048.31225565 6.279308035409267e+16 113\n",
      "-10294524.292703778 5.773974106192953e+16 114\n",
      "-8637646.771410912 5.366325329200459e+16 115\n",
      "-7209934.91589424 5.0374825962533064e+16 116\n",
      "-5989368.569874942 4.772215037640091e+16 117\n",
      "-4953764.69546628 4.558235072958721e+16 118\n",
      "-4081285.605284214 4.385629674276778e+16 119\n",
      "-3350963.3782350123 4.246401523203438e+16 120\n",
      "-2743152.501342118 4.134098829016407e+16 121\n",
      "-2239860.4731274843 4.04351667454774e+16 122\n",
      "-1824941.0418223739 3.970456071160043e+16 123\n",
      "-1484160.4892179072 3.9115295708135144e+16 124\n",
      "-1205161.4729153812 3.864004439890578e+16 125\n",
      "-977353.7752878666 3.825676136641412e+16 126\n",
      "-791759.7038306892 3.794766237276499e+16 127\n",
      "-640837.1038561165 3.769840086187371e+16 128\n",
      "-518297.061008513 3.749740359080617e+16 129\n",
      "-418927.8586459756 3.733533464637503e+16 130\n",
      "-338432.2426439822 3.7204663033899496e+16 131\n",
      "-273281.5690011978 3.709931382944019e+16 132\n",
      "-220588.0807197392 3.701438674442947e+16 133\n",
      "-177994.9798901379 3.694592907915107e+16 134\n",
      "-143583.08870646358 3.689075255428794e+16 135\n",
      "-115792.41971409321 3.684628554185019e+16 136\n",
      "-93356.8172634542 3.6810453853912984e+16 137\n",
      "-75249.83772176504 3.678158457253181e+16 138\n",
      "-60640.175859332085 3.675832846641205e+16 139\n",
      "-48855.09898531437 3.673959740302561e+16 140\n",
      "-39350.54781988263 3.6724513859083064e+16 141\n",
      "-31686.75745972991 3.671237019020882e+16 142\n",
      "-25508.417988538742 3.670259577412063e+16 143\n",
      "-20528.55692985654 3.669473050588236e+16 144\n",
      "-16515.464354872704 3.668840341731401e+16 145\n",
      "-13282.097779154778 3.6683315430029896e+16 146\n",
      "-10677.5022380054 3.667922544375103e+16 147\n",
      "-8579.871118754148 3.667593911421726e+16 148\n",
      "-6890.932451605797 3.667329980182757e+16 149\n",
      "-5531.413387268782 3.667118127077382e+16 150\n",
      "-4437.375184237957 3.6669481800532984e+16 151\n",
      "-3557.2543420791626 3.666811943619635e+16 152\n",
      "-2849.471133798361 3.666702815833506e+16 153\n",
      "-2280.501734793186 3.66661547935585e+16 154\n",
      "-1823.319794535637 3.666545652343809e+16 155\n",
      "-1456.1403561234474 3.666489887546112e+16 156\n",
      "-1161.4056468605995 3.666445410303243e+16 157\n",
      "-924.9666764736176 3.6664099879307976e+16 158\n",
      "-735.4233041703701 3.6663818244024216e+16 159\n",
      "-583.5916463136673 3.6663594754461304e+16 160\n",
      "-462.0746758580208 3.666341780095964e+16 161\n",
      "-364.9157464802265 3.666327805519325e+16 162\n",
      "-287.3191143274307 3.6663168025516984e+16 163\n",
      "-225.4247686266899 3.666308169857296e+16 164\n",
      "-176.12657049298286 3.666301425056029e+16 165\n",
      "-136.92594319581985 3.666296181454693e+16 166\n",
      "-105.81363844871521 3.666292129306713e+16 167\n",
      "-81.1745174229145 3.666289020718812e+16 168\n",
      "-61.71088394522667 3.666286657493976e+16 169\n",
      "-46.38050413131714 3.66628488134816e+16 170\n",
      "-34.346871733665466 3.666283566031718e+16 171\n",
      "-24.93892267346382 3.666282610993653e+16 172\n",
      "-17.618736803531647 3.6662819362827736e+16 173\n",
      "-11.955444127321243 3.666281478448157e+16 174\n",
      "-7.604220867156982 3.666281187243972e+16 175\n",
      "-4.289382994174957 3.666281022981747e+16 176\n",
      "-1.7907658815383911 3.6662809544042424e+16 177\n",
      "0.06722626090049744 3.666280956978677e+16 178\n",
      "Done with gradient descent at iteration  1000\n",
      "Learned weights =  [-7.18891567e-02  2.64788501e+02]\n"
     ]
    },
    {
     "data": {
      "image/png": "[encoded data removed]",
      "text/plain": [
       "<Figure size 432x288 with 1 Axes>"
      ]
     },
     "metadata": {},
     "output_type": "display_data"
    }
   ],
   "source": [
    "simple_weights_0_penalty = ridge_regression_gradient_descent(simple_feature_matrix, output, initial_weights, step_size, 0.0, max_iterations)\n",
    "#plt.ylim(0, -1e2)"
   ]
  },
  {
   "cell_type": "markdown",
   "metadata": {},
   "source": [
    "Next, let's consider high regularization.  Set the `l2_penalty` to `1e11` and run your ridge regression algorithm to learn the weights of your model.  Call your weights:\n",
    "\n",
    "`simple_weights_high_penalty`\n",
    "\n",
    "we'll use them later."
   ]
  },
  {
   "cell_type": "code",
   "execution_count": 317,
   "metadata": {
    "scrolled": true
   },
   "outputs": [
    {
     "name": "stdout",
     "output_type": "stream",
     "text": [
      "Starting gradient descent with l2_penalty = 100000000000.0\n",
      "Iteration = 1\n",
      "Cost function =  4281054533306131.0\n",
      "Iteration = 2\n",
      "Cost function =  3664231581393101.0\n",
      "-1.0\n",
      "Iteration = 3\n",
      "Cost function =  3363531181738243.5\n",
      "Iteration = 4\n",
      "Cost function =  3216940134452145.0\n",
      "-3965300600359.3555 8.416274017912574e+25 4\n",
      "Iteration = 5\n",
      "Cost function =  3145477205415966.0\n",
      "-2768616367198.007 4.102926357832587e+25 5\n",
      "Iteration = 6\n",
      "Cost function =  3110639140899809.5\n",
      "-1933077882471.3145 2.0001745011118676e+25 6\n",
      "Iteration = 7\n",
      "Cost function =  3093655652437957.5\n",
      "-1349695264091.752 9.750854244679323e+24 7\n",
      "Iteration = 8\n",
      "Cost function =  3085376247670521.0\n",
      "-942370517834.0356 4.753556634453939e+24 8\n",
      "Iteration = 9\n",
      "Cost function =  3081340072914763.5\n",
      "-657971110768.032 2.317379498075208e+24 9\n",
      "Iteration = 10\n",
      "Cost function =  3079372467529905.0\n",
      "-459399221102.5183 1.1297456431079237e+24 10\n",
      "-320752598814.2073 5.5077524734033524e+23 11\n",
      "-223945806804.2978 2.6852764318942905e+23 12\n",
      "-156351108413.8587 1.3093210876351001e+23 13\n",
      "-109151272919.00476 6.385433251966278e+22 14\n",
      "-76189436248.84549 3.1153913330579903e+22 15\n",
      "-53165994672.70343 1.521243917264022e+22 16\n",
      "-37077786620.342514 7.440948152930067e+21 17\n",
      "-25826449577.775024 3.6523264998950814e+21 18\n",
      "-17944981134.364235 1.805357603159747e+21 19\n",
      "Iteration = 20\n",
      "Cost function =  3077502709084111.0\n",
      "-12407142688.567806 9.049482163928136e+20 20\n",
      "-8495561611.542534 4.6598974498657075e+20 21\n",
      "-5712569828.1230755 2.5199104437892022e+20 22\n",
      "-3722597795.7004395 1.4766206287128815e+20 23\n",
      "-2313009873.715599 9.679840648984625e+19 24\n",
      "-1353333309.0575886 7.200005830440015e+19 25\n",
      "-745179277.993146 5.990923364439874e+19 26\n",
      "-390696553.62091064 5.401381232948682e+19 27\n",
      "-198255747.21301365 5.113899253367841e+19 28\n",
      "-98709919.99055004 4.9736956655432565e+19 29\n",
      "Iteration = 30\n",
      "Cost function =  3077501775232611.5\n",
      "-48653496.29905796 4.905307176906869e+19 30\n",
      "-23861179.27797413 4.871940375615567e+19 31\n",
      "-11675681.503558159 4.855654923036377e+19 32\n",
      "-5708580.259522438 4.8477024155739685e+19 33\n",
      "-2791314.649962425 4.843816264295453e+19 34\n",
      "-1365826.0797290802 4.8419152883962356e+19 35\n",
      "-669172.9916219711 4.840984060215174e+19 36\n",
      "-328489.6481590271 4.840526963334217e+19 37\n",
      "-161696.56638145447 4.840301968747894e+19 38\n",
      "-79897.2365808487 4.8401907967299764e+19 39\n",
      "Iteration = 40\n",
      "Cost function =  3077502258165424.0\n",
      "-39681.43852901459 4.840135582959484e+19 40\n",
      "-19840.249386787415 4.840107976846131e+19 41\n",
      "-10003.003189086914 4.840094058500537e+19 42\n",
      "-5092.395838737488 4.8400869728636576e+19 43\n",
      "-2618.2198610305786 4.840083329834815e+19 44\n",
      "-1356.024663925171 4.840081443043096e+19 45\n",
      "-701.5805244445801 4.840080466854268e+19 46\n",
      "-355.2219753265381 4.8400799725935436e+19 47\n",
      "-167.29908752441406 4.84007973981131e+19 48\n",
      "-62.36952877044678 4.840079653029498e+19 49\n",
      "Iteration = 50\n",
      "Cost function =  3077502742172459.0\n",
      "-1.9181709289550781 4.840079650360529e+19 50\n",
      "34.04398727416992 4.840079697729797e+19 51\n",
      "Done with gradient descent at iteration  1000\n",
      "Learned weights =  [-0.36686582 89.30924726]\n"
     ]
    },
    {
     "data": {
      "image/png": "[encoded data removed]",
      "text/plain": [
       "<Figure size 432x288 with 1 Axes>"
      ]
     },
     "metadata": {},
     "output_type": "display_data"
    }
   ],
   "source": [
    "simple_weights_high_penalty = ridge_regression_gradient_descent(simple_feature_matrix, output, initial_weights, step_size, 1e11, max_iterations)\n",
    "#plt.xlim(0,40)"
   ]
  },
  {
   "cell_type": "markdown",
   "metadata": {},
   "source": [
    "This code will plot the two learned models.  (The blue line is for the model with no regularization and the red line is for the one with high regularization.)"
   ]
  },
  {
   "cell_type": "code",
   "execution_count": 318,
   "metadata": {},
   "outputs": [
    {
     "data": {
      "text/plain": [
       "[<matplotlib.lines.Line2D at 0x16a75acd160>,\n",
       " <matplotlib.lines.Line2D at 0x16a75acd630>,\n",
       " <matplotlib.lines.Line2D at 0x16a75acda20>]"
      ]
     },
     "execution_count": 318,
     "metadata": {},
     "output_type": "execute_result"
    },
    {
     "data": {
      "image/png": "[encoded data removed]",
      "text/plain": [
       "<Figure size 432x288 with 1 Axes>"
      ]
     },
     "metadata": {},
     "output_type": "display_data"
    }
   ],
   "source": [
    "import matplotlib.pyplot as plt\n",
    "%matplotlib inline\n",
    "plt.plot(simple_feature_matrix.iloc[:,1], output,'k.',\n",
    "         simple_feature_matrix.iloc[:,1], predict_output(simple_feature_matrix, simple_weights_0_penalty),'b-',\n",
    "         simple_feature_matrix.iloc[:,1], predict_output(simple_feature_matrix, simple_weights_high_penalty),'r-')"
   ]
  },
  {
   "cell_type": "code",
   "execution_count": 316,
   "metadata": {},
   "outputs": [
    {
     "data": {
      "text/plain": [
       "[<matplotlib.lines.Line2D at 0x16a75a40518>]"
      ]
     },
     "execution_count": 316,
     "metadata": {},
     "output_type": "execute_result"
    },
    {
     "data": {
      "image/png": "[encoded data removed]",
      "text/plain": [
       "<Figure size 432x288 with 1 Axes>"
      ]
     },
     "metadata": {},
     "output_type": "display_data"
    }
   ],
   "source": [
    "plt.plot(simple_feature_matrix.iloc[:,0],predict_output(simple_feature_matrix, simple_weights_high_penalty),'r-')"
   ]
  },
  {
   "cell_type": "markdown",
   "metadata": {},
   "source": [
    "Compute the RSS on the TEST data for the following three sets of weights:\n",
    "1. The initial weights (all zeros)\n",
    "2. The weights learned with no regularization\n",
    "3. The weights learned with high regularization\n",
    "\n",
    "Which weights perform best?"
   ]
  },
  {
   "cell_type": "code",
   "execution_count": null,
   "metadata": {},
   "outputs": [],
   "source": []
  },
  {
   "cell_type": "code",
   "execution_count": null,
   "metadata": {},
   "outputs": [],
   "source": []
  },
  {
   "cell_type": "code",
   "execution_count": null,
   "metadata": {},
   "outputs": [],
   "source": []
  },
  {
   "cell_type": "markdown",
   "metadata": {},
   "source": [
    "***QUIZ QUESTIONS***\n",
    "1. What is the value of the coefficient for `sqft_living` that you learned with no regularization, rounded to 1 decimal place?  What about the one with high regularization?\n",
    "2. Comparing the lines you fit with the with no regularization versus high regularization, which one is steeper?\n",
    "3. What are the RSS on the test data for each of the set of weights above (initial, no regularization, high regularization)? \n"
   ]
  },
  {
   "cell_type": "markdown",
   "metadata": {},
   "source": [
    "# Running a multiple regression with L2 penalty"
   ]
  },
  {
   "cell_type": "markdown",
   "metadata": {},
   "source": [
    "Let us now consider a model with 2 features: `['sqft_living', 'sqft_living15']`."
   ]
  },
  {
   "cell_type": "markdown",
   "metadata": {},
   "source": [
    "First, create Numpy versions of your training and test data with these two features. "
   ]
  },
  {
   "cell_type": "code",
   "execution_count": null,
   "metadata": {},
   "outputs": [],
   "source": [
    "model_features = ['sqft_living', 'sqft_living15'] # sqft_living15 is the average squarefeet for the nearest 15 neighbors. \n",
    "my_output = 'price'\n",
    "(feature_matrix, output) = get_numpy_data(train_data, model_features, my_output)\n",
    "(test_feature_matrix, test_output) = get_numpy_data(test_data, model_features, my_output)"
   ]
  },
  {
   "cell_type": "markdown",
   "metadata": {},
   "source": [
    "We need to re-inialize the weights, since we have one extra parameter. Let us also set the step size and maximum number of iterations."
   ]
  },
  {
   "cell_type": "code",
   "execution_count": null,
   "metadata": {},
   "outputs": [],
   "source": [
    "initial_weights = np.array([0.0,0.0,0.0])\n",
    "step_size = 1e-12\n",
    "max_iterations = 1000"
   ]
  },
  {
   "cell_type": "markdown",
   "metadata": {},
   "source": [
    "First, let's consider no regularization.  Set the `l2_penalty` to `0.0` and run your ridge regression algorithm to learn the weights of your model.  Call your weights:\n",
    "\n",
    "`multiple_weights_0_penalty`"
   ]
  },
  {
   "cell_type": "code",
   "execution_count": null,
   "metadata": {},
   "outputs": [],
   "source": []
  },
  {
   "cell_type": "markdown",
   "metadata": {},
   "source": [
    "Next, let's consider high regularization.  Set the `l2_penalty` to `1e11` and run your ridge regression algorithm to learn the weights of your model.  Call your weights:\n",
    "\n",
    "`multiple_weights_high_penalty`"
   ]
  },
  {
   "cell_type": "code",
   "execution_count": null,
   "metadata": {},
   "outputs": [],
   "source": []
  },
  {
   "cell_type": "markdown",
   "metadata": {},
   "source": [
    "Compute the RSS on the TEST data for the following three sets of weights:\n",
    "1. The initial weights (all zeros)\n",
    "2. The weights learned with no regularization\n",
    "3. The weights learned with high regularization\n",
    "\n",
    "Which weights perform best?"
   ]
  },
  {
   "cell_type": "code",
   "execution_count": null,
   "metadata": {},
   "outputs": [],
   "source": []
  },
  {
   "cell_type": "code",
   "execution_count": null,
   "metadata": {},
   "outputs": [],
   "source": []
  },
  {
   "cell_type": "code",
   "execution_count": null,
   "metadata": {},
   "outputs": [],
   "source": []
  },
  {
   "cell_type": "markdown",
   "metadata": {},
   "source": [
    "Predict the house price for the 1st house in the test set using the no regularization and high regularization models. (Remember that python starts indexing from 0.) How far is the prediction from the actual price?  Which weights perform best for the 1st house?"
   ]
  },
  {
   "cell_type": "code",
   "execution_count": null,
   "metadata": {},
   "outputs": [],
   "source": []
  },
  {
   "cell_type": "code",
   "execution_count": null,
   "metadata": {},
   "outputs": [],
   "source": []
  },
  {
   "cell_type": "markdown",
   "metadata": {
    "collapsed": true
   },
   "source": [
    "***QUIZ QUESTIONS***\n",
    "1. What is the value of the coefficient for `sqft_living` that you learned with no regularization, rounded to 1 decimal place?  What about the one with high regularization?\n",
    "2. What are the RSS on the test data for each of the set of weights above (initial, no regularization, high regularization)? \n",
    "3. We make prediction for the first house in the test set using two sets of weights (no regularization vs high regularization). Which weights make better prediction <u>for that particular house</u>?"
   ]
  },
  {
   "cell_type": "code",
   "execution_count": null,
   "metadata": {},
   "outputs": [],
   "source": []
  }
 ],
 "metadata": {
  "kernelspec": {
   "display_name": "Python 3",
   "language": "python",
   "name": "python3"
  },
  "language_info": {
   "codemirror_mode": {
    "name": "ipython",
    "version": 3
   },
   "file_extension": ".py",
   "mimetype": "text/x-python",
   "name": "python",
   "nbconvert_exporter": "python",
   "pygments_lexer": "ipython3",
   "version": "3.6.4"
  }
 },
 "nbformat": 4,
 "nbformat_minor": 1
}
