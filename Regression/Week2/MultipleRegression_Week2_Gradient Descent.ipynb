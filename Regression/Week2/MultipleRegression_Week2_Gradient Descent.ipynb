{
 "cells": [
  {
   "cell_type": "code",
   "execution_count": 1,
   "metadata": {},
   "outputs": [
    {
     "data": {
      "text/html": [
       "\n",
       "<style>\n",
       "    div#notebook-container    { width: 100%; }\n",
       "</style>\n"
      ],
      "text/plain": [
       "<IPython.core.display.HTML object>"
      ]
     },
     "metadata": {},
     "output_type": "display_data"
    }
   ],
   "source": [
    "import pandas as pd\n",
    "import numpy as np\n",
    "import scipy as sp\n",
    "import matplotlib.pyplot as plt\n",
    "from sklearn.model_selection import train_test_split\n",
    "from sklearn.linear_model import LinearRegression\n",
    "desired_width = 360\n",
    "pd.set_option('display.width', desired_width)\n",
    "\n",
    "from IPython.display import display, HTML\n",
    "import datetime\n",
    "\n",
    "display(HTML(data=\"\"\"\n",
    "<style>\n",
    "    div#notebook-container    { width: 100%; }\n",
    "</style>\n",
    "\"\"\"))\n",
    "plt.rcParams['figure.figsize'] = [16,4]"
   ]
  },
  {
   "cell_type": "code",
   "execution_count": 2,
   "metadata": {},
   "outputs": [
    {
     "data": {
      "text/plain": [
       "(17384, 4229)"
      ]
     },
     "execution_count": 2,
     "metadata": {},
     "output_type": "execute_result"
    }
   ],
   "source": [
    "trainDt = pd.read_csv('kc_house_train_data2.csv')\n",
    "testDt = pd.read_csv('kc_house_test_data2.csv')\n",
    "\n",
    "len(trainDt), len(testDt)"
   ]
  },
  {
   "cell_type": "code",
   "execution_count": null,
   "metadata": {},
   "outputs": [],
   "source": []
  },
  {
   "cell_type": "code",
   "execution_count": 3,
   "metadata": {},
   "outputs": [],
   "source": [
    "example_features, example_output = (trainDt['sqft_living'], trainDt['price'])  # the [] around 'sqft_living' makes it a list"
   ]
  },
  {
   "cell_type": "code",
   "execution_count": 4,
   "metadata": {},
   "outputs": [
    {
     "name": "stdout",
     "output_type": "stream",
     "text": [
      "221900.0\n"
     ]
    }
   ],
   "source": [
    "#print (example_features[:]) # this accesses the first row of the data the ':' indicates 'all columns'\n",
    "print (example_output.loc[0]) # and the corresponding output"
   ]
  },
  {
   "cell_type": "markdown",
   "metadata": {},
   "source": [
    "# Predicting output given regression weights\n",
    "\n",
    "Suppose we had the weights [1.0, 1.0] and the features [1.0, 1180.0] and we wanted to compute the predicted output 1.0\\*1.0 + 1.0\\*1180.0 = 1181.0 this is the dot product between these two arrays. If they're numpy arrayws we can use np.dot() to compute this:"
   ]
  },
  {
   "cell_type": "code",
   "execution_count": 5,
   "metadata": {},
   "outputs": [
    {
     "name": "stdout",
     "output_type": "stream",
     "text": [
      "[1180.]\n"
     ]
    }
   ],
   "source": [
    "my_weights = np.array([1.]) # the example weights\n",
    "my_features = example_features[0] # we'll use the first data point\n",
    "predicted_value = np.dot(my_features, my_weights)\n",
    "print (predicted_value)"
   ]
  },
  {
   "cell_type": "code",
   "execution_count": 6,
   "metadata": {},
   "outputs": [
    {
     "data": {
      "text/plain": [
       "array([[2, 4, 6],\n",
       "       [2, 4, 6]])"
      ]
     },
     "execution_count": 6,
     "metadata": {},
     "output_type": "execute_result"
    }
   ],
   "source": [
    "a = np.array([2])\n",
    "b = np.array([[1,2,3],[1,2,3]])\n",
    "b*a"
   ]
  },
  {
   "cell_type": "code",
   "execution_count": 7,
   "metadata": {},
   "outputs": [
    {
     "data": {
      "text/plain": [
       "17384"
      ]
     },
     "execution_count": 7,
     "metadata": {},
     "output_type": "execute_result"
    }
   ],
   "source": [
    "len(example_features)"
   ]
  },
  {
   "cell_type": "code",
   "execution_count": 8,
   "metadata": {},
   "outputs": [],
   "source": [
    "def predict_output(feature_matrix, weights):\n",
    "    # assume feature_matrix is a numpy matrix containing the features as columns and weights is a corresponding numpy array\n",
    "    # create the predictions vector by using np.dot()\n",
    "    if len(weights) > 1:\n",
    "        predictions = np.matmul(feature_matrix, weights)\n",
    "    else:\n",
    "        predictions = weights* feature_matrix       \n",
    "\n",
    "    return(predictions)"
   ]
  },
  {
   "cell_type": "code",
   "execution_count": 9,
   "metadata": {},
   "outputs": [
    {
     "name": "stdout",
     "output_type": "stream",
     "text": [
      "1180.0\n",
      "2570.0\n"
     ]
    }
   ],
   "source": [
    "##If you want to test your code run the following cell:\n",
    "test_predictions = predict_output(example_features, my_weights)\n",
    "print (test_predictions[0]) # should be 1181.0\n",
    "print (test_predictions[1]) # should be 2571.0"
   ]
  },
  {
   "cell_type": "markdown",
   "metadata": {},
   "source": [
    "# Computing the Derivative\n",
    "\n",
    "We are now going to move to computing the derivative of the regression cost function. Recall that the cost function is the sum over the data points of the squared difference between an observed output and a predicted output.\n",
    "\n",
    "Since the derivative of a sum is the sum of the derivatives we can compute the derivative for a single data point and then sum over data points. We can write the squared difference between the observed output and predicted output for a single point as follows:\n",
    "\n",
    "(w[0]\\*[CONSTANT] + w[1]\\*[feature_1] + ... + w[i] \\*[feature_i] + ... +  w[k]\\*[feature_k] - output)^2\n",
    "\n",
    "Where we have k features and a constant. So the derivative with respect to weight w[i] by the chain rule is:\n",
    "\n",
    "2\\*(w[0]\\*[CONSTANT] + w[1]\\*[feature_1] + ... + w[i] \\*[feature_i] + ... +  w[k]\\*[feature_k] - output)\\* [feature_i]\n",
    "\n",
    "The term inside the paranethesis is just the error (difference between prediction and output). So we can re-write this as:\n",
    "\n",
    "2\\*error\\*[feature_i]\n",
    "\n",
    "That is, the derivative for the weight for feature i is the sum (over data points) of 2 times the product of the error and the feature itself. In the case of the constant then this is just twice the sum of the errors!\n",
    "\n",
    "Recall that twice the sum of the product of two vectors is just twice the dot product of the two vectors. Therefore the derivative for the weight for feature_i is just two times the dot product between the values of feature_i and the current errors. \n",
    "\n",
    "With this in mind complete the following derivative function which computes the derivative of the weight given the value of the feature (over all data points) and the errors (over all data points)."
   ]
  },
  {
   "cell_type": "code",
   "execution_count": 10,
   "metadata": {},
   "outputs": [],
   "source": [
    "def feature_derivative(errors, feature):\n",
    "    # Assume that errors and feature are both numpy arrays of the same length (number of data points)\n",
    "    # compute twice the dot product of these vectors as 'derivative' and return the value\n",
    "    if np.array(feature).size > 1:\n",
    "        derivative = 2*np.matmul(errors,feature)\n",
    "    else:\n",
    "        derivative = errors * feature\n",
    "\n",
    "    return(derivative)"
   ]
  },
  {
   "cell_type": "code",
   "execution_count": 11,
   "metadata": {},
   "outputs": [
    {
     "name": "stdout",
     "output_type": "stream",
     "text": [
      "-18752698920.0\n",
      "-18752698920.0\n"
     ]
    }
   ],
   "source": [
    "##To test your feature derivartive run the following:\n",
    "trainDt['constant'] = 1\n",
    "(example_features, example_output) = trainDt[['constant','sqft_living']], trainDt['price'] \n",
    "my_weights = np.array([0., 0.]) # this makes all the predictions 0\n",
    "test_predictions = predict_output(example_features, my_weights) \n",
    "# just like SFrames 2 numpy arrays can be elementwise subtracted with '-': \n",
    "errors = test_predictions - example_output # prediction errors in this case is just the -example_output\n",
    "feature = example_features.iloc[:,0] # let's compute the derivative with respect to 'constant', the \":\" indicates \"all rows\"\n",
    "derivative = feature_derivative(errors, feature)\n",
    "print (derivative)\n",
    "print (-np.sum(example_output)*2) # should be the same as derivative"
   ]
  },
  {
   "cell_type": "markdown",
   "metadata": {},
   "source": [
    "# Gradient Descent\n",
    "\n",
    "Now we will write a function that performs a gradient descent. The basic premise is simple. Given a starting point we update the current weights by moving in the negative gradient direction. Recall that the gradient is the direction of *increase* and therefore the negative gradient is the direction of *decrease* and we're trying to *minimize* a cost function. \n",
    "\n",
    "The amount by which we move in the negative gradient *direction*  is called the 'step size'. We stop when we are 'sufficiently close' to the optimum. We define this by requiring that the magnitude (length) of the gradient vector to be smaller than a fixed 'tolerance'.\n",
    "\n",
    "With this in mind, complete the following gradient descent function below using your derivative function above. For each step in the gradient descent we update the weight for each feature befofe computing our stopping criteria"
   ]
  },
  {
   "cell_type": "code",
   "execution_count": 12,
   "metadata": {},
   "outputs": [],
   "source": [
    "from math import sqrt # recall that the magnitude/length of a vector [g[0], g[1], g[2]] is sqrt(g[0]^2 + g[1]^2 + g[2]^2)"
   ]
  },
  {
   "cell_type": "code",
   "execution_count": 191,
   "metadata": {},
   "outputs": [],
   "source": [
    "def regression_gradient_descent(feature_matrix, output, initial_weights, step_size, tolerance):\n",
    "    converged = False \n",
    "    gradient_lst = []\n",
    "    ctr = 0\n",
    "    weights = np.array(initial_weights) # make sure it's a numpy array\n",
    "    while (not converged):\n",
    "        # compute the predictions based on feature_matrix and weights using your predict_output() function\n",
    "        prediction = predict_output(feature_matrix, weights)\n",
    "\n",
    "        # compute the errors as predictions - output\n",
    "        error = prediction - output\n",
    "\n",
    "        gradient_sum_squares = 0 # initialize the gradient sum of squares\n",
    "        # while we haven't reached the tolerance yet, update each feature's weight\n",
    "        for i in range(0,len(weights)): # loop over each weight\n",
    "            # Recall that feature_matrix[:, i] is the feature column associated with weights[i]\n",
    "            # compute the derivative for weight[i]:\n",
    "            derivative = feature_derivative(error, feature_matrix)\n",
    "            #print(\"***\", derivative)\n",
    "            # add the squared value of the derivative to the gradient sum of squares (for assessing convergence)\n",
    "            gradient_sum_squares += derivative[i] * derivative[i]\n",
    "\n",
    "            # subtract the step size times the derivative from the current weight\n",
    "            weights[i] = weights[i] - step_size*derivative[i]\n",
    "            \n",
    "        # compute the square-root of the gradient sum of squares to get the gradient magnitude:\n",
    "        #print (gradient_sum_squares)\n",
    "        gradient_magnitude = sqrt(gradient_sum_squares)\n",
    "        ctr +=1\n",
    "        if gradient_magnitude < tolerance:\n",
    "            converged = True\n",
    "        gradient_lst.append(gradient_magnitude)\n",
    "        if ctr >3:\n",
    "            print (np.gradient(gradient_lst)[ctr-1])\n",
    "            if abs(np.gradient(gradient_lst)[ctr-1]) < 0.05:\n",
    "                converged = True\n",
    "    print (weights, ctr)\n",
    "    plt.rcParams['figure.figsize'] = [8,4]\n",
    "    plt.plot(gradient_lst)\n",
    "    plt.semilogy()\n",
    "    return(weights, gradient_lst)"
   ]
  },
  {
   "cell_type": "markdown",
   "metadata": {},
   "source": [
    "A few things to note before we run the gradient descent. Since the gradient is a sum over all the data points and involves a product of an error and a feature the gradient itself will be very large since the features are large (squarefeet) and the output is large (prices). So while you might expect \"tolerance\" to be small, small is only relative to the size of the features. \n",
    "\n",
    "For similar reasons the step size will be much smaller than you might expect but this is because the gradient has such large values."
   ]
  },
  {
   "cell_type": "markdown",
   "metadata": {},
   "source": [
    "# Running the Gradient Descent as Simple Regression\n",
    "\n",
    "First let's split the data into training and test data.\n",
    "Although the gradient descent is designed for multiple regression since the constant is now a feature we can use the gradient descent function to estimat the parameters in the simple regression on squarefeet. The folowing cell sets up the feature_matrix, output, initial weights and step size for the first model:"
   ]
  },
  {
   "cell_type": "code",
   "execution_count": 205,
   "metadata": {},
   "outputs": [],
   "source": [
    "# let's test out the gradient descent\n",
    "initial_weights = np.array([-47000., 1.])\n",
    "step_size = 7e-12\n",
    "tolerance = 2.5e7\n",
    "(feature_matrix1, output) = trainDt[['constant','sqft_living']], trainDt['price']"
   ]
  },
  {
   "cell_type": "code",
   "execution_count": 206,
   "metadata": {
    "scrolled": false
   },
   "outputs": [
    {
     "name": "stdout",
     "output_type": "stream",
     "text": [
      "-2523732502956.0117\n",
      "-655374314517.1423\n",
      "-170190577495.73688\n",
      "-44195861846.81816\n",
      "-11476982022.99819\n",
      "-2980394653.961095\n",
      "-773961856.4297742\n",
      "-200983777.10986066\n",
      "-52184097.57568956\n",
      "[-46999.88716555    281.91211918] 12\n"
     ]
    },
    {
     "data": {
      "image/png": "[encoded data removed]",
      "text/plain": [
       "<Figure size 576x288 with 1 Axes>"
      ]
     },
     "metadata": {},
     "output_type": "display_data"
    }
   ],
   "source": [
    "##Next run your gradient descent with the above parameters.\n",
    "\n",
    "weights1, grad_lst = regression_gradient_descent(feature_matrix1, output, initial_weights, step_size, tolerance)"
   ]
  },
  {
   "cell_type": "code",
   "execution_count": 207,
   "metadata": {},
   "outputs": [
    {
     "data": {
      "text/plain": [
       "array([-3.74240798e+13, -2.35712674e+13, -6.12109372e+12, -1.58955341e+12,\n",
       "       -4.12782446e+11, -1.07193220e+11, -2.78364219e+10, -7.22868834e+09,\n",
       "       -1.87717826e+09, -4.87472817e+08, -1.26583937e+08, -5.21840976e+07])"
      ]
     },
     "execution_count": 207,
     "metadata": {},
     "output_type": "execute_result"
    }
   ],
   "source": [
    "np.gradient(grad_lst)"
   ]
  },
  {
   "cell_type": "markdown",
   "metadata": {},
   "source": [
    "How do your weights compare to those achieved in week 1 (don't expect them to be exactly the same)? \n",
    "\n",
    "**Quiz Question: What is the value of the weight for sqft_living -- the second element of ‘simple_weights’ (rounded to 1 decimal place)?**"
   ]
  },
  {
   "cell_type": "markdown",
   "metadata": {},
   "source": [
    "Use your newly estimated weights and your predict_output() function to compute the predictions on all the TEST data (you will need to create a numpy array of the test feature_matrix and test output first:"
   ]
  },
  {
   "cell_type": "code",
   "execution_count": 208,
   "metadata": {},
   "outputs": [],
   "source": [
    "testDt['constant'] = 1\n",
    "(feature_matrixtest1, outputtest) = testDt[['constant','sqft_living']], testDt['price']"
   ]
  },
  {
   "cell_type": "code",
   "execution_count": 210,
   "metadata": {
    "scrolled": true
   },
   "outputs": [],
   "source": [
    "##Now compute your predictions using test_simple_feature_matrix and your weights from above.\n",
    "predict_y = predict_output(feature_matrixtest1, weights1)"
   ]
  },
  {
   "cell_type": "code",
   "execution_count": 212,
   "metadata": {},
   "outputs": [
    {
     "data": {
      "text/plain": [
       "38793290.36852571"
      ]
     },
     "execution_count": 212,
     "metadata": {},
     "output_type": "execute_result"
    }
   ],
   "source": [
    "err = outputtest - predict_y\n",
    "RSS = sqrt(np.matmul(predict_y,predict_y))\n",
    "RSS"
   ]
  },
  {
   "cell_type": "markdown",
   "metadata": {},
   "source": [
    "**Quiz Question: What is the predicted price for the 1st house in the TEST data set for model 1 (round to nearest dollar)?**"
   ]
  },
  {
   "cell_type": "code",
   "execution_count": 213,
   "metadata": {},
   "outputs": [
    {
     "data": {
      "text/plain": [
       "(356134.0, 310000.0)"
      ]
     },
     "execution_count": 213,
     "metadata": {},
     "output_type": "execute_result"
    }
   ],
   "source": [
    "round(predict_y[0]), outputtest[0]"
   ]
  },
  {
   "cell_type": "markdown",
   "metadata": {},
   "source": [
    "## Comparing Results with sklearn LinearRegression library"
   ]
  },
  {
   "cell_type": "code",
   "execution_count": 214,
   "metadata": {},
   "outputs": [],
   "source": [
    "regr = LinearRegression()\n"
   ]
  },
  {
   "cell_type": "code",
   "execution_count": 215,
   "metadata": {},
   "outputs": [
    {
     "data": {
      "text/plain": [
       "LinearRegression(copy_X=True, fit_intercept=True, n_jobs=1, normalize=False)"
      ]
     },
     "execution_count": 215,
     "metadata": {},
     "output_type": "execute_result"
    }
   ],
   "source": [
    "regr.fit(trainDt[['constant','sqft_living']], trainDt['price'])"
   ]
  },
  {
   "cell_type": "code",
   "execution_count": 216,
   "metadata": {},
   "outputs": [
    {
     "data": {
      "text/plain": [
       "array([  0.        , 281.95883963])"
      ]
     },
     "execution_count": 216,
     "metadata": {},
     "output_type": "execute_result"
    }
   ],
   "source": [
    "regr.coef_"
   ]
  },
  {
   "cell_type": "code",
   "execution_count": 217,
   "metadata": {},
   "outputs": [
    {
     "data": {
      "text/plain": [
       "array([356085.0615985 , 784662.49783662, 435033.53669499, ...,\n",
       "       663420.19679557, 604208.8404732 , 240481.93735006])"
      ]
     },
     "execution_count": 217,
     "metadata": {},
     "output_type": "execute_result"
    }
   ],
   "source": [
    "regr.predict(testDt[['constant','sqft_living']])"
   ]
  },
  {
   "cell_type": "markdown",
   "metadata": {},
   "source": [
    "# Running a multiple regression\n",
    "\n",
    "Now we will use more than one actual feature. Use the following code to produce the weights for a second model with the following parameters:"
   ]
  },
  {
   "cell_type": "code",
   "execution_count": 223,
   "metadata": {},
   "outputs": [],
   "source": [
    "(feature_matrix2, output) = trainDt[['constant','sqft_living', 'sqft_living15']], trainDt['price']\n",
    "step_size = 4e-12\n",
    "tolerance = 1e9"
   ]
  },
  {
   "cell_type": "code",
   "execution_count": 225,
   "metadata": {
    "scrolled": true
   },
   "outputs": [
    {
     "name": "stdout",
     "output_type": "stream",
     "text": [
      "-4785112186902.83\n",
      "-1346698285951.474\n",
      "-272676678773.3495\n",
      "-45692073199.41162\n",
      "-17536586643.05481\n",
      "-14372845334.45935\n",
      "-13760244120.389038\n",
      "-13406994890.498901\n",
      "-13086258693.801758\n",
      "-12775510315.622803\n",
      "-12472369159.577942\n",
      "-12176443508.897278\n",
      "-11887541352.956238\n",
      "-11605493999.361694\n",
      "-11330138606.952637\n",
      "-11061316380.365784\n",
      "-10798872309.807007\n",
      "-10542655065.065186\n",
      "-10292516906.60608\n",
      "-10048313600.223877\n",
      "-9809904333.862122\n",
      "-9577151636.404602\n",
      "-9349921298.428162\n",
      "-9128082294.789795\n",
      "-8911506709.09613\n",
      "-8700069659.931763\n",
      "-8493649228.855957\n",
      "-8292126390.103088\n",
      "-8095384941.94397\n",
      "-7903311439.689941\n",
      "-7715795130.272888\n",
      "-7532727888.384399\n",
      "-7354004154.130066\n",
      "-7179520872.159668\n",
      "-7009177432.248718\n",
      "-6842875611.27356\n",
      "-6680519516.587585\n",
      "-6522015530.720032\n",
      "-6367272257.394165\n",
      "-6216200468.830841\n",
      "-6068713054.293793\n",
      "-5924724969.863312\n",
      "-5784153189.395172\n",
      "-5646916656.649963\n",
      "-5512936238.551331\n",
      "-5382134679.559174\n",
      "-5254436557.118988\n",
      "-5129768238.175354\n",
      "-5008057836.71405\n",
      "-4889235172.306549\n",
      "-4773231729.649261\n",
      "-4659980619.051392\n",
      "-4549416537.864838\n",
      "-4441475732.835907\n",
      "-4336095963.335266\n",
      "-4233216465.475586\n",
      "-4132777917.072174\n",
      "-4034722403.432556\n",
      "-3938993383.969391\n",
      "-3845535659.591156\n",
      "-3754295340.8799133\n",
      "-3665219817.009033\n",
      "-3578257725.413971\n",
      "-3493358922.1784363\n",
      "-3410474453.106964\n",
      "-3329556525.512497\n",
      "-3250558480.648941\n",
      "-3173434766.808487\n",
      "-3098140913.0589905\n",
      "-3024633503.5976257\n",
      "-2952870152.716797\n",
      "-2882809480.3676605\n",
      "-2814411088.2916565\n",
      "-2747635536.737335\n",
      "-2682444321.709137\n",
      "-2618799852.7663727\n",
      "-2556665431.3572235\n",
      "-2496005229.6428986\n",
      "-2436784269.852524\n",
      "-2378968404.102661\n",
      "-2322524294.7194977\n",
      "-2267419395.001648\n",
      "-2213621930.4660645\n",
      "-2161100880.5162506\n",
      "-2109825960.5633087\n",
      "-2059767604.5557709\n",
      "-2010896947.9382477\n",
      "-1963185811.0025787\n",
      "-1916606682.6414185\n",
      "-1871132704.4836884\n",
      "-1826737655.4067535\n",
      "-1783395936.423584\n",
      "-1741082555.9060059\n",
      "-1699773115.1965942\n",
      "-1659443794.5186615\n",
      "-1620071339.2556381\n",
      "-1581633046.5333939\n",
      "-1544106752.1359406\n",
      "-1507470817.7199936\n",
      "-1471704118.341217\n",
      "-1436786030.2716064\n",
      "-1402696419.107521\n",
      "-1369415628.1608047\n",
      "-1336924467.121811\n",
      "-1305204200.9986725\n",
      "-1274236539.3106537\n",
      "-1244003625.5394135\n",
      "-1214488026.84124\n",
      "-1185672723.984848\n",
      "-1157541101.542076\n",
      "-1130076938.310814\n",
      "-1103264397.9555435\n",
      "-1077088019.8778076\n",
      "-1051532710.3043365\n",
      "-1026583733.578804\n",
      "-1002226703.6678467\n",
      "-978447575.8675613\n",
      "-955232638.6997604\n",
      "-932568506.0109177\n",
      "-910442109.250618\n",
      "-888840689.9373169\n",
      "-867751792.2990112\n",
      "-847163256.0954208\n",
      "-827063209.603447\n",
      "-807440062.771389\n",
      "-788282500.5359192\n",
      "-769579476.2989883\n",
      "-751320205.5574188\n",
      "-733494159.684597\n",
      "-716091059.8575478\n",
      "-699100871.1361198\n",
      "-682513796.6644516\n",
      "-666320272.0392303\n",
      "-650510959.7759666\n",
      "-635076743.9419937\n",
      "-620008724.884716\n",
      "-605298214.1139259\n",
      "-590936729.2792168\n",
      "-576915989.2912674\n",
      "-563227909.5336914\n",
      "-549864597.2123032\n",
      "-536818346.80010986\n",
      "-524081635.5888405\n",
      "-511647119.3632088\n",
      "-499507628.1539917\n",
      "-487656162.1098175\n",
      "-476085887.4605675\n",
      "-464790132.5757942\n",
      "-453762384.11899185\n",
      "-442996283.2888336\n",
      "-432485622.1574974\n",
      "-422224340.0859108\n",
      "-412206520.2325001\n",
      "-402426386.1424465\n",
      "-392878298.4110298\n",
      "-383556751.43634605\n",
      "-374456370.2492008\n",
      "-365571907.4007473\n",
      "-356898239.9501934\n",
      "-348430366.50395584\n",
      "-340163404.3307991\n",
      "-332092586.5515156\n",
      "-324213259.3854008\n",
      "-316520879.4709053\n",
      "-309011011.2399502\n",
      "-301679324.36771965\n",
      "-294521591.2697773\n",
      "-287533684.66716766\n",
      "-280711575.20716476\n",
      "-274051329.13601303\n",
      "-267549106.03691483\n",
      "-261201156.60752678\n",
      "-255003820.50803375\n",
      "-248953524.2388115\n",
      "-243046779.09108734\n",
      "-237280179.12866402\n",
      "-231650399.2238617\n",
      "-226154193.14351463\n",
      "-220788391.6774063\n",
      "-215549900.80525398\n",
      "-210435699.9185772\n",
      "-205442840.0757723\n",
      "-200568442.30402374\n",
      "-195809695.93769836\n",
      "-191163856.99540997\n",
      "-186628246.60309315\n",
      "-182200249.44544506\n",
      "-177877312.25878143\n",
      "-173656942.36024284\n",
      "-169536706.20588398\n",
      "-165514227.99380493\n",
      "-161587188.2905426\n",
      "-157753322.69242287\n",
      "-154010420.52395344\n",
      "-150356323.5606289\n",
      "-146788924.78100395\n",
      "-143306167.16125488\n",
      "-139906042.4773531\n",
      "-136586590.15830803\n",
      "-133345896.14620018\n",
      "-130182091.7983818\n",
      "-127093352.80827522\n",
      "-124077898.1502037\n",
      "-121133989.06281948\n",
      "-118259928.03192806\n",
      "-115454057.82075691\n",
      "-112714760.51674652\n",
      "-110040456.58824253\n",
      "-107429603.9854641\n",
      "-104880697.2424345\n",
      "-102392266.61299658\n",
      "-99962877.22235298\n",
      "-97591128.24232054\n",
      "-95275652.07780743\n",
      "-93015113.58382225\n",
      "-90808209.2924962\n",
      "-88653666.66340733\n",
      "-86550243.3471632\n",
      "-84496726.47344112\n",
      "-82491931.94450235\n",
      "-80534703.76222897\n",
      "-78623913.35070133\n",
      "-76758458.91616583\n",
      "-74937264.80108881\n",
      "-73159280.87414646\n",
      "-71423481.91562366\n",
      "-69728867.03412151\n",
      "-68074459.08232212\n",
      "-66459304.100011826\n",
      "-64882470.75881338\n",
      "-63343049.826975346\n",
      "-61840153.64903307\n",
      "-60372915.62436485\n",
      "-58940489.72033596\n",
      "-57542049.97161293\n",
      "-56176790.01415014\n",
      "-54843922.612514496\n",
      "-53542679.213180065\n",
      "-52272309.4945631\n",
      "-51032080.93719721\n",
      "-49821278.40535617\n",
      "-48639203.726964\n",
      "-47485175.295226574\n",
      "-46358527.678417444\n",
      "-45258611.22925472\n",
      "-44184791.71856928\n",
      "-43136449.95974517\n",
      "-42112981.4608953\n",
      "-41113796.07205629\n",
      "-40138317.64307952\n",
      "-39185983.69828844\n",
      "-38256245.101517916\n",
      "-37348565.75208473\n",
      "-36462422.2610507\n",
      "-35597303.66693425\n",
      "-34752711.12305641\n",
      "-33928157.623357296\n",
      "-33123167.714674234\n",
      "-32337277.226670742\n",
      "-31570032.999653816\n",
      "-30820992.626740456\n",
      "-30089724.19650054\n",
      "-29375806.0487597\n",
      "-28678826.523047686\n",
      "-27998383.730534554\n",
      "-27334085.312640667\n",
      "-26685548.226189375\n",
      "-26052398.509644985\n",
      "-25434271.08122313\n",
      "-24830809.51238191\n",
      "-24241665.840335727\n",
      "[-9.99999688e+04  2.45072603e+02  6.52795267e+01] 274\n"
     ]
    },
    {
     "data": {
      "image/png": "[encoded data removed]",
      "text/plain": [
       "<Figure size 576x288 with 1 Axes>"
      ]
     },
     "metadata": {},
     "output_type": "display_data"
    }
   ],
   "source": [
    "## Use the above parameters to estimate the model weights. Record these values for your quiz.\n",
    "initial_weights = [-100000., 1., 1.]\n",
    "weights2, grad_lst = regression_gradient_descent(feature_matrix2, output, initial_weights, step_size, tolerance)"
   ]
  },
  {
   "cell_type": "markdown",
   "metadata": {},
   "source": [
    "Use your newly estimated weights and the predict_output function to compute the predictions on the TEST data. Don't forget to create a numpy array for these features from the test set first!"
   ]
  },
  {
   "cell_type": "code",
   "execution_count": 226,
   "metadata": {},
   "outputs": [],
   "source": [
    "feature_matrixtest2, outputtest = testDt[['constant','sqft_living', 'sqft_living15']], testDt['price']\n",
    "predict_y = predict_output(feature_matrixtest2, weights2)"
   ]
  },
  {
   "cell_type": "markdown",
   "metadata": {},
   "source": [
    "**Quiz Question: What is the predicted price for the 1st house in the TEST data set for model 2 (round to nearest dollar)?**"
   ]
  },
  {
   "cell_type": "code",
   "execution_count": 227,
   "metadata": {},
   "outputs": [
    {
     "data": {
      "text/plain": [
       "(366651.41162949393, 310000.0)"
      ]
     },
     "execution_count": 227,
     "metadata": {},
     "output_type": "execute_result"
    }
   ],
   "source": [
    "predict_y[0], outputtest[0]"
   ]
  },
  {
   "cell_type": "code",
   "execution_count": 228,
   "metadata": {},
   "outputs": [
    {
     "data": {
      "text/plain": [
       "38860826.617531"
      ]
     },
     "execution_count": 228,
     "metadata": {},
     "output_type": "execute_result"
    }
   ],
   "source": [
    "err = outputtest - predict_y\n",
    "RSS = sqrt(np.matmul(predict_y,predict_y))\n",
    "RSS"
   ]
  },
  {
   "cell_type": "code",
   "execution_count": null,
   "metadata": {},
   "outputs": [],
   "source": []
  },
  {
   "cell_type": "code",
   "execution_count": null,
   "metadata": {},
   "outputs": [],
   "source": []
  }
 ],
 "metadata": {
  "kernelspec": {
   "display_name": "Python 3",
   "language": "python",
   "name": "python3"
  },
  "language_info": {
   "codemirror_mode": {
    "name": "ipython",
    "version": 3
   },
   "file_extension": ".py",
   "mimetype": "text/x-python",
   "name": "python",
   "nbconvert_exporter": "python",
   "pygments_lexer": "ipython3",
   "version": "3.6.4"
  }
 },
 "nbformat": 4,
 "nbformat_minor": 2
}
