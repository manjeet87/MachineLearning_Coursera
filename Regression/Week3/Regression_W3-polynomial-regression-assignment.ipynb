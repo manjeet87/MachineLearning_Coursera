{
 "cells": [
  {
   "cell_type": "markdown",
   "metadata": {},
   "source": [
    "# Regression Week 3: Assessing Fit (polynomial regression)"
   ]
  },
  {
   "cell_type": "markdown",
   "metadata": {},
   "source": [
    "In this notebook you will compare different regression models in order to assess which model fits best. We will be using polynomial regression as a means to examine this topic. In particular you will:\n",
    "* Write a function to take an Dataframe and a degree and return an Dataframe where each column is the Array to a polynomial value up to the total degree e.g. degree = 3 then column 1 is the Array column 2 is the numpyArray squared and column 3 is the numpyArray cubed\n",
    "* Use matplotlib to visualize polynomial regressions\n",
    "* Use matplotlib to visualize the same polynomial degree on different subsets of the data\n",
    "* Use a validation set to select a polynomial degree\n",
    "* Assess the final fit using test data\n",
    "\n",
    "We will continue to use the House data from previous notebooks."
   ]
  },
  {
   "cell_type": "code",
   "execution_count": 1,
   "metadata": {},
   "outputs": [
    {
     "data": {
      "text/html": [
       "\n",
       "<style>\n",
       "    div#notebook-container    { width: 100%; }\n",
       "</style>\n"
      ],
      "text/plain": [
       "<IPython.core.display.HTML object>"
      ]
     },
     "metadata": {},
     "output_type": "display_data"
    }
   ],
   "source": [
    "import pandas as pd\n",
    "import numpy as np\n",
    "import scipy as sp\n",
    "import matplotlib.pyplot as plt\n",
    "from sklearn.model_selection import train_test_split\n",
    "from sklearn.linear_model import LinearRegression\n",
    "desired_width = 360\n",
    "pd.set_option('display.width', desired_width)\n",
    "\n",
    "from IPython.display import display, HTML\n",
    "import datetime\n",
    "\n",
    "display(HTML(data=\"\"\"\n",
    "<style>\n",
    "    div#notebook-container    { width: 100%; }\n",
    "</style>\n",
    "\"\"\"))\n",
    "plt.rcParams['figure.figsize'] = [16,4]"
   ]
  },
  {
   "cell_type": "code",
   "execution_count": 2,
   "metadata": {},
   "outputs": [
    {
     "data": {
      "text/plain": [
       "(9761, 2217)"
      ]
     },
     "execution_count": 2,
     "metadata": {},
     "output_type": "execute_result"
    }
   ],
   "source": [
    "trainDt = pd.read_csv('wk3_kc_house_train_data.csv')\n",
    "validDt = pd.read_csv('wk3_kc_house_valid_data.csv')\n",
    "testDt = pd.read_csv('wk3_kc_house_test_data.csv')\n",
    "trainDt = trainDt.sort_values(by= ['sqft_living','price'])\n",
    "validDt = validDt.sort_values(by= ['sqft_living','price'])\n",
    "testDt = testDt.sort_values(by= ['sqft_living','price'])\n",
    "trainDt = trainDt.reset_index(drop = True)\n",
    "validDt = validDt.reset_index(drop = True)\n",
    "testDt = testDt.reset_index(drop = True)\n",
    "trainDt.sqft_living = trainDt.sqft_living.apply(lambda x: float(x))\n",
    "validDt.sqft_living = validDt.sqft_living.apply(lambda x: float(x))\n",
    "testDt.sqft_living = testDt.sqft_living.apply(lambda x: float(x))\n",
    "\n",
    "len(trainDt), len(testDt)"
   ]
  },
  {
   "cell_type": "markdown",
   "metadata": {},
   "source": [
    "# Polynomial_Dataframe function\n"
   ]
  },
  {
   "cell_type": "code",
   "execution_count": 3,
   "metadata": {},
   "outputs": [],
   "source": [
    "def polynomial_dframe(feature_dt, degree):\n",
    "    # assume that degree >= 1\n",
    "    # initialize the SFrame:\n",
    "    poly_dframe = pd.DataFrame()\n",
    "    # and set poly_sframe['power_1'] equal to the passed feature\n",
    "    poly_dframe['power_1'] = feature_dt\n",
    "\n",
    "    # first check if degree > 1\n",
    "    if degree > 1:\n",
    "        # then loop over the remaining degrees:\n",
    "        # range usually starts at 0 and stops at the endpoint-1. We want it to start at 2 and stop at degree\n",
    "        for power in range(2, degree+1): \n",
    "            # first we'll give the column a name:\n",
    "            name = 'power_' + str(power)\n",
    "            # then assign poly_sframe[name] to the appropriate power of feature\n",
    "            poly_dframe[name] = feature_dt**power\n",
    "\n",
    "    return poly_dframe"
   ]
  },
  {
   "cell_type": "code",
   "execution_count": 4,
   "metadata": {},
   "outputs": [],
   "source": [
    "a = pd.Series([1,2,3,4])"
   ]
  },
  {
   "cell_type": "code",
   "execution_count": 5,
   "metadata": {},
   "outputs": [
    {
     "data": {
      "text/plain": [
       "0     1\n",
       "1     8\n",
       "2    27\n",
       "3    64\n",
       "dtype: int64"
      ]
     },
     "execution_count": 5,
     "metadata": {},
     "output_type": "execute_result"
    }
   ],
   "source": [
    "a**3"
   ]
  },
  {
   "cell_type": "code",
   "execution_count": 6,
   "metadata": {},
   "outputs": [
    {
     "name": "stdout",
     "output_type": "stream",
     "text": [
      "   power_1  power_2  power_3\n",
      "0        1        1        1\n",
      "1        2        4        8\n",
      "2        3        9       27\n",
      "3        4       16       64\n"
     ]
    }
   ],
   "source": [
    "### To test your function consider the smaller tmp variable and what you would expect the outcome of the following call:\n",
    "print (polynomial_dframe(a, 3))"
   ]
  },
  {
   "cell_type": "markdown",
   "metadata": {},
   "source": [
    "# Visualizing polynomial regression\n",
    "\n",
    "Let's use matplotlib to visualize what a polynomial regression looks like on some real data."
   ]
  },
  {
   "cell_type": "code",
   "execution_count": 7,
   "metadata": {},
   "outputs": [],
   "source": [
    "### Let's start with a degree 1 polynomial using 'sqft_living' (i.e. a line) to predict 'price' and plot what it looks like.\n",
    "trainDt = trainDt.sort_values(by= ['sqft_living','price'])\n",
    "testDt = testDt.sort_values(by= ['sqft_living','price'])\n",
    "poly1_data = polynomial_dframe(trainDt['sqft_living'], 1)\n",
    "poly1_out = trainDt['price'] # add price to the data since it's the target"
   ]
  },
  {
   "cell_type": "code",
   "execution_count": 8,
   "metadata": {},
   "outputs": [
    {
     "data": {
      "text/plain": [
       "LinearRegression(copy_X=True, fit_intercept=True, n_jobs=1, normalize=False)"
      ]
     },
     "execution_count": 8,
     "metadata": {},
     "output_type": "execute_result"
    }
   ],
   "source": [
    "regr = LinearRegression()\n",
    "regr.fit(poly1_data, poly1_out)\n"
   ]
  },
  {
   "cell_type": "code",
   "execution_count": 9,
   "metadata": {},
   "outputs": [
    {
     "data": {
      "text/plain": [
       "array([288.59846375])"
      ]
     },
     "execution_count": 9,
     "metadata": {},
     "output_type": "execute_result"
    }
   ],
   "source": [
    "regr.coef_"
   ]
  },
  {
   "cell_type": "code",
   "execution_count": 10,
   "metadata": {},
   "outputs": [
    {
     "data": {
      "image/png": "[encoded data removed]",
      "text/plain": [
       "<Figure size 432x288 with 1 Axes>"
      ]
     },
     "metadata": {},
     "output_type": "display_data"
    }
   ],
   "source": [
    "plt.plot(poly1_data['power_1'],poly1_out,'.',\n",
    "        poly1_data['power_1'], regr.predict(poly1_data),'-');"
   ]
  },
  {
   "cell_type": "code",
   "execution_count": 11,
   "metadata": {},
   "outputs": [
    {
     "data": {
      "text/plain": [
       "array([-59493.31716521])"
      ]
     },
     "execution_count": 11,
     "metadata": {},
     "output_type": "execute_result"
    }
   ],
   "source": [
    "regr.predict(pd.DataFrame([0]))"
   ]
  },
  {
   "cell_type": "markdown",
   "metadata": {},
   "source": [
    "We can see, not surprisingly, that the predicted values all fall on a line, specifically the one with slope 280 and intercept -43579. What if we wanted to plot a second degree polynomial?"
   ]
  },
  {
   "cell_type": "code",
   "execution_count": 12,
   "metadata": {},
   "outputs": [],
   "source": [
    "regr2 = LinearRegression()\n",
    "poly2_data = polynomial_dframe(trainDt['sqft_living'], 2)\n",
    "poly2_out = trainDt['price'] # add price to the data since it's the target\n",
    "model2 =regr2.fit(poly2_data, poly2_out)"
   ]
  },
  {
   "cell_type": "code",
   "execution_count": 13,
   "metadata": {},
   "outputs": [
    {
     "data": {
      "text/plain": [
       "array([1.22673842, 0.0522949 ])"
      ]
     },
     "execution_count": 13,
     "metadata": {},
     "output_type": "execute_result"
    }
   ],
   "source": [
    "regr2.coef_"
   ]
  },
  {
   "cell_type": "code",
   "execution_count": 14,
   "metadata": {},
   "outputs": [
    {
     "data": {
      "image/png": "[encoded data removed]",
      "text/plain": [
       "<Figure size 432x288 with 1 Axes>"
      ]
     },
     "metadata": {},
     "output_type": "display_data"
    }
   ],
   "source": [
    "a1, a2 = regr2.coef_\n",
    "plt.plot(poly2_data['power_1'],poly2_out,'.',\n",
    "        poly2_data['power_1'], regr2.predict(poly2_data),'-');"
   ]
  },
  {
   "cell_type": "markdown",
   "metadata": {},
   "source": [
    "The resulting model looks like half a parabola. Try on your own to see what the cubic looks like:"
   ]
  },
  {
   "cell_type": "code",
   "execution_count": 15,
   "metadata": {},
   "outputs": [],
   "source": [
    "regr3 = LinearRegression()\n",
    "poly3_data = polynomial_dframe(trainDt['sqft_living'], 3)\n",
    "poly3_out = trainDt['price'] # add price to the data since it's the target\n",
    "model3 =regr3.fit(poly3_data, poly3_out)"
   ]
  },
  {
   "cell_type": "code",
   "execution_count": 16,
   "metadata": {},
   "outputs": [
    {
     "data": {
      "text/html": [
       "<div>\n",
       "<style scoped>\n",
       "    .dataframe tbody tr th:only-of-type {\n",
       "        vertical-align: middle;\n",
       "    }\n",
       "\n",
       "    .dataframe tbody tr th {\n",
       "        vertical-align: top;\n",
       "    }\n",
       "\n",
       "    .dataframe thead th {\n",
       "        text-align: right;\n",
       "    }\n",
       "</style>\n",
       "<table border=\"1\" class=\"dataframe\">\n",
       "  <thead>\n",
       "    <tr style=\"text-align: right;\">\n",
       "      <th></th>\n",
       "      <th>power_1</th>\n",
       "      <th>power_2</th>\n",
       "      <th>power_3</th>\n",
       "    </tr>\n",
       "  </thead>\n",
       "  <tbody>\n",
       "    <tr>\n",
       "      <th>0</th>\n",
       "      <td>290.0</td>\n",
       "      <td>84100.0</td>\n",
       "      <td>24389000.0</td>\n",
       "    </tr>\n",
       "    <tr>\n",
       "      <th>1</th>\n",
       "      <td>370.0</td>\n",
       "      <td>136900.0</td>\n",
       "      <td>50653000.0</td>\n",
       "    </tr>\n",
       "    <tr>\n",
       "      <th>2</th>\n",
       "      <td>384.0</td>\n",
       "      <td>147456.0</td>\n",
       "      <td>56623104.0</td>\n",
       "    </tr>\n",
       "    <tr>\n",
       "      <th>3</th>\n",
       "      <td>390.0</td>\n",
       "      <td>152100.0</td>\n",
       "      <td>59319000.0</td>\n",
       "    </tr>\n",
       "    <tr>\n",
       "      <th>4</th>\n",
       "      <td>390.0</td>\n",
       "      <td>152100.0</td>\n",
       "      <td>59319000.0</td>\n",
       "    </tr>\n",
       "  </tbody>\n",
       "</table>\n",
       "</div>"
      ],
      "text/plain": [
       "   power_1   power_2     power_3\n",
       "0    290.0   84100.0  24389000.0\n",
       "1    370.0  136900.0  50653000.0\n",
       "2    384.0  147456.0  56623104.0\n",
       "3    390.0  152100.0  59319000.0\n",
       "4    390.0  152100.0  59319000.0"
      ]
     },
     "execution_count": 16,
     "metadata": {},
     "output_type": "execute_result"
    }
   ],
   "source": [
    "poly3_data.head()"
   ]
  },
  {
   "cell_type": "code",
   "execution_count": 17,
   "metadata": {},
   "outputs": [],
   "source": [
    "poly3_datat = polynomial_dframe(testDt['sqft_living'], 3)"
   ]
  },
  {
   "cell_type": "code",
   "execution_count": 18,
   "metadata": {},
   "outputs": [
    {
     "data": {
      "text/plain": [
       "array([7.50292074e+00, 5.03063603e-02, 1.67090667e-07])"
      ]
     },
     "execution_count": 18,
     "metadata": {},
     "output_type": "execute_result"
    }
   ],
   "source": [
    "regr3.coef_"
   ]
  },
  {
   "cell_type": "code",
   "execution_count": 19,
   "metadata": {},
   "outputs": [
    {
     "data": {
      "image/png": "[encoded data removed]",
      "text/plain": [
       "<Figure size 432x288 with 1 Axes>"
      ]
     },
     "metadata": {},
     "output_type": "display_data"
    }
   ],
   "source": [
    "plt.plot(poly3_data['power_1'],poly3_out,'.',\n",
    "        poly3_datat['power_1'], regr3.predict(poly3_datat),'-');"
   ]
  },
  {
   "cell_type": "code",
   "execution_count": 20,
   "metadata": {},
   "outputs": [
    {
     "data": {
      "text/plain": [
       "array([ 274208.29641816,  281542.72844339,  282177.70233488, ...,\n",
       "       2401121.95045562, 2926152.59058576, 3501900.13894679])"
      ]
     },
     "execution_count": 20,
     "metadata": {},
     "output_type": "execute_result"
    }
   ],
   "source": [
    "regr3.predict(poly3_datat)"
   ]
  },
  {
   "cell_type": "markdown",
   "metadata": {},
   "source": [
    "Now try a 15th degree polynomial:"
   ]
  },
  {
   "cell_type": "code",
   "execution_count": 21,
   "metadata": {},
   "outputs": [],
   "source": [
    "regr15 = LinearRegression()\n",
    "poly15_data = polynomial_dframe(trainDt['sqft_living'], 4)\n",
    "poly15_out = trainDt['price'] # add price to the data since it's the target\n",
    "model15 =regr15.fit(poly15_data, poly15_out)"
   ]
  },
  {
   "cell_type": "code",
   "execution_count": 22,
   "metadata": {},
   "outputs": [
    {
     "data": {
      "text/plain": [
       "array([-1.53852740e+01,  6.08970914e-02, -1.61496586e-06,  9.11725279e-11])"
      ]
     },
     "execution_count": 22,
     "metadata": {},
     "output_type": "execute_result"
    }
   ],
   "source": [
    "regr15.coef_"
   ]
  },
  {
   "cell_type": "code",
   "execution_count": 23,
   "metadata": {},
   "outputs": [
    {
     "data": {
      "image/png": "[encoded data removed]",
      "text/plain": [
       "<Figure size 432x288 with 1 Axes>"
      ]
     },
     "metadata": {},
     "output_type": "display_data"
    }
   ],
   "source": [
    "plt.plot(poly15_data['power_1'],poly15_out,'.',\n",
    "        poly15_data['power_1'], regr15.predict(poly15_data),'-');"
   ]
  },
  {
   "cell_type": "code",
   "execution_count": 24,
   "metadata": {},
   "outputs": [],
   "source": [
    "regr7 = LinearRegression()\n",
    "poly7_data = polynomial_dframe(trainDt['sqft_living'], 7)\n",
    "poly7_out = trainDt['price'] # add price to the data since it's the target\n",
    "model7 =regr7.fit(poly7_data, poly7_out)"
   ]
  },
  {
   "cell_type": "code",
   "execution_count": 25,
   "metadata": {},
   "outputs": [
    {
     "data": {
      "text/plain": [
       "array([ 8.80209506e-19, -5.51993904e-12,  8.65340778e-12,  1.40282497e-08,\n",
       "       -4.30479844e-12,  4.64796044e-16, -1.67447722e-20])"
      ]
     },
     "execution_count": 25,
     "metadata": {},
     "output_type": "execute_result"
    }
   ],
   "source": [
    "regr7.coef_"
   ]
  },
  {
   "cell_type": "code",
   "execution_count": 26,
   "metadata": {},
   "outputs": [
    {
     "data": {
      "image/png": "[encoded data removed]",
      "text/plain": [
       "<Figure size 432x288 with 1 Axes>"
      ]
     },
     "metadata": {},
     "output_type": "display_data"
    }
   ],
   "source": [
    "plt.plot(poly7_data['power_1'],poly7_out,'.',\n",
    "        poly7_data['power_1'], regr7.predict(poly7_data),'-');"
   ]
  },
  {
   "cell_type": "markdown",
   "metadata": {},
   "source": [
    "What do you think of the 15th degree polynomial? Do you think this is appropriate? If we were to change the data do you think you'd get pretty much the same curve? Let's take a look.\n",
    "\n",
    "# Changing the data and re-learning\n",
    "\n",
    "We're going to split the sales data into four subsets of roughly equal size. Then you will estimate a 15th degree polynomial model on all four subsets of the data. Print the coefficients (you should use .print_rows(num_rows = 16) to view all of them) and plot the resulting fit (as we did above). The quiz will ask you some questions about these results.\n",
    "\n",
    "To split the sales data into four subsets, we perform the following steps:\n",
    "* First split sales into 2 subsets with `.random_split(0.5, seed=0)`. \n",
    "* Next split the resulting subsets into 2 more subsets each. Use `.random_split(0.5, seed=0)`.\n",
    "\n",
    "We set `seed=0` in these steps so that different users get consistent results.\n",
    "You should end up with 4 subsets (`set_1`, `set_2`, `set_3`, `set_4`) of approximately equal size. "
   ]
  },
  {
   "cell_type": "code",
   "execution_count": 27,
   "metadata": {},
   "outputs": [],
   "source": [
    "testDt1 = pd.read_csv('wk3_kc_house_set_1_data.csv')\n",
    "testDt2 = pd.read_csv('wk3_kc_house_set_2_data.csv')\n",
    "testDt3 = pd.read_csv('wk3_kc_house_set_3_data.csv')\n",
    "testDt4 = pd.read_csv('wk3_kc_house_set_4_data.csv')\n",
    "#testDt = pd.read_csv('kc_house_data.csv')\n",
    "testDt1.sqft_living = testDt1.sqft_living.apply(lambda x: float(x))\n",
    "testDt2.sqft_living = testDt2.sqft_living.apply(lambda x: float(x))\n",
    "testDt3.sqft_living = testDt3.sqft_living.apply(lambda x: float(x))"
   ]
  },
  {
   "cell_type": "code",
   "execution_count": 28,
   "metadata": {},
   "outputs": [],
   "source": [
    "regr15_1= LinearRegression()\n",
    "regr15_1.fit(polynomial_dframe(testDt1['sqft_living'], 15), testDt1['price'])\n",
    "regr15_2= LinearRegression()\n",
    "regr15_2.fit(polynomial_dframe(testDt2['sqft_living'], 15), testDt2['price'])\n",
    "regr15_3= LinearRegression()\n",
    "regr15_3.fit(polynomial_dframe(testDt3['sqft_living'], 15), testDt3['price'])\n",
    "regr15_4= LinearRegression()\n",
    "regr15_4.fit(polynomial_dframe(testDt4['sqft_living'], 15), testDt4['price'])\n",
    "\n",
    "\n",
    "predict1 = regr15_1.predict(polynomial_dframe(testDt1['sqft_living'], 15))\n",
    "predict2 = regr15_2.predict(polynomial_dframe(testDt2['sqft_living'], 15))\n",
    "predict3 = regr15_3.predict(polynomial_dframe(testDt3['sqft_living'], 15))\n",
    "predict4 = regr15_4.predict(polynomial_dframe(testDt4['sqft_living'], 15))"
   ]
  },
  {
   "cell_type": "code",
   "execution_count": 29,
   "metadata": {},
   "outputs": [
    {
     "data": {
      "text/plain": [
       "numpy.float64"
      ]
     },
     "execution_count": 29,
     "metadata": {},
     "output_type": "execute_result"
    }
   ],
   "source": [
    "type(testDt1['sqft_living'][0])"
   ]
  },
  {
   "cell_type": "code",
   "execution_count": null,
   "metadata": {},
   "outputs": [],
   "source": []
  },
  {
   "cell_type": "markdown",
   "metadata": {},
   "source": [
    "Fit a 15th degree polynomial on set_1, set_2, set_3, and set_4 using sqft_living to predict prices. Print the coefficients and make a plot of the resulting model."
   ]
  },
  {
   "cell_type": "code",
   "execution_count": 30,
   "metadata": {},
   "outputs": [
    {
     "data": {
      "image/png": "[encoded data removed]",
      "text/plain": [
       "<Figure size 432x288 with 1 Axes>"
      ]
     },
     "metadata": {},
     "output_type": "display_data"
    }
   ],
   "source": [
    "testDt1 = testDt1.sort_values(by= ['sqft_living','price'])\n",
    "plt.plot(testDt1['sqft_living'],testDt1['price'],'.',\n",
    "         testDt1['sqft_living'], predict1,'-');"
   ]
  },
  {
   "cell_type": "code",
   "execution_count": 31,
   "metadata": {},
   "outputs": [
    {
     "data": {
      "text/plain": [
       "array([ 3.05794168e-90,  2.21229711e-49,  6.60361724e-55, -4.97841222e-60,\n",
       "        3.23082736e-74,  1.10358333e-70,  8.37724029e-67,  6.23411957e-63,\n",
       "        4.49156442e-59,  3.06938763e-55,  1.91749300e-51,  1.01335180e-47,\n",
       "        3.62176959e-44, -5.63501661e-48,  2.18641116e-52])"
      ]
     },
     "execution_count": 31,
     "metadata": {},
     "output_type": "execute_result"
    }
   ],
   "source": [
    "regr15_1.coef_\n"
   ]
  },
  {
   "cell_type": "code",
   "execution_count": 32,
   "metadata": {},
   "outputs": [
    {
     "data": {
      "image/png": "[encoded data removed]",
      "text/plain": [
       "<Figure size 432x288 with 1 Axes>"
      ]
     },
     "metadata": {},
     "output_type": "display_data"
    }
   ],
   "source": [
    "testDt2 = testDt2.sort_values(by= ['sqft_living','price'])\n",
    "plt.plot(testDt2['sqft_living'],testDt2['price'],'.', \n",
    "         testDt2['sqft_living'], predict2,'-');"
   ]
  },
  {
   "cell_type": "code",
   "execution_count": 33,
   "metadata": {},
   "outputs": [
    {
     "data": {
      "text/plain": [
       "array([ 2.69062833e-77, -4.25460846e-39, -1.49051228e-44,  2.27069031e-49,\n",
       "        5.69833941e-71,  1.52836072e-58,  3.62461990e-55,  1.49667048e-51,\n",
       "        5.73503038e-48,  1.95015183e-44,  5.37537379e-41,  9.37452621e-38,\n",
       "       -3.62324584e-41,  4.63847479e-45, -1.96476265e-49])"
      ]
     },
     "execution_count": 33,
     "metadata": {},
     "output_type": "execute_result"
    }
   ],
   "source": [
    "regr15_2.coef_"
   ]
  },
  {
   "cell_type": "code",
   "execution_count": 34,
   "metadata": {},
   "outputs": [
    {
     "data": {
      "image/png": "[encoded data removed]",
      "text/plain": [
       "<Figure size 432x288 with 1 Axes>"
      ]
     },
     "metadata": {},
     "output_type": "display_data"
    }
   ],
   "source": [
    "testDt3 = testDt3.sort_values(by= ['sqft_living','price'])\n",
    "plt.plot(testDt3['sqft_living'],testDt3['price'],'.', \n",
    "         testDt3['sqft_living'], predict3,'-');"
   ]
  },
  {
   "cell_type": "code",
   "execution_count": 35,
   "metadata": {},
   "outputs": [
    {
     "data": {
      "text/plain": [
       "array([ 2.83751934e-88, -3.80811571e-49, -2.99948678e-55, -3.98272978e-59,\n",
       "        1.57170169e-72,  4.27894908e-69,  2.68009626e-65,  1.63911362e-61,\n",
       "        9.66435015e-58,  5.38044653e-54,  2.72563636e-50,  1.16253248e-46,\n",
       "        3.33756141e-43, -6.76238818e-47,  3.43132932e-51])"
      ]
     },
     "execution_count": 35,
     "metadata": {},
     "output_type": "execute_result"
    }
   ],
   "source": [
    "regr15_3.coef_"
   ]
  },
  {
   "cell_type": "code",
   "execution_count": 36,
   "metadata": {},
   "outputs": [
    {
     "data": {
      "image/png": "[encoded data removed]",
      "text/plain": [
       "<Figure size 432x288 with 1 Axes>"
      ]
     },
     "metadata": {},
     "output_type": "display_data"
    }
   ],
   "source": [
    "testDt4 = testDt4.sort_values(by= ['sqft_living','price'])\n",
    "plt.plot(testDt4['sqft_living'],testDt4['price'],'.', \n",
    "         testDt4['sqft_living'], predict4,'-');"
   ]
  },
  {
   "cell_type": "code",
   "execution_count": 37,
   "metadata": {},
   "outputs": [
    {
     "data": {
      "text/plain": [
       "array([ 2.91884329e-05,  5.46724867e-02, -1.39708390e-06,  6.93849733e-11,\n",
       "        3.46250806e-14, -1.22818422e-15, -4.00721123e-16,  9.03790931e-16,\n",
       "       -4.90926744e-16, -5.45570533e-16,  2.77555756e-16,  3.98119038e-16,\n",
       "        2.82759927e-16, -1.03562992e-15, -3.19189120e-16])"
      ]
     },
     "execution_count": 37,
     "metadata": {},
     "output_type": "execute_result"
    }
   ],
   "source": [
    "regr15_4.coef_"
   ]
  },
  {
   "cell_type": "code",
   "execution_count": 38,
   "metadata": {},
   "outputs": [
    {
     "data": {
      "image/png": "[encoded data removed]",
      "text/plain": [
       "<Figure size 432x288 with 1 Axes>"
      ]
     },
     "metadata": {},
     "output_type": "display_data"
    }
   ],
   "source": [
    "plt.plot(testDt1['sqft_living'],testDt1['price'],'.',\n",
    "         testDt1['sqft_living'], predict1,'y-',\n",
    "         testDt2['sqft_living'], predict2,'g-',\n",
    "         testDt3['sqft_living'], predict3,'b-',\n",
    "         testDt4['sqft_living'], predict4,'r-');"
   ]
  },
  {
   "cell_type": "markdown",
   "metadata": {},
   "source": [
    "Some questions you will be asked on your quiz:\n",
    "\n",
    "**Quiz Question: Is the sign (positive or negative) for power_15 the same in all four models?**\n",
    "\n",
    "**Quiz Question: (True/False) the plotted fitted lines look the same in all four plots**\n",
    "\n",
    "# Selecting a Polynomial Degree\n",
    "\n",
    "Whenever we have a \"magic\" parameter like the degree of the polynomial there is one well-known way to select these parameters: validation set. (We will explore another approach in week 4).\n",
    "\n",
    "We split the sales dataset 3-way into training set, test set, and validation set as follows:\n",
    "\n",
    "* Split our sales data into 2 sets: `training_and_validation` and `testing`. Use `random_split(0.9, seed=1)`.\n",
    "* Further split our training data into two sets: `training` and `validation`. Use `random_split(0.5, seed=1)`.\n",
    "\n",
    "Again, we set `seed=1` to obtain consistent results for different users."
   ]
  },
  {
   "cell_type": "code",
   "execution_count": 39,
   "metadata": {},
   "outputs": [
    {
     "data": {
      "text/plain": [
       "697360149559872.6"
      ]
     },
     "execution_count": 39,
     "metadata": {},
     "output_type": "execute_result"
    }
   ],
   "source": [
    "RSS1 = sum((testDt1['price'] - predict1)**2)\n",
    "RSS1"
   ]
  },
  {
   "cell_type": "code",
   "execution_count": 40,
   "metadata": {},
   "outputs": [
    {
     "data": {
      "text/plain": [
       "470064935459943.75"
      ]
     },
     "execution_count": 40,
     "metadata": {},
     "output_type": "execute_result"
    }
   ],
   "source": [
    "RSS2 = sum((testDt2['price'] - predict2)**2)\n",
    "RSS2"
   ]
  },
  {
   "cell_type": "code",
   "execution_count": 41,
   "metadata": {},
   "outputs": [
    {
     "data": {
      "text/plain": [
       "623393088762262.6"
      ]
     },
     "execution_count": 41,
     "metadata": {},
     "output_type": "execute_result"
    }
   ],
   "source": [
    "RSS3 = sum((testDt3['price'] - predict3)**2)\n",
    "RSS3"
   ]
  },
  {
   "cell_type": "code",
   "execution_count": 42,
   "metadata": {},
   "outputs": [
    {
     "data": {
      "text/plain": [
       "325799514887730.6"
      ]
     },
     "execution_count": 42,
     "metadata": {},
     "output_type": "execute_result"
    }
   ],
   "source": [
    "RSS4 = sum((testDt4['price'] - predict4)**2)\n",
    "RSS4"
   ]
  },
  {
   "cell_type": "markdown",
   "metadata": {},
   "source": [
    "Next you should write a loop that does the following:\n",
    "* For degree in [1, 2, 3, 4, 5, 6, 7, 8, 9, 10, 11, 12, 13, 14, 15] (to get this in python type range(1, 15+1))\n",
    "    * Build an SFrame of polynomial data of train_data['sqft_living'] at the current degree\n",
    "    * hint: my_features = poly_data.column_names() gives you a list e.g. ['power_1', 'power_2', 'power_3'] which you might find useful for graphlab.linear_regression.create( features = my_features)\n",
    "    * Add train_data['price'] to the polynomial SFrame\n",
    "    * Learn a polynomial regression model to sqft vs price with that degree on TRAIN data\n",
    "    * Compute the RSS on VALIDATION data (here you will want to use .predict()) for that degree and you will need to make a polynmial SFrame using validation data.\n",
    "* Report which degree had the lowest RSS on validation data (remember python indexes from 0)\n",
    "\n",
    "(Note you can turn off the print out of linear_regression.create() with verbose = False)"
   ]
  },
  {
   "cell_type": "code",
   "execution_count": 43,
   "metadata": {},
   "outputs": [
    {
     "name": "stdout",
     "output_type": "stream",
     "text": [
      "1 706999812596191.9  *******  629097886299586.2\n",
      "2 617681432824603.5  *******  623955062706519.0\n",
      "3 617670141211081.2  *******  625820280251936.2\n",
      "4 617637641573565.1  *******  629987335742093.8\n",
      "5 617649100671121.9  *******  628224826839623.4\n",
      "6 616209024627037.4  *******  566268534827871.5\n",
      "7 617631990816581.6  *******  1073848076155138.9\n",
      "8 637786818757332.4  *******  7088062454147649.0\n",
      "9 684831094496451.4  *******  4.528864599706442e+16\n",
      "10 751989757588501.2  *******  2.472550208062813e+17\n",
      "11 826194988565814.2  *******  1.1729780579707886e+18\n",
      "12 896930656375144.8  *******  5.257250464333601e+18\n",
      "13 1143335158761443.8  *******  7.616230021235547e+17\n",
      "14 1166042749408686.8  *******  2.2975609250815263e+18\n",
      "15 1183400438743908.2  *******  6.955038098435974e+18\n"
     ]
    }
   ],
   "source": [
    "rsstest_lst = []\n",
    "rsstrain_lst = []\n",
    "regri = LinearRegression()\n",
    "for i in range(1,16):\n",
    "    ### Learning on 'training Data'\n",
    "    regri.fit(polynomial_dframe(trainDt['sqft_living'], i), trainDt['price']) \n",
    "    \n",
    "    ### Testing on train Data \n",
    "    predicttrain = regri.predict(polynomial_dframe(trainDt['sqft_living'], i))\n",
    "    \n",
    "    ### Testing on Valid Data \n",
    "    predicttest = regri.predict(polynomial_dframe(validDt['sqft_living'], i))\n",
    "    \n",
    "    RSStest = sum((validDt['price'] - predicttest)**2)\n",
    "    RSStrain = sum((trainDt['price'] - predicttrain)**2)\n",
    "    \n",
    "    print (i, RSStrain, \" ******* \", RSStest)\n",
    "    rsstrain_lst.append(RSStrain)\n",
    "    rsstest_lst.append(RSStest)\n",
    "rsstest_lst = np.array(rsstest_lst)/1e13\n",
    "rsstrain_lst = np.array(rsstrain_lst)/1e13"
   ]
  },
  {
   "cell_type": "code",
   "execution_count": 44,
   "metadata": {},
   "outputs": [
    {
     "data": {
      "text/plain": [
       "32"
      ]
     },
     "execution_count": 44,
     "metadata": {},
     "output_type": "execute_result"
    }
   ],
   "source": [
    "2**5"
   ]
  },
  {
   "cell_type": "code",
   "execution_count": 49,
   "metadata": {},
   "outputs": [
    {
     "data": {
      "text/plain": [
       "(56.62685348278715, 5)"
      ]
     },
     "execution_count": 49,
     "metadata": {},
     "output_type": "execute_result"
    }
   ],
   "source": [
    "rsstest_lst.min(), rsstest_lst.argmin()"
   ]
  },
  {
   "cell_type": "code",
   "execution_count": 52,
   "metadata": {},
   "outputs": [
    {
     "name": "stderr",
     "output_type": "stream",
     "text": [
      "C:\\Users\\manje_000\\AppData\\Local\\Programs\\Python\\Python36\\lib\\site-packages\\matplotlib\\axes\\_base.py:3449: UserWarning: Attempted to set non-positive ylimits for log-scale axis; invalid limits will be ignored.\n",
      "  'Attempted to set non-positive ylimits for log-scale axis; '\n"
     ]
    },
    {
     "data": {
      "text/plain": [
       "(56.62685348278715, 10000.0)"
      ]
     },
     "execution_count": 52,
     "metadata": {},
     "output_type": "execute_result"
    },
    {
     "data": {
      "image/png": "[encoded data removed]",
      "text/plain": [
       "<Figure size 432x288 with 2 Axes>"
      ]
     },
     "metadata": {},
     "output_type": "display_data"
    }
   ],
   "source": [
    "plt.plot(rsstrain_lst, 'b-')\n",
    "plt.twinx()\n",
    "plt.plot(rsstest_lst,  'r-')\n",
    "plt.semilogy()\n",
    "plt.ylim(0,10e3)"
   ]
  },
  {
   "cell_type": "markdown",
   "metadata": {},
   "source": [
    "**Quiz Question: Which degree (1, 2, …, 15) had the lowest RSS on Validation data?**\n",
    "\n",
    "Now that you have chosen the degree of your polynomial using validation data, compute the RSS of this model on TEST data. Report the RSS on your quiz.\n",
    "\n",
    "\n",
    "\n",
    "**Quiz Question: what is the RSS on TEST data for the model with the degree selected from Validation data?**"
   ]
  },
  {
   "cell_type": "code",
   "execution_count": 53,
   "metadata": {},
   "outputs": [
    {
     "data": {
      "text/plain": [
       "135225115616415.48"
      ]
     },
     "execution_count": 53,
     "metadata": {},
     "output_type": "execute_result"
    }
   ],
   "source": [
    "regri.fit(polynomial_dframe(trainDt['sqft_living'], 6), trainDt['price'])\n",
    "predict = regri.predict(polynomial_dframe(testDt['sqft_living'], 6))\n",
    "RSS = sum((testDt['price'] - predict)**2)\n",
    "RSS"
   ]
  },
  {
   "cell_type": "code",
   "execution_count": 54,
   "metadata": {
    "scrolled": true
   },
   "outputs": [
    {
     "data": {
      "text/html": [
       "<div>\n",
       "<style scoped>\n",
       "    .dataframe tbody tr th:only-of-type {\n",
       "        vertical-align: middle;\n",
       "    }\n",
       "\n",
       "    .dataframe tbody tr th {\n",
       "        vertical-align: top;\n",
       "    }\n",
       "\n",
       "    .dataframe thead th {\n",
       "        text-align: right;\n",
       "    }\n",
       "</style>\n",
       "<table border=\"1\" class=\"dataframe\">\n",
       "  <thead>\n",
       "    <tr style=\"text-align: right;\">\n",
       "      <th></th>\n",
       "      <th>power_1</th>\n",
       "      <th>power_2</th>\n",
       "    </tr>\n",
       "  </thead>\n",
       "  <tbody>\n",
       "    <tr>\n",
       "      <th>0</th>\n",
       "      <td>420.0</td>\n",
       "      <td>176400.0</td>\n",
       "    </tr>\n",
       "    <tr>\n",
       "      <th>1</th>\n",
       "      <td>550.0</td>\n",
       "      <td>302500.0</td>\n",
       "    </tr>\n",
       "    <tr>\n",
       "      <th>2</th>\n",
       "      <td>560.0</td>\n",
       "      <td>313600.0</td>\n",
       "    </tr>\n",
       "    <tr>\n",
       "      <th>3</th>\n",
       "      <td>600.0</td>\n",
       "      <td>360000.0</td>\n",
       "    </tr>\n",
       "    <tr>\n",
       "      <th>4</th>\n",
       "      <td>620.0</td>\n",
       "      <td>384400.0</td>\n",
       "    </tr>\n",
       "    <tr>\n",
       "      <th>5</th>\n",
       "      <td>620.0</td>\n",
       "      <td>384400.0</td>\n",
       "    </tr>\n",
       "    <tr>\n",
       "      <th>6</th>\n",
       "      <td>700.0</td>\n",
       "      <td>490000.0</td>\n",
       "    </tr>\n",
       "    <tr>\n",
       "      <th>7</th>\n",
       "      <td>700.0</td>\n",
       "      <td>490000.0</td>\n",
       "    </tr>\n",
       "    <tr>\n",
       "      <th>8</th>\n",
       "      <td>710.0</td>\n",
       "      <td>504100.0</td>\n",
       "    </tr>\n",
       "    <tr>\n",
       "      <th>9</th>\n",
       "      <td>710.0</td>\n",
       "      <td>504100.0</td>\n",
       "    </tr>\n",
       "    <tr>\n",
       "      <th>10</th>\n",
       "      <td>720.0</td>\n",
       "      <td>518400.0</td>\n",
       "    </tr>\n",
       "    <tr>\n",
       "      <th>11</th>\n",
       "      <td>720.0</td>\n",
       "      <td>518400.0</td>\n",
       "    </tr>\n",
       "    <tr>\n",
       "      <th>12</th>\n",
       "      <td>720.0</td>\n",
       "      <td>518400.0</td>\n",
       "    </tr>\n",
       "    <tr>\n",
       "      <th>13</th>\n",
       "      <td>720.0</td>\n",
       "      <td>518400.0</td>\n",
       "    </tr>\n",
       "    <tr>\n",
       "      <th>14</th>\n",
       "      <td>720.0</td>\n",
       "      <td>518400.0</td>\n",
       "    </tr>\n",
       "    <tr>\n",
       "      <th>15</th>\n",
       "      <td>720.0</td>\n",
       "      <td>518400.0</td>\n",
       "    </tr>\n",
       "    <tr>\n",
       "      <th>16</th>\n",
       "      <td>720.0</td>\n",
       "      <td>518400.0</td>\n",
       "    </tr>\n",
       "    <tr>\n",
       "      <th>17</th>\n",
       "      <td>730.0</td>\n",
       "      <td>532900.0</td>\n",
       "    </tr>\n",
       "    <tr>\n",
       "      <th>18</th>\n",
       "      <td>730.0</td>\n",
       "      <td>532900.0</td>\n",
       "    </tr>\n",
       "    <tr>\n",
       "      <th>19</th>\n",
       "      <td>730.0</td>\n",
       "      <td>532900.0</td>\n",
       "    </tr>\n",
       "    <tr>\n",
       "      <th>20</th>\n",
       "      <td>740.0</td>\n",
       "      <td>547600.0</td>\n",
       "    </tr>\n",
       "    <tr>\n",
       "      <th>21</th>\n",
       "      <td>750.0</td>\n",
       "      <td>562500.0</td>\n",
       "    </tr>\n",
       "    <tr>\n",
       "      <th>22</th>\n",
       "      <td>750.0</td>\n",
       "      <td>562500.0</td>\n",
       "    </tr>\n",
       "    <tr>\n",
       "      <th>23</th>\n",
       "      <td>760.0</td>\n",
       "      <td>577600.0</td>\n",
       "    </tr>\n",
       "    <tr>\n",
       "      <th>24</th>\n",
       "      <td>760.0</td>\n",
       "      <td>577600.0</td>\n",
       "    </tr>\n",
       "    <tr>\n",
       "      <th>25</th>\n",
       "      <td>760.0</td>\n",
       "      <td>577600.0</td>\n",
       "    </tr>\n",
       "    <tr>\n",
       "      <th>26</th>\n",
       "      <td>760.0</td>\n",
       "      <td>577600.0</td>\n",
       "    </tr>\n",
       "    <tr>\n",
       "      <th>27</th>\n",
       "      <td>760.0</td>\n",
       "      <td>577600.0</td>\n",
       "    </tr>\n",
       "    <tr>\n",
       "      <th>28</th>\n",
       "      <td>760.0</td>\n",
       "      <td>577600.0</td>\n",
       "    </tr>\n",
       "    <tr>\n",
       "      <th>29</th>\n",
       "      <td>770.0</td>\n",
       "      <td>592900.0</td>\n",
       "    </tr>\n",
       "    <tr>\n",
       "      <th>...</th>\n",
       "      <td>...</td>\n",
       "      <td>...</td>\n",
       "    </tr>\n",
       "    <tr>\n",
       "      <th>2187</th>\n",
       "      <td>4620.0</td>\n",
       "      <td>21344400.0</td>\n",
       "    </tr>\n",
       "    <tr>\n",
       "      <th>2188</th>\n",
       "      <td>4650.0</td>\n",
       "      <td>21622500.0</td>\n",
       "    </tr>\n",
       "    <tr>\n",
       "      <th>2189</th>\n",
       "      <td>4670.0</td>\n",
       "      <td>21808900.0</td>\n",
       "    </tr>\n",
       "    <tr>\n",
       "      <th>2190</th>\n",
       "      <td>4700.0</td>\n",
       "      <td>22090000.0</td>\n",
       "    </tr>\n",
       "    <tr>\n",
       "      <th>2191</th>\n",
       "      <td>4700.0</td>\n",
       "      <td>22090000.0</td>\n",
       "    </tr>\n",
       "    <tr>\n",
       "      <th>2192</th>\n",
       "      <td>4750.0</td>\n",
       "      <td>22562500.0</td>\n",
       "    </tr>\n",
       "    <tr>\n",
       "      <th>2193</th>\n",
       "      <td>4780.0</td>\n",
       "      <td>22848400.0</td>\n",
       "    </tr>\n",
       "    <tr>\n",
       "      <th>2194</th>\n",
       "      <td>4810.0</td>\n",
       "      <td>23136100.0</td>\n",
       "    </tr>\n",
       "    <tr>\n",
       "      <th>2195</th>\n",
       "      <td>4940.0</td>\n",
       "      <td>24403600.0</td>\n",
       "    </tr>\n",
       "    <tr>\n",
       "      <th>2196</th>\n",
       "      <td>5030.0</td>\n",
       "      <td>25300900.0</td>\n",
       "    </tr>\n",
       "    <tr>\n",
       "      <th>2197</th>\n",
       "      <td>5120.0</td>\n",
       "      <td>26214400.0</td>\n",
       "    </tr>\n",
       "    <tr>\n",
       "      <th>2198</th>\n",
       "      <td>5150.0</td>\n",
       "      <td>26522500.0</td>\n",
       "    </tr>\n",
       "    <tr>\n",
       "      <th>2199</th>\n",
       "      <td>5180.0</td>\n",
       "      <td>26832400.0</td>\n",
       "    </tr>\n",
       "    <tr>\n",
       "      <th>2200</th>\n",
       "      <td>5190.0</td>\n",
       "      <td>26936100.0</td>\n",
       "    </tr>\n",
       "    <tr>\n",
       "      <th>2201</th>\n",
       "      <td>5250.0</td>\n",
       "      <td>27562500.0</td>\n",
       "    </tr>\n",
       "    <tr>\n",
       "      <th>2202</th>\n",
       "      <td>5350.0</td>\n",
       "      <td>28622500.0</td>\n",
       "    </tr>\n",
       "    <tr>\n",
       "      <th>2203</th>\n",
       "      <td>5450.0</td>\n",
       "      <td>29702500.0</td>\n",
       "    </tr>\n",
       "    <tr>\n",
       "      <th>2204</th>\n",
       "      <td>5610.0</td>\n",
       "      <td>31472100.0</td>\n",
       "    </tr>\n",
       "    <tr>\n",
       "      <th>2205</th>\n",
       "      <td>5670.0</td>\n",
       "      <td>32148900.0</td>\n",
       "    </tr>\n",
       "    <tr>\n",
       "      <th>2206</th>\n",
       "      <td>5710.0</td>\n",
       "      <td>32604100.0</td>\n",
       "    </tr>\n",
       "    <tr>\n",
       "      <th>2207</th>\n",
       "      <td>5770.0</td>\n",
       "      <td>33292900.0</td>\n",
       "    </tr>\n",
       "    <tr>\n",
       "      <th>2208</th>\n",
       "      <td>5770.0</td>\n",
       "      <td>33292900.0</td>\n",
       "    </tr>\n",
       "    <tr>\n",
       "      <th>2209</th>\n",
       "      <td>5780.0</td>\n",
       "      <td>33408400.0</td>\n",
       "    </tr>\n",
       "    <tr>\n",
       "      <th>2210</th>\n",
       "      <td>5810.0</td>\n",
       "      <td>33756100.0</td>\n",
       "    </tr>\n",
       "    <tr>\n",
       "      <th>2211</th>\n",
       "      <td>5840.0</td>\n",
       "      <td>34105600.0</td>\n",
       "    </tr>\n",
       "    <tr>\n",
       "      <th>2212</th>\n",
       "      <td>6050.0</td>\n",
       "      <td>36602500.0</td>\n",
       "    </tr>\n",
       "    <tr>\n",
       "      <th>2213</th>\n",
       "      <td>6085.0</td>\n",
       "      <td>37027225.0</td>\n",
       "    </tr>\n",
       "    <tr>\n",
       "      <th>2214</th>\n",
       "      <td>6380.0</td>\n",
       "      <td>40704400.0</td>\n",
       "    </tr>\n",
       "    <tr>\n",
       "      <th>2215</th>\n",
       "      <td>7120.0</td>\n",
       "      <td>50694400.0</td>\n",
       "    </tr>\n",
       "    <tr>\n",
       "      <th>2216</th>\n",
       "      <td>7850.0</td>\n",
       "      <td>61622500.0</td>\n",
       "    </tr>\n",
       "  </tbody>\n",
       "</table>\n",
       "<p>2217 rows × 2 columns</p>\n",
       "</div>"
      ],
      "text/plain": [
       "      power_1     power_2\n",
       "0       420.0    176400.0\n",
       "1       550.0    302500.0\n",
       "2       560.0    313600.0\n",
       "3       600.0    360000.0\n",
       "4       620.0    384400.0\n",
       "5       620.0    384400.0\n",
       "6       700.0    490000.0\n",
       "7       700.0    490000.0\n",
       "8       710.0    504100.0\n",
       "9       710.0    504100.0\n",
       "10      720.0    518400.0\n",
       "11      720.0    518400.0\n",
       "12      720.0    518400.0\n",
       "13      720.0    518400.0\n",
       "14      720.0    518400.0\n",
       "15      720.0    518400.0\n",
       "16      720.0    518400.0\n",
       "17      730.0    532900.0\n",
       "18      730.0    532900.0\n",
       "19      730.0    532900.0\n",
       "20      740.0    547600.0\n",
       "21      750.0    562500.0\n",
       "22      750.0    562500.0\n",
       "23      760.0    577600.0\n",
       "24      760.0    577600.0\n",
       "25      760.0    577600.0\n",
       "26      760.0    577600.0\n",
       "27      760.0    577600.0\n",
       "28      760.0    577600.0\n",
       "29      770.0    592900.0\n",
       "...       ...         ...\n",
       "2187   4620.0  21344400.0\n",
       "2188   4650.0  21622500.0\n",
       "2189   4670.0  21808900.0\n",
       "2190   4700.0  22090000.0\n",
       "2191   4700.0  22090000.0\n",
       "2192   4750.0  22562500.0\n",
       "2193   4780.0  22848400.0\n",
       "2194   4810.0  23136100.0\n",
       "2195   4940.0  24403600.0\n",
       "2196   5030.0  25300900.0\n",
       "2197   5120.0  26214400.0\n",
       "2198   5150.0  26522500.0\n",
       "2199   5180.0  26832400.0\n",
       "2200   5190.0  26936100.0\n",
       "2201   5250.0  27562500.0\n",
       "2202   5350.0  28622500.0\n",
       "2203   5450.0  29702500.0\n",
       "2204   5610.0  31472100.0\n",
       "2205   5670.0  32148900.0\n",
       "2206   5710.0  32604100.0\n",
       "2207   5770.0  33292900.0\n",
       "2208   5770.0  33292900.0\n",
       "2209   5780.0  33408400.0\n",
       "2210   5810.0  33756100.0\n",
       "2211   5840.0  34105600.0\n",
       "2212   6050.0  36602500.0\n",
       "2213   6085.0  37027225.0\n",
       "2214   6380.0  40704400.0\n",
       "2215   7120.0  50694400.0\n",
       "2216   7850.0  61622500.0\n",
       "\n",
       "[2217 rows x 2 columns]"
      ]
     },
     "execution_count": 54,
     "metadata": {},
     "output_type": "execute_result"
    }
   ],
   "source": [
    "polynomial_dframe(testDt['sqft_living'], 2)"
   ]
  },
  {
   "cell_type": "code",
   "execution_count": null,
   "metadata": {},
   "outputs": [],
   "source": []
  },
  {
   "cell_type": "code",
   "execution_count": null,
   "metadata": {},
   "outputs": [],
   "source": []
  }
 ],
 "metadata": {
  "kernelspec": {
   "display_name": "Python 3",
   "language": "python",
   "name": "python3"
  },
  "language_info": {
   "codemirror_mode": {
    "name": "ipython",
    "version": 3
   },
   "file_extension": ".py",
   "mimetype": "text/x-python",
   "name": "python",
   "nbconvert_exporter": "python",
   "pygments_lexer": "ipython3",
   "version": "3.6.4"
  }
 },
 "nbformat": 4,
 "nbformat_minor": 2
}
