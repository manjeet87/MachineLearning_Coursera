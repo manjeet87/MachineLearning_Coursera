{
 "cells": [
  {
   "cell_type": "code",
   "execution_count": 1,
   "metadata": {},
   "outputs": [
    {
     "data": {
      "text/html": [
       "\n",
       "<style>\n",
       "    div#notebook-container    { width: 100%; }\n",
       "</style>\n"
      ],
      "text/plain": [
       "<IPython.core.display.HTML object>"
      ]
     },
     "metadata": {},
     "output_type": "display_data"
    }
   ],
   "source": [
    "import pandas as pd\n",
    "import numpy as np\n",
    "import matplotlib.pyplot as plt\n",
    "from sklearn import linear_model\n",
    "from IPython.display import display, HTML\n",
    "import datetime\n",
    "pd.set_option('display.height', 1000)\n",
    "pd.set_option('display.max_rows', 500)\n",
    "pd.set_option('display.max_columns', 500)\n",
    "pd.set_option('display.width', 1000)\n",
    "\n",
    "display(HTML(data=\"\"\"\n",
    "<style>\n",
    "    div#notebook-container    { width: 100%; }\n",
    "</style>\n",
    "\"\"\"))\n",
    "plt.rcParams['figure.figsize'] = [16,4]"
   ]
  },
  {
   "cell_type": "code",
   "execution_count": 2,
   "metadata": {},
   "outputs": [],
   "source": [
    "ds = pd.read_excel('Data.xlsx')\n"
   ]
  },
  {
   "cell_type": "code",
   "execution_count": 3,
   "metadata": {},
   "outputs": [
    {
     "name": "stdout",
     "output_type": "stream",
     "text": [
      "<class 'pandas.core.frame.DataFrame'>\n",
      "RangeIndex: 591 entries, 0 to 590\n",
      "Data columns (total 26 columns):\n",
      "S.NO                           591 non-null int64\n",
      "WARD                           591 non-null int64\n",
      "PID                            591 non-null object\n",
      "BID                            591 non-null object\n",
      "HOUSE.NO                       428 non-null object\n",
      "FLOOR.NO                       591 non-null int64\n",
      "TYPE OF PREMISES               591 non-null object\n",
      "OWNERSHIP STATUS               432 non-null object\n",
      "SHOP.NO                        62 non-null object\n",
      "TRADE LIC                      99 non-null object\n",
      "SUB TYPE COMMERCIAL            244 non-null object\n",
      "SUB TYPE RESIDENTIAL           322 non-null object\n",
      "RUNNING STATUS                 591 non-null object\n",
      "REGISTERED STATUS              369 non-null object\n",
      "BUILDING COLOR                 591 non-null object\n",
      "TAX METHOD                     591 non-null object\n",
      "AREA                           409 non-null float64\n",
      "Signage_1                      134 non-null object\n",
      "Signage_2                      66 non-null object\n",
      "Signage_3                      51 non-null object\n",
      "SignageArea_1                  132 non-null float64\n",
      "SignageArea_2                  70 non-null float64\n",
      "SignageArea_3                  52 non-null float64\n",
      "TOTAL SIGN BOARD               591 non-null int64\n",
      "TOTAL  SIGN BOARD AREA SQMT    591 non-null float64\n",
      "TYPE OF BUILDING               591 non-null object\n",
      "dtypes: float64(5), int64(4), object(17)\n",
      "memory usage: 120.1+ KB\n"
     ]
    }
   ],
   "source": [
    "ds.info()"
   ]
  },
  {
   "cell_type": "code",
   "execution_count": 4,
   "metadata": {},
   "outputs": [
    {
     "data": {
      "text/html": [
       "<div>\n",
       "<style scoped>\n",
       "    .dataframe tbody tr th:only-of-type {\n",
       "        vertical-align: middle;\n",
       "    }\n",
       "\n",
       "    .dataframe tbody tr th {\n",
       "        vertical-align: top;\n",
       "    }\n",
       "\n",
       "    .dataframe thead th {\n",
       "        text-align: right;\n",
       "    }\n",
       "</style>\n",
       "<table border=\"1\" class=\"dataframe\">\n",
       "  <thead>\n",
       "    <tr style=\"text-align: right;\">\n",
       "      <th></th>\n",
       "      <th>S.NO</th>\n",
       "      <th>WARD</th>\n",
       "      <th>PID</th>\n",
       "      <th>BID</th>\n",
       "      <th>HOUSE.NO</th>\n",
       "      <th>FLOOR.NO</th>\n",
       "      <th>TYPE OF PREMISES</th>\n",
       "      <th>OWNERSHIP STATUS</th>\n",
       "      <th>SHOP.NO</th>\n",
       "      <th>TRADE LIC</th>\n",
       "      <th>SUB TYPE COMMERCIAL</th>\n",
       "      <th>SUB TYPE RESIDENTIAL</th>\n",
       "      <th>RUNNING STATUS</th>\n",
       "      <th>REGISTERED STATUS</th>\n",
       "      <th>BUILDING COLOR</th>\n",
       "      <th>TAX METHOD</th>\n",
       "      <th>AREA</th>\n",
       "      <th>Signage_1</th>\n",
       "      <th>Signage_2</th>\n",
       "      <th>Signage_3</th>\n",
       "      <th>SignageArea_1</th>\n",
       "      <th>SignageArea_2</th>\n",
       "      <th>SignageArea_3</th>\n",
       "      <th>TOTAL SIGN BOARD</th>\n",
       "      <th>TOTAL  SIGN BOARD AREA SQMT</th>\n",
       "      <th>TYPE OF BUILDING</th>\n",
       "    </tr>\n",
       "  </thead>\n",
       "  <tbody>\n",
       "    <tr>\n",
       "      <th>0</th>\n",
       "      <td>1</td>\n",
       "      <td>8</td>\n",
       "      <td>A1_1_8_1001</td>\n",
       "      <td>1_8_1001</td>\n",
       "      <td>NaN</td>\n",
       "      <td>0</td>\n",
       "      <td>COMMERCIAL</td>\n",
       "      <td>SELF OWNED</td>\n",
       "      <td>116</td>\n",
       "      <td>T/O/3015</td>\n",
       "      <td>SHOP</td>\n",
       "      <td>NaN</td>\n",
       "      <td>OPEN</td>\n",
       "      <td>YES</td>\n",
       "      <td>Blue</td>\n",
       "      <td>AREA</td>\n",
       "      <td>3.909</td>\n",
       "      <td>PAINT</td>\n",
       "      <td>NaN</td>\n",
       "      <td>NaN</td>\n",
       "      <td>1.000</td>\n",
       "      <td>NaN</td>\n",
       "      <td>NaN</td>\n",
       "      <td>1</td>\n",
       "      <td>1.000</td>\n",
       "      <td>PATRA</td>\n",
       "    </tr>\n",
       "    <tr>\n",
       "      <th>1</th>\n",
       "      <td>2</td>\n",
       "      <td>8</td>\n",
       "      <td>A1_1_8_1002</td>\n",
       "      <td>1_8_1002</td>\n",
       "      <td>NaN</td>\n",
       "      <td>0</td>\n",
       "      <td>COMMERCIAL</td>\n",
       "      <td>NaN</td>\n",
       "      <td>NaN</td>\n",
       "      <td>NaN</td>\n",
       "      <td>SHOP</td>\n",
       "      <td>NaN</td>\n",
       "      <td>CLOSED</td>\n",
       "      <td>NaN</td>\n",
       "      <td>YELLOW</td>\n",
       "      <td>AREA</td>\n",
       "      <td>NaN</td>\n",
       "      <td>NaN</td>\n",
       "      <td>NaN</td>\n",
       "      <td>NaN</td>\n",
       "      <td>NaN</td>\n",
       "      <td>NaN</td>\n",
       "      <td>NaN</td>\n",
       "      <td>0</td>\n",
       "      <td>0.000</td>\n",
       "      <td>PATRA</td>\n",
       "    </tr>\n",
       "    <tr>\n",
       "      <th>2</th>\n",
       "      <td>3</td>\n",
       "      <td>8</td>\n",
       "      <td>A1_1_8_1003</td>\n",
       "      <td>1_8_1003</td>\n",
       "      <td>8/03/238/</td>\n",
       "      <td>0</td>\n",
       "      <td>COMMERCIAL</td>\n",
       "      <td>SELF OWNED</td>\n",
       "      <td>102</td>\n",
       "      <td>T/O/3040</td>\n",
       "      <td>School</td>\n",
       "      <td>NaN</td>\n",
       "      <td>OPEN</td>\n",
       "      <td>YES</td>\n",
       "      <td>Green</td>\n",
       "      <td>AREA</td>\n",
       "      <td>5.570</td>\n",
       "      <td>PAINT</td>\n",
       "      <td>OTHERS</td>\n",
       "      <td>NaN</td>\n",
       "      <td>2.000</td>\n",
       "      <td>NaN</td>\n",
       "      <td>0.82</td>\n",
       "      <td>2</td>\n",
       "      <td>2.820</td>\n",
       "      <td>PATRA</td>\n",
       "    </tr>\n",
       "    <tr>\n",
       "      <th>3</th>\n",
       "      <td>4</td>\n",
       "      <td>8</td>\n",
       "      <td>A2_1_8_1004</td>\n",
       "      <td>1_8_1004</td>\n",
       "      <td>8/269/</td>\n",
       "      <td>0</td>\n",
       "      <td>COMMERCIAL</td>\n",
       "      <td>SELF OWNED</td>\n",
       "      <td>NaN</td>\n",
       "      <td>T/O/5696</td>\n",
       "      <td>SHOP</td>\n",
       "      <td>NaN</td>\n",
       "      <td>OPEN</td>\n",
       "      <td>YES</td>\n",
       "      <td>Yellow</td>\n",
       "      <td>AREA</td>\n",
       "      <td>5.842</td>\n",
       "      <td>NaN</td>\n",
       "      <td>NaN</td>\n",
       "      <td>NaN</td>\n",
       "      <td>NaN</td>\n",
       "      <td>NaN</td>\n",
       "      <td>NaN</td>\n",
       "      <td>0</td>\n",
       "      <td>0.000</td>\n",
       "      <td>PATRA</td>\n",
       "    </tr>\n",
       "    <tr>\n",
       "      <th>4</th>\n",
       "      <td>5</td>\n",
       "      <td>8</td>\n",
       "      <td>A1_1_ 8_1004</td>\n",
       "      <td>1_8_1004</td>\n",
       "      <td>8/269/1</td>\n",
       "      <td>0</td>\n",
       "      <td>COMMERCIAL</td>\n",
       "      <td>SELF OWNED</td>\n",
       "      <td>NaN</td>\n",
       "      <td>NaN</td>\n",
       "      <td>SHOP</td>\n",
       "      <td>NaN</td>\n",
       "      <td>OPEN</td>\n",
       "      <td>YES</td>\n",
       "      <td>yellow</td>\n",
       "      <td>AREA</td>\n",
       "      <td>2.887</td>\n",
       "      <td>OTHERS</td>\n",
       "      <td>NaN</td>\n",
       "      <td>NaN</td>\n",
       "      <td>0.296</td>\n",
       "      <td>NaN</td>\n",
       "      <td>NaN</td>\n",
       "      <td>1</td>\n",
       "      <td>0.296</td>\n",
       "      <td>PATRA</td>\n",
       "    </tr>\n",
       "  </tbody>\n",
       "</table>\n",
       "</div>"
      ],
      "text/plain": [
       "   S.NO  WARD           PID       BID   HOUSE.NO  FLOOR.NO TYPE OF PREMISES OWNERSHIP STATUS SHOP.NO TRADE LIC SUB TYPE COMMERCIAL SUB TYPE RESIDENTIAL RUNNING STATUS REGISTERED STATUS BUILDING COLOR TAX METHOD   AREA Signage_1 Signage_2 Signage_3  SignageArea_1  SignageArea_2  SignageArea_3  TOTAL SIGN BOARD  TOTAL  SIGN BOARD AREA SQMT TYPE OF BUILDING\n",
       "0     1     8   A1_1_8_1001  1_8_1001        NaN         0       COMMERCIAL       SELF OWNED     116  T/O/3015                SHOP                  NaN           OPEN               YES           Blue       AREA  3.909     PAINT       NaN       NaN          1.000            NaN            NaN                 1                        1.000            PATRA\n",
       "1     2     8   A1_1_8_1002  1_8_1002        NaN         0       COMMERCIAL              NaN     NaN       NaN                SHOP                  NaN         CLOSED               NaN         YELLOW       AREA    NaN       NaN       NaN       NaN            NaN            NaN            NaN                 0                        0.000            PATRA\n",
       "2     3     8   A1_1_8_1003  1_8_1003  8/03/238/         0       COMMERCIAL       SELF OWNED     102  T/O/3040              School                  NaN           OPEN               YES          Green       AREA  5.570     PAINT    OTHERS       NaN          2.000            NaN           0.82                 2                        2.820            PATRA\n",
       "3     4     8   A2_1_8_1004  1_8_1004     8/269/         0       COMMERCIAL       SELF OWNED     NaN  T/O/5696                SHOP                  NaN           OPEN               YES         Yellow       AREA  5.842       NaN       NaN       NaN            NaN            NaN            NaN                 0                        0.000            PATRA\n",
       "4     5     8  A1_1_ 8_1004  1_8_1004    8/269/1         0       COMMERCIAL       SELF OWNED     NaN       NaN                SHOP                  NaN           OPEN               YES         yellow       AREA  2.887    OTHERS       NaN       NaN          0.296            NaN            NaN                 1                        0.296            PATRA"
      ]
     },
     "execution_count": 4,
     "metadata": {},
     "output_type": "execute_result"
    }
   ],
   "source": [
    "ds.head()"
   ]
  },
  {
   "cell_type": "markdown",
   "metadata": {},
   "source": []
  },
  {
   "cell_type": "markdown",
   "metadata": {},
   "source": [
    "### Cleaning 'Building Colour' column"
   ]
  },
  {
   "cell_type": "code",
   "execution_count": 5,
   "metadata": {
    "scrolled": true
   },
   "outputs": [
    {
     "data": {
      "text/plain": [
       "BUILDING COLOR\n",
       "Blue                 3\n",
       "Blue                 4\n",
       "Green                2\n",
       "Green                6\n",
       "ORANGE             198\n",
       "Pink                 4\n",
       "Purple               1\n",
       "Purple               5\n",
       "RED                 47\n",
       "Red and yellow       1\n",
       "WHITE               12\n",
       "White               20\n",
       "White               31\n",
       "White and red        1\n",
       "YELLOW              61\n",
       "Yellow               3\n",
       "Yellow              15\n",
       "Yellow and red       5\n",
       "black                1\n",
       "blue                13\n",
       "blue                 6\n",
       "brown                7\n",
       "candy color          1\n",
       "cream               17\n",
       "cream colour         1\n",
       "faded orange         1\n",
       "green                6\n",
       "green                2\n",
       "green and red        1\n",
       "green and white      1\n",
       "grey                 1\n",
       "light pink           1\n",
       "mild green           1\n",
       "old colour           1\n",
       "orange               6\n",
       "orange               1\n",
       "pink                18\n",
       "pink                 6\n",
       "purple               1\n",
       "purple               1\n",
       "white               29\n",
       "white                7\n",
       "yello                1\n",
       "yelloe               1\n",
       "yellos               1\n",
       "yellow              25\n",
       "yellow              14\n",
       "dtype: int64"
      ]
     },
     "execution_count": 5,
     "metadata": {},
     "output_type": "execute_result"
    }
   ],
   "source": [
    "ds.groupby(['BUILDING COLOR']).size()"
   ]
  },
  {
   "cell_type": "markdown",
   "metadata": {},
   "source": [
    "#### There are lot of repeated values in 'Building Color' catagory"
   ]
  },
  {
   "cell_type": "code",
   "execution_count": 6,
   "metadata": {},
   "outputs": [],
   "source": [
    "## Converting to string format\n",
    "ds['BUILDING COLOR']  = ds['BUILDING COLOR'].astype('str')\n",
    "ds['BUILDING COLOR']  = ds['BUILDING COLOR'].apply(lambda x: x.upper())\n",
    "ds['BUILDING COLOR']  = ds['BUILDING COLOR'].apply(lambda x: x.replace(\" \",''))\n",
    "ds['BUILDING COLOR']  = ds['BUILDING COLOR'].apply(lambda x: x.replace(\"AND\",' & '))"
   ]
  },
  {
   "cell_type": "code",
   "execution_count": 7,
   "metadata": {
    "scrolled": true
   },
   "outputs": [
    {
     "data": {
      "text/plain": [
       "BUILDING COLOR\n",
       "BLACK              1\n",
       "BLUE              26\n",
       "BROWN              7\n",
       "C & YCOLOR         1\n",
       "CREAM             17\n",
       "CREAMCOLOUR        1\n",
       "FADEDORANGE        1\n",
       "GREEN             16\n",
       "GREEN & RED        1\n",
       "GREEN & WHITE      1\n",
       "GREY               1\n",
       "LIGHTPINK          1\n",
       "MILDGREEN          1\n",
       "OLDCOLOUR          1\n",
       "ORANGE           205\n",
       "PINK              28\n",
       "PURPLE             8\n",
       "RED               47\n",
       "RED & YELLOW       1\n",
       "WHITE             99\n",
       "WHITE & RED        1\n",
       "YELLO              1\n",
       "YELLOE             1\n",
       "YELLOS             1\n",
       "YELLOW           118\n",
       "YELLOW & RED       5\n",
       "dtype: int64"
      ]
     },
     "execution_count": 7,
     "metadata": {},
     "output_type": "execute_result"
    }
   ],
   "source": [
    "ds.groupby(['BUILDING COLOR']).size()"
   ]
  },
  {
   "cell_type": "code",
   "execution_count": 8,
   "metadata": {},
   "outputs": [],
   "source": [
    "ds['BUILDING COLOR']  = ds['BUILDING COLOR'].apply(lambda x: 'YELLOW' if ((x == 'YELLO') or (x == 'YELLOE') or (x == 'YELLOS')) else x)\n",
    "ds['BUILDING COLOR']  = ds['BUILDING COLOR'].apply(lambda x: 'CREAM' if (x == 'CREAMCOLOUR') else x)"
   ]
  },
  {
   "cell_type": "code",
   "execution_count": 9,
   "metadata": {
    "scrolled": true
   },
   "outputs": [
    {
     "data": {
      "text/plain": [
       "BUILDING COLOR\n",
       "BLACK              1\n",
       "BLUE              26\n",
       "BROWN              7\n",
       "C & YCOLOR         1\n",
       "CREAM             18\n",
       "FADEDORANGE        1\n",
       "GREEN             16\n",
       "GREEN & RED        1\n",
       "GREEN & WHITE      1\n",
       "GREY               1\n",
       "LIGHTPINK          1\n",
       "MILDGREEN          1\n",
       "OLDCOLOUR          1\n",
       "ORANGE           205\n",
       "PINK              28\n",
       "PURPLE             8\n",
       "RED               47\n",
       "RED & YELLOW       1\n",
       "WHITE             99\n",
       "WHITE & RED        1\n",
       "YELLOW           121\n",
       "YELLOW & RED       5\n",
       "dtype: int64"
      ]
     },
     "execution_count": 9,
     "metadata": {},
     "output_type": "execute_result"
    }
   ],
   "source": [
    "ds.groupby(['BUILDING COLOR']).size()"
   ]
  },
  {
   "cell_type": "markdown",
   "metadata": {},
   "source": [
    "#### 2. Checking and cleaning 'TYPE OF PREMISES' column"
   ]
  },
  {
   "cell_type": "code",
   "execution_count": 10,
   "metadata": {},
   "outputs": [
    {
     "data": {
      "text/plain": [
       "TYPE OF PREMISES\n",
       "COMMERCIAL             234\n",
       "GOVERNMENT PROPERTY     11\n",
       "RELIGIOUS                3\n",
       "RESIDENTIAL            342\n",
       "RESIDENTIAL              1\n",
       "dtype: int64"
      ]
     },
     "execution_count": 10,
     "metadata": {},
     "output_type": "execute_result"
    }
   ],
   "source": [
    "ds.groupby(['TYPE OF PREMISES']).size()"
   ]
  },
  {
   "cell_type": "code",
   "execution_count": 11,
   "metadata": {},
   "outputs": [],
   "source": [
    "ds['TYPE OF PREMISES']  = ds['TYPE OF PREMISES'].apply(lambda x: 'RESIDENTIAL' if ('RESIDENTIAL' in x) else x)"
   ]
  },
  {
   "cell_type": "code",
   "execution_count": 12,
   "metadata": {},
   "outputs": [
    {
     "data": {
      "text/plain": [
       "TYPE OF PREMISES\n",
       "COMMERCIAL             234\n",
       "GOVERNMENT PROPERTY     11\n",
       "RELIGIOUS                3\n",
       "RESIDENTIAL            343\n",
       "dtype: int64"
      ]
     },
     "execution_count": 12,
     "metadata": {},
     "output_type": "execute_result"
    }
   ],
   "source": [
    "ds.groupby(['TYPE OF PREMISES']).size()"
   ]
  },
  {
   "cell_type": "code",
   "execution_count": 13,
   "metadata": {},
   "outputs": [
    {
     "name": "stdout",
     "output_type": "stream",
     "text": [
      "yes\n"
     ]
    }
   ],
   "source": [
    "a = 'qwer a'\n",
    "if ' ' in a:\n",
    "    print ('yes')"
   ]
  },
  {
   "cell_type": "markdown",
   "metadata": {},
   "source": [
    "#### 3. Checking and cleaning 'SUB TYPE COMMERCIAL' column"
   ]
  },
  {
   "cell_type": "code",
   "execution_count": 14,
   "metadata": {
    "scrolled": true
   },
   "outputs": [
    {
     "data": {
      "text/plain": [
       "SUB TYPE COMMERCIAL\n",
       "AUTOMOBIE                 1\n",
       "CHAMBERS                  2\n",
       "ELECTRICAL                1\n",
       "ENGINEERING               1\n",
       "Financial                 2\n",
       "Goldsmith                 5\n",
       "JEWELERY                  1\n",
       "MACHINERY                 1\n",
       "MEDICINE                  1\n",
       "OFFICE                   11\n",
       "SERVICE AND PRODUCTS      1\n",
       "SHOP                    211\n",
       "STEEL                     1\n",
       "School                    1\n",
       "Survey Consultant         1\n",
       "THERAPIST                 1\n",
       "WATER SOLUTION            1\n",
       "WOOD SHOP                 1\n",
       "dtype: int64"
      ]
     },
     "execution_count": 14,
     "metadata": {},
     "output_type": "execute_result"
    }
   ],
   "source": [
    "ds.groupby(['SUB TYPE COMMERCIAL']).size()"
   ]
  },
  {
   "cell_type": "code",
   "execution_count": 15,
   "metadata": {},
   "outputs": [],
   "source": [
    "ds['SUB TYPE COMMERCIAL']  = ds['SUB TYPE COMMERCIAL'].astype('str')\n",
    "ds['SUB TYPE COMMERCIAL']  = ds['SUB TYPE COMMERCIAL'].apply(lambda x: x.upper())\n",
    "ds['SUB TYPE COMMERCIAL']  = ds['SUB TYPE COMMERCIAL'].apply(lambda x: np.nan if x== 'NAN' else x)"
   ]
  },
  {
   "cell_type": "code",
   "execution_count": 16,
   "metadata": {},
   "outputs": [
    {
     "data": {
      "text/plain": [
       "SUB TYPE COMMERCIAL\n",
       "AUTOMOBIE                 1\n",
       "CHAMBERS                  2\n",
       "ELECTRICAL                1\n",
       "ENGINEERING               1\n",
       "FINANCIAL                 2\n",
       "GOLDSMITH                 5\n",
       "JEWELERY                  1\n",
       "MACHINERY                 1\n",
       "MEDICINE                  1\n",
       "OFFICE                   11\n",
       "SCHOOL                    1\n",
       "SERVICE AND PRODUCTS      1\n",
       "SHOP                    211\n",
       "STEEL                     1\n",
       "SURVEY CONSULTANT         1\n",
       "THERAPIST                 1\n",
       "WATER SOLUTION            1\n",
       "WOOD SHOP                 1\n",
       "dtype: int64"
      ]
     },
     "execution_count": 16,
     "metadata": {},
     "output_type": "execute_result"
    }
   ],
   "source": [
    "ds.groupby(['SUB TYPE COMMERCIAL']).size()"
   ]
  },
  {
   "cell_type": "code",
   "execution_count": 17,
   "metadata": {},
   "outputs": [
    {
     "data": {
      "text/plain": [
       "TYPE OF BUILDING\n",
       "OPEN PLOT               1\n",
       "PATRA                  35\n",
       "RCC                   400\n",
       "RCC/ROOF HOUSE         59\n",
       "ROOF HOUSE             88\n",
       "UNDER CONSTRUCTION      8\n",
       "dtype: int64"
      ]
     },
     "execution_count": 17,
     "metadata": {},
     "output_type": "execute_result"
    }
   ],
   "source": [
    "ds.groupby(['TYPE OF BUILDING']).size()"
   ]
  },
  {
   "cell_type": "code",
   "execution_count": 18,
   "metadata": {},
   "outputs": [
    {
     "name": "stdout",
     "output_type": "stream",
     "text": [
      "<class 'pandas.core.frame.DataFrame'>\n",
      "RangeIndex: 591 entries, 0 to 590\n",
      "Data columns (total 26 columns):\n",
      "S.NO                           591 non-null int64\n",
      "WARD                           591 non-null int64\n",
      "PID                            591 non-null object\n",
      "BID                            591 non-null object\n",
      "HOUSE.NO                       428 non-null object\n",
      "FLOOR.NO                       591 non-null int64\n",
      "TYPE OF PREMISES               591 non-null object\n",
      "OWNERSHIP STATUS               432 non-null object\n",
      "SHOP.NO                        62 non-null object\n",
      "TRADE LIC                      99 non-null object\n",
      "SUB TYPE COMMERCIAL            244 non-null object\n",
      "SUB TYPE RESIDENTIAL           322 non-null object\n",
      "RUNNING STATUS                 591 non-null object\n",
      "REGISTERED STATUS              369 non-null object\n",
      "BUILDING COLOR                 591 non-null object\n",
      "TAX METHOD                     591 non-null object\n",
      "AREA                           409 non-null float64\n",
      "Signage_1                      134 non-null object\n",
      "Signage_2                      66 non-null object\n",
      "Signage_3                      51 non-null object\n",
      "SignageArea_1                  132 non-null float64\n",
      "SignageArea_2                  70 non-null float64\n",
      "SignageArea_3                  52 non-null float64\n",
      "TOTAL SIGN BOARD               591 non-null int64\n",
      "TOTAL  SIGN BOARD AREA SQMT    591 non-null float64\n",
      "TYPE OF BUILDING               591 non-null object\n",
      "dtypes: float64(5), int64(4), object(17)\n",
      "memory usage: 120.1+ KB\n"
     ]
    }
   ],
   "source": [
    "ds.info()"
   ]
  },
  {
   "cell_type": "code",
   "execution_count": 19,
   "metadata": {},
   "outputs": [
    {
     "data": {
      "text/plain": [
       "Signage_1\n",
       "0         46\n",
       "GLASS      1\n",
       "GLOSSY    21\n",
       "OTHERS    39\n",
       "PAINT     27\n",
       "dtype: int64"
      ]
     },
     "execution_count": 19,
     "metadata": {},
     "output_type": "execute_result"
    }
   ],
   "source": [
    "ds.groupby(['Signage_1']).size()"
   ]
  },
  {
   "cell_type": "code",
   "execution_count": 20,
   "metadata": {},
   "outputs": [
    {
     "data": {
      "text/plain": [
       "Signage_1\n",
       "GLASS      1\n",
       "GLOSSY    21\n",
       "OTHERS    39\n",
       "PAINT     27\n",
       "dtype: int64"
      ]
     },
     "execution_count": 20,
     "metadata": {},
     "output_type": "execute_result"
    }
   ],
   "source": [
    "ds['Signage_1']  = ds['Signage_1'].apply(lambda x: np.nan if x== 0 else x)\n",
    "ds.groupby(['Signage_1']).size()"
   ]
  },
  {
   "cell_type": "code",
   "execution_count": 21,
   "metadata": {},
   "outputs": [
    {
     "data": {
      "text/plain": [
       "(Signage_2\n",
       " 0         46\n",
       " GLOSSY     4\n",
       " OTHERS     9\n",
       " PAINT      7\n",
       " dtype: int64, Signage_3\n",
       " 0         46\n",
       " GLOSSY     3\n",
       " OTHERS     1\n",
       " PAINT      1\n",
       " dtype: int64)"
      ]
     },
     "execution_count": 21,
     "metadata": {},
     "output_type": "execute_result"
    }
   ],
   "source": [
    "ds.groupby(['Signage_2']).size(), ds.groupby(['Signage_3']).size()"
   ]
  },
  {
   "cell_type": "code",
   "execution_count": 22,
   "metadata": {},
   "outputs": [],
   "source": [
    "ds['Signage_2']  = ds['Signage_2'].apply(lambda x: np.nan if x == 0 else x)\n",
    "ds['Signage_3']  = ds['Signage_3'].apply(lambda x: np.nan if x == 0 else x)"
   ]
  },
  {
   "cell_type": "code",
   "execution_count": 23,
   "metadata": {},
   "outputs": [
    {
     "data": {
      "text/plain": [
       "(Signage_2\n",
       " GLOSSY    4\n",
       " OTHERS    9\n",
       " PAINT     7\n",
       " dtype: int64, Signage_3\n",
       " GLOSSY    3\n",
       " OTHERS    1\n",
       " PAINT     1\n",
       " dtype: int64)"
      ]
     },
     "execution_count": 23,
     "metadata": {},
     "output_type": "execute_result"
    }
   ],
   "source": [
    "ds.groupby(['Signage_2']).size(), ds.groupby(['Signage_3']).size()"
   ]
  },
  {
   "cell_type": "code",
   "execution_count": 24,
   "metadata": {},
   "outputs": [
    {
     "data": {
      "text/plain": [
       "REGISTERED STATUS\n",
       "YES    369\n",
       "dtype: int64"
      ]
     },
     "execution_count": 24,
     "metadata": {},
     "output_type": "execute_result"
    }
   ],
   "source": [
    "ds.groupby(['REGISTERED STATUS']).size()"
   ]
  },
  {
   "cell_type": "code",
   "execution_count": 25,
   "metadata": {},
   "outputs": [
    {
     "data": {
      "text/plain": [
       "REGISTERED STATUS\n",
       "No     222\n",
       "YES    369\n",
       "dtype: int64"
      ]
     },
     "execution_count": 25,
     "metadata": {},
     "output_type": "execute_result"
    }
   ],
   "source": [
    "ds['REGISTERED STATUS'] = ds['REGISTERED STATUS'].fillna('No')\n",
    "ds.groupby(['REGISTERED STATUS']).size()"
   ]
  },
  {
   "cell_type": "code",
   "execution_count": null,
   "metadata": {},
   "outputs": [],
   "source": []
  },
  {
   "cell_type": "code",
   "execution_count": 26,
   "metadata": {},
   "outputs": [],
   "source": [
    "#ds.to_excel('DataClean.xlsx')"
   ]
  },
  {
   "cell_type": "markdown",
   "metadata": {},
   "source": [
    "## Iniating Prediction Process"
   ]
  },
  {
   "cell_type": "code",
   "execution_count": 27,
   "metadata": {},
   "outputs": [],
   "source": [
    "dsRes = ds[ds['TYPE OF PREMISES'] == 'RESIDENTIAL']\n",
    "dsCom = ds[ds['TYPE OF PREMISES'] == 'COMMERCIAL']\n",
    "dsGov = ds[ds['TYPE OF PREMISES'] == 'GOVERNMENT PROPERTY']\n",
    "dsRel = ds[ds['TYPE OF PREMISES'] == 'RELIGIOUS']\n",
    "\n"
   ]
  },
  {
   "cell_type": "code",
   "execution_count": 30,
   "metadata": {},
   "outputs": [
    {
     "data": {
      "text/plain": [
       "OWNERSHIP STATUS\n",
       "RENTED         42\n",
       "SELF OWNED    390\n",
       "dtype: int64"
      ]
     },
     "execution_count": 30,
     "metadata": {},
     "output_type": "execute_result"
    }
   ],
   "source": [
    "own = ds.groupby(['OWNERSHIP STATUS']).size()\n",
    "own"
   ]
  },
  {
   "cell_type": "code",
   "execution_count": 33,
   "metadata": {},
   "outputs": [
    {
     "data": {
      "text/plain": [
       "42"
      ]
     },
     "execution_count": 33,
     "metadata": {},
     "output_type": "execute_result"
    }
   ],
   "source": [
    "rent_tot = own['RENTED']\n",
    "self_tot = own['SELF OWNED']\n",
    "own['RENTED']"
   ]
  },
  {
   "cell_type": "code",
   "execution_count": 34,
   "metadata": {},
   "outputs": [
    {
     "data": {
      "text/plain": [
       "OWNERSHIP STATUS\n",
       "RENTED         40\n",
       "SELF OWNED    127\n",
       "dtype: int64"
      ]
     },
     "execution_count": 34,
     "metadata": {},
     "output_type": "execute_result"
    }
   ],
   "source": [
    "ownCom = dsCom.groupby(['OWNERSHIP STATUS']).size()\n",
    "ownCom"
   ]
  },
  {
   "cell_type": "code",
   "execution_count": 35,
   "metadata": {},
   "outputs": [
    {
     "data": {
      "text/plain": [
       "17.094017094017094"
      ]
     },
     "execution_count": 35,
     "metadata": {},
     "output_type": "execute_result"
    }
   ],
   "source": [
    "percent_rent = 100*ownCom[0]/len(dsCom)\n",
    "percent_rent"
   ]
  },
  {
   "cell_type": "code",
   "execution_count": 36,
   "metadata": {},
   "outputs": [
    {
     "data": {
      "text/plain": [
       "54.27350427350427"
      ]
     },
     "execution_count": 36,
     "metadata": {},
     "output_type": "execute_result"
    }
   ],
   "source": [
    "percent_self = 100*ownCom[1]/len(dsCom)\n",
    "percent_self"
   ]
  },
  {
   "cell_type": "markdown",
   "metadata": {},
   "source": [
    "#### Percentage division between the permises "
   ]
  },
  {
   "cell_type": "code",
   "execution_count": 37,
   "metadata": {},
   "outputs": [
    {
     "data": {
      "text/plain": [
       "(58.03722504230119, 39.59390862944162, 1.8612521150592216, 0.5076142131979695)"
      ]
     },
     "execution_count": 37,
     "metadata": {},
     "output_type": "execute_result"
    }
   ],
   "source": [
    "percent_Res = 100* len(dsRes)/len(ds)\n",
    "percent_Com = 100* len(dsCom)/len(ds)\n",
    "percent_Gov = 100* len(dsGov)/len(ds)\n",
    "percent_Relig = 100* len(dsRel)/len(ds)\n",
    "percent_Res, percent_Com, percent_Gov, percent_Relig"
   ]
  },
  {
   "cell_type": "markdown",
   "metadata": {},
   "source": [
    "#### Area division between the premises"
   ]
  },
  {
   "cell_type": "code",
   "execution_count": 55,
   "metadata": {},
   "outputs": [],
   "source": [
    "area_tot = sum(ds[ds['AREA'].notnull()]['AREA'])\n",
    "area_res = sum(dsRes[dsRes['AREA'].notnull()]['AREA'])\n",
    "area_com = sum(dsCom[dsCom['AREA'].notnull()]['AREA'])\n",
    "area_gov = sum(dsGov[dsGov['AREA'].notnull()]['AREA'])\n",
    "area_rel = sum(dsRel[dsRel['AREA'].notnull()]['AREA'])"
   ]
  },
  {
   "cell_type": "code",
   "execution_count": 70,
   "metadata": {},
   "outputs": [
    {
     "data": {
      "text/plain": [
       "(11184.201010965193, 8014.693898027899, 2734.283112937283, 235.224, 200.0)"
      ]
     },
     "execution_count": 70,
     "metadata": {},
     "output_type": "execute_result"
    }
   ],
   "source": [
    "area_tot, area_res, area_com, area_gov, area_rel"
   ]
  },
  {
   "cell_type": "code",
   "execution_count": 57,
   "metadata": {},
   "outputs": [
    {
     "data": {
      "text/plain": [
       "19      True\n",
       "212    False\n",
       "242    False\n",
       "Name: AREA, dtype: bool"
      ]
     },
     "execution_count": 57,
     "metadata": {},
     "output_type": "execute_result"
    }
   ],
   "source": [
    "dsRel['AREA'].notnull()"
   ]
  },
  {
   "cell_type": "code",
   "execution_count": 58,
   "metadata": {},
   "outputs": [],
   "source": [
    "area_Pres = round(100*area_res/area_tot,2)\n",
    "area_Pcom = round(100*area_com/area_tot,2)\n",
    "area_Pgov = round(100*area_gov/area_tot,2)\n",
    "area_Prel = round(100*area_rel/area_tot,2)"
   ]
  },
  {
   "cell_type": "code",
   "execution_count": 59,
   "metadata": {},
   "outputs": [
    {
     "data": {
      "text/plain": [
       "(71.66, 24.45, 2.1, 1.79)"
      ]
     },
     "execution_count": 59,
     "metadata": {},
     "output_type": "execute_result"
    }
   ],
   "source": [
    "area_Pres, area_Pcom, area_Pgov, area_Prel"
   ]
  },
  {
   "cell_type": "code",
   "execution_count": 72,
   "metadata": {},
   "outputs": [
    {
     "data": {
      "text/plain": [
       "(409, 237, 170, 1, 1)"
      ]
     },
     "execution_count": 72,
     "metadata": {},
     "output_type": "execute_result"
    }
   ],
   "source": [
    "#### Finding number of permises whose 'AREA' data is given\n",
    "area_counttot = sum(ds['AREA'].notnull())\n",
    "area_countres = sum(dsRes['AREA'].notnull())\n",
    "area_countcom = sum(dsCom['AREA'].notnull())\n",
    "area_countgov = sum(dsGov['AREA'].notnull())\n",
    "area_countrel = sum(dsRel['AREA'].notnull())\n",
    "area_counttot, area_countres, area_countcom, area_countgov, area_countrel"
   ]
  },
  {
   "cell_type": "code",
   "execution_count": 62,
   "metadata": {},
   "outputs": [],
   "source": [
    "avgarea_res = area_res/area_countres\n",
    "avgarea_com = area_com/area_countcom\n",
    "avgarea_gov = area_gov/area_countgov\n",
    "avgarea_rel = area_rel/area_countrel"
   ]
  },
  {
   "cell_type": "code",
   "execution_count": 64,
   "metadata": {},
   "outputs": [
    {
     "data": {
      "text/plain": [
       "(33.817273831341346, 16.084018311395784, 235.224, 200.0)"
      ]
     },
     "execution_count": 64,
     "metadata": {},
     "output_type": "execute_result"
    }
   ],
   "source": [
    "avgarea_res, avgarea_com, avgarea_gov, avgarea_rel"
   ]
  },
  {
   "cell_type": "code",
   "execution_count": 38,
   "metadata": {},
   "outputs": [],
   "source": [
    "### 1. Of all the permises 58% are residential permises, 40% are commercial permises, 2% are governemnt permises\n",
    "### 2. Of all commercial permises 17% are rented, 55% are self-owned\n",
    "### 3. Avg area for resideny = 33.8, commercial = 16.08, Gov = 235.22, Rel = 200\n"
   ]
  },
  {
   "cell_type": "code",
   "execution_count": 68,
   "metadata": {},
   "outputs": [],
   "source": [
    "### Total Area Prediction\n",
    "res_totarea = avgarea_res*len(dsRes)\n",
    "com_totarea = avgarea_com*len(dsCom)\n",
    "gov_totarea = avgarea_gov*len(dsGov)\n",
    "rel_totarea = avgarea_rel*len(dsRel)"
   ]
  },
  {
   "cell_type": "code",
   "execution_count": 69,
   "metadata": {},
   "outputs": [
    {
     "data": {
      "text/plain": [
       "(11599.324924150082, 3763.6602848666134, 2587.464, 600.0)"
      ]
     },
     "execution_count": 69,
     "metadata": {},
     "output_type": "execute_result"
    }
   ],
   "source": [
    "res_totarea, com_totarea, gov_totarea, rel_totarea"
   ]
  },
  {
   "cell_type": "code",
   "execution_count": 71,
   "metadata": {},
   "outputs": [
    {
     "data": {
      "text/plain": [
       "(8014.693898027899, 2734.283112937283, 235.224, 200.0)"
      ]
     },
     "execution_count": 71,
     "metadata": {},
     "output_type": "execute_result"
    }
   ],
   "source": [
    "area_res, area_com, area_gov, area_rel"
   ]
  },
  {
   "cell_type": "code",
   "execution_count": 73,
   "metadata": {},
   "outputs": [
    {
     "data": {
      "text/plain": [
       "(234, 343, 11, 3)"
      ]
     },
     "execution_count": 73,
     "metadata": {},
     "output_type": "execute_result"
    }
   ],
   "source": [
    "len(dsCom), len(dsRes), len(dsGov), len(dsRel)"
   ]
  },
  {
   "cell_type": "markdown",
   "metadata": {},
   "source": [
    "### Analysing Commercial Premises\n",
    "\n",
    "#### Relating Total Sign Board Area with Premises Area"
   ]
  },
  {
   "cell_type": "code",
   "execution_count": 122,
   "metadata": {},
   "outputs": [
    {
     "name": "stdout",
     "output_type": "stream",
     "text": [
      "170\n"
     ]
    }
   ],
   "source": [
    "## Extracting where 'AREA' is not null\n",
    "dscom2 = dsCom[dsCom['AREA'].notnull()]\n",
    "print(len(dscom2))\n",
    "dscom_Mis = dscom2[dscom2['TOTAL  SIGN BOARD AREA SQMT'] == 0.0]\n",
    "## Removing Datapoints for Missing 'TotalSIgnBoardArea' data\n",
    "dscom2 = dscom2[dscom2['TOTAL  SIGN BOARD AREA SQMT'] != 0.0]\n",
    "dscom2 = dscom2.sort_values(by= ['AREA']).reset_index(drop = True)"
   ]
  },
  {
   "cell_type": "code",
   "execution_count": 98,
   "metadata": {},
   "outputs": [
    {
     "data": {
      "text/plain": [
       "[<matplotlib.lines.Line2D at 0x2474dae4da0>]"
      ]
     },
     "execution_count": 98,
     "metadata": {},
     "output_type": "execute_result"
    },
    {
     "data": {
      "image/png": "[encoded data removed]",
      "text/plain": [
       "<Figure size 432x288 with 1 Axes>"
      ]
     },
     "metadata": {},
     "output_type": "display_data"
    }
   ],
   "source": [
    "area = dscom2['AREA']\n",
    "sbarea = dscom2['TOTAL  SIGN BOARD AREA SQMT']\n",
    "plt.plot(area, sbarea, 'b.')\n",
    "                "
   ]
  },
  {
   "cell_type": "markdown",
   "metadata": {},
   "source": [
    "### Using Sklearn Library to generate a linear model between them"
   ]
  },
  {
   "cell_type": "code",
   "execution_count": 99,
   "metadata": {},
   "outputs": [],
   "source": [
    "from sklearn.linear_model import LinearRegression"
   ]
  },
  {
   "cell_type": "code",
   "execution_count": 102,
   "metadata": {},
   "outputs": [
    {
     "name": "stderr",
     "output_type": "stream",
     "text": [
      "C:\\Users\\manje_000\\AppData\\Local\\Programs\\Python\\Python36\\lib\\site-packages\\ipykernel_launcher.py:2: FutureWarning: reshape is deprecated and will raise in a subsequent release. Please use .values.reshape(...) instead\n",
      "  \n",
      "C:\\Users\\manje_000\\AppData\\Local\\Programs\\Python\\Python36\\lib\\site-packages\\ipykernel_launcher.py:3: FutureWarning: reshape is deprecated and will raise in a subsequent release. Please use .values.reshape(...) instead\n",
      "  This is separate from the ipykernel package so we can avoid doing imports until\n"
     ]
    },
    {
     "data": {
      "text/plain": [
       "[<matplotlib.lines.Line2D at 0x2474db54a90>,\n",
       " <matplotlib.lines.Line2D at 0x2474db54f60>]"
      ]
     },
     "execution_count": 102,
     "metadata": {},
     "output_type": "execute_result"
    },
    {
     "data": {
      "image/png": "[encoded data removed]",
      "text/plain": [
       "<Figure size 432x288 with 1 Axes>"
      ]
     },
     "metadata": {},
     "output_type": "display_data"
    }
   ],
   "source": [
    "regr = LinearRegression()\n",
    "regr.fit(area.reshape(-1,1), sbarea)\n",
    "plt.plot(area, sbarea, 'b.', area, regr.predict(area.reshape(-1,1)), 'r-')"
   ]
  },
  {
   "cell_type": "code",
   "execution_count": 101,
   "metadata": {},
   "outputs": [
    {
     "data": {
      "text/plain": [
       "array([0.01918301])"
      ]
     },
     "execution_count": 101,
     "metadata": {},
     "output_type": "execute_result"
    }
   ],
   "source": [
    "regr.coef_"
   ]
  },
  {
   "cell_type": "markdown",
   "metadata": {},
   "source": [
    "#### Predicting Missing Values for 'total SignBoard Area'"
   ]
  },
  {
   "cell_type": "code",
   "execution_count": 104,
   "metadata": {},
   "outputs": [],
   "source": [
    "areaMis = dscom_Mis['AREA']"
   ]
  },
  {
   "cell_type": "code",
   "execution_count": 123,
   "metadata": {},
   "outputs": [
    {
     "name": "stderr",
     "output_type": "stream",
     "text": [
      "C:\\Users\\manje_000\\AppData\\Local\\Programs\\Python\\Python36\\lib\\site-packages\\ipykernel_launcher.py:3: FutureWarning: reshape is deprecated and will raise in a subsequent release. Please use .values.reshape(...) instead\n",
      "  This is separate from the ipykernel package so we can avoid doing imports until\n"
     ]
    },
    {
     "data": {
      "image/png": "[encoded data removed]",
      "text/plain": [
       "<Figure size 864x288 with 1 Axes>"
      ]
     },
     "metadata": {},
     "output_type": "display_data"
    }
   ],
   "source": [
    "plt.rcParams['figure.figsize'] = [12,4]\n",
    "plt.plot(area, sbarea, 'b.',label=\"Actual Total Sign Board Area\")\n",
    "plt.plot(areaMis, regr.predict(areaMis.reshape(-1,1)), 'r.', label=\"Predicted Total Sign Board Area\")\n",
    "plt.xlabel('Premises Area')\n",
    "plt.ylabel('Total Sign Board Area')\n",
    "plt.legend()\n",
    "plt.savefig('Predict.png')"
   ]
  },
  {
   "cell_type": "code",
   "execution_count": 121,
   "metadata": {},
   "outputs": [
    {
     "data": {
      "text/plain": [
       "(74, 96, 74)"
      ]
     },
     "execution_count": 121,
     "metadata": {},
     "output_type": "execute_result"
    }
   ],
   "source": [
    "len(area), len(areaMis), len(dscom2)"
   ]
  },
  {
   "cell_type": "code",
   "execution_count": null,
   "metadata": {},
   "outputs": [],
   "source": []
  }
 ],
 "metadata": {
  "kernelspec": {
   "display_name": "Python 3",
   "language": "python",
   "name": "python3"
  },
  "language_info": {
   "codemirror_mode": {
    "name": "ipython",
    "version": 3
   },
   "file_extension": ".py",
   "mimetype": "text/x-python",
   "name": "python",
   "nbconvert_exporter": "python",
   "pygments_lexer": "ipython3",
   "version": "3.6.4"
  }
 },
 "nbformat": 4,
 "nbformat_minor": 2
}
